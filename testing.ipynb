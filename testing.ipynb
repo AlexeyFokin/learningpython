{
 "cells": [
  {
   "cell_type": "code",
   "execution_count": 1,
   "metadata": {},
   "outputs": [],
   "source": [
    "import pandas as pd\n"
   ]
  },
  {
   "cell_type": "code",
   "execution_count": 29,
   "metadata": {},
   "outputs": [
    {
     "ename": "ValueError",
     "evalue": "The truth value of an array with more than one element is ambiguous. Use a.any() or a.all()",
     "output_type": "error",
     "traceback": [
      "\u001b[1;31m---------------------------------------------------------------------------\u001b[0m",
      "\u001b[1;31mValueError\u001b[0m                                Traceback (most recent call last)",
      "\u001b[1;32m<ipython-input-29-b18b5d8131a7>\u001b[0m in \u001b[0;36m<module>\u001b[1;34m\u001b[0m\n\u001b[0;32m      4\u001b[0m \u001b[1;33m\u001b[0m\u001b[0m\n\u001b[0;32m      5\u001b[0m \u001b[1;33m\u001b[0m\u001b[0m\n\u001b[1;32m----> 6\u001b[1;33m \u001b[0ma\u001b[0m\u001b[1;33m[\u001b[0m\u001b[0ma\u001b[0m \u001b[1;33m==\u001b[0m \u001b[1;36m3\u001b[0m \u001b[1;32mor\u001b[0m \u001b[0ma\u001b[0m \u001b[1;33m==\u001b[0m \u001b[1;36m5\u001b[0m\u001b[1;33m]\u001b[0m\u001b[1;33m\u001b[0m\u001b[1;33m\u001b[0m\u001b[0m\n\u001b[0m",
      "\u001b[1;31mValueError\u001b[0m: The truth value of an array with more than one element is ambiguous. Use a.any() or a.all()"
     ]
    }
   ],
   "source": [
    "import numpy as np\n",
    "\n",
    "a = np.array([1,3,5,7,10])\n",
    "\n",
    "\n",
    "a[a == 3 ]"
   ]
  },
  {
   "cell_type": "code",
   "execution_count": 33,
   "metadata": {},
   "outputs": [
    {
     "data": {
      "application/javascript": [
       "/* Put everything inside the global mpl namespace */\n",
       "window.mpl = {};\n",
       "\n",
       "\n",
       "mpl.get_websocket_type = function() {\n",
       "    if (typeof(WebSocket) !== 'undefined') {\n",
       "        return WebSocket;\n",
       "    } else if (typeof(MozWebSocket) !== 'undefined') {\n",
       "        return MozWebSocket;\n",
       "    } else {\n",
       "        alert('Your browser does not have WebSocket support. ' +\n",
       "              'Please try Chrome, Safari or Firefox ≥ 6. ' +\n",
       "              'Firefox 4 and 5 are also supported but you ' +\n",
       "              'have to enable WebSockets in about:config.');\n",
       "    };\n",
       "}\n",
       "\n",
       "mpl.figure = function(figure_id, websocket, ondownload, parent_element) {\n",
       "    this.id = figure_id;\n",
       "\n",
       "    this.ws = websocket;\n",
       "\n",
       "    this.supports_binary = (this.ws.binaryType != undefined);\n",
       "\n",
       "    if (!this.supports_binary) {\n",
       "        var warnings = document.getElementById(\"mpl-warnings\");\n",
       "        if (warnings) {\n",
       "            warnings.style.display = 'block';\n",
       "            warnings.textContent = (\n",
       "                \"This browser does not support binary websocket messages. \" +\n",
       "                    \"Performance may be slow.\");\n",
       "        }\n",
       "    }\n",
       "\n",
       "    this.imageObj = new Image();\n",
       "\n",
       "    this.context = undefined;\n",
       "    this.message = undefined;\n",
       "    this.canvas = undefined;\n",
       "    this.rubberband_canvas = undefined;\n",
       "    this.rubberband_context = undefined;\n",
       "    this.format_dropdown = undefined;\n",
       "\n",
       "    this.image_mode = 'full';\n",
       "\n",
       "    this.root = $('<div/>');\n",
       "    this._root_extra_style(this.root)\n",
       "    this.root.attr('style', 'display: inline-block');\n",
       "\n",
       "    $(parent_element).append(this.root);\n",
       "\n",
       "    this._init_header(this);\n",
       "    this._init_canvas(this);\n",
       "    this._init_toolbar(this);\n",
       "\n",
       "    var fig = this;\n",
       "\n",
       "    this.waiting = false;\n",
       "\n",
       "    this.ws.onopen =  function () {\n",
       "            fig.send_message(\"supports_binary\", {value: fig.supports_binary});\n",
       "            fig.send_message(\"send_image_mode\", {});\n",
       "            if (mpl.ratio != 1) {\n",
       "                fig.send_message(\"set_dpi_ratio\", {'dpi_ratio': mpl.ratio});\n",
       "            }\n",
       "            fig.send_message(\"refresh\", {});\n",
       "        }\n",
       "\n",
       "    this.imageObj.onload = function() {\n",
       "            if (fig.image_mode == 'full') {\n",
       "                // Full images could contain transparency (where diff images\n",
       "                // almost always do), so we need to clear the canvas so that\n",
       "                // there is no ghosting.\n",
       "                fig.context.clearRect(0, 0, fig.canvas.width, fig.canvas.height);\n",
       "            }\n",
       "            fig.context.drawImage(fig.imageObj, 0, 0);\n",
       "        };\n",
       "\n",
       "    this.imageObj.onunload = function() {\n",
       "        fig.ws.close();\n",
       "    }\n",
       "\n",
       "    this.ws.onmessage = this._make_on_message_function(this);\n",
       "\n",
       "    this.ondownload = ondownload;\n",
       "}\n",
       "\n",
       "mpl.figure.prototype._init_header = function() {\n",
       "    var titlebar = $(\n",
       "        '<div class=\"ui-dialog-titlebar ui-widget-header ui-corner-all ' +\n",
       "        'ui-helper-clearfix\"/>');\n",
       "    var titletext = $(\n",
       "        '<div class=\"ui-dialog-title\" style=\"width: 100%; ' +\n",
       "        'text-align: center; padding: 3px;\"/>');\n",
       "    titlebar.append(titletext)\n",
       "    this.root.append(titlebar);\n",
       "    this.header = titletext[0];\n",
       "}\n",
       "\n",
       "\n",
       "\n",
       "mpl.figure.prototype._canvas_extra_style = function(canvas_div) {\n",
       "\n",
       "}\n",
       "\n",
       "\n",
       "mpl.figure.prototype._root_extra_style = function(canvas_div) {\n",
       "\n",
       "}\n",
       "\n",
       "mpl.figure.prototype._init_canvas = function() {\n",
       "    var fig = this;\n",
       "\n",
       "    var canvas_div = $('<div/>');\n",
       "\n",
       "    canvas_div.attr('style', 'position: relative; clear: both; outline: 0');\n",
       "\n",
       "    function canvas_keyboard_event(event) {\n",
       "        return fig.key_event(event, event['data']);\n",
       "    }\n",
       "\n",
       "    canvas_div.keydown('key_press', canvas_keyboard_event);\n",
       "    canvas_div.keyup('key_release', canvas_keyboard_event);\n",
       "    this.canvas_div = canvas_div\n",
       "    this._canvas_extra_style(canvas_div)\n",
       "    this.root.append(canvas_div);\n",
       "\n",
       "    var canvas = $('<canvas/>');\n",
       "    canvas.addClass('mpl-canvas');\n",
       "    canvas.attr('style', \"left: 0; top: 0; z-index: 0; outline: 0\")\n",
       "\n",
       "    this.canvas = canvas[0];\n",
       "    this.context = canvas[0].getContext(\"2d\");\n",
       "\n",
       "    var backingStore = this.context.backingStorePixelRatio ||\n",
       "\tthis.context.webkitBackingStorePixelRatio ||\n",
       "\tthis.context.mozBackingStorePixelRatio ||\n",
       "\tthis.context.msBackingStorePixelRatio ||\n",
       "\tthis.context.oBackingStorePixelRatio ||\n",
       "\tthis.context.backingStorePixelRatio || 1;\n",
       "\n",
       "    mpl.ratio = (window.devicePixelRatio || 1) / backingStore;\n",
       "\n",
       "    var rubberband = $('<canvas/>');\n",
       "    rubberband.attr('style', \"position: absolute; left: 0; top: 0; z-index: 1;\")\n",
       "\n",
       "    var pass_mouse_events = true;\n",
       "\n",
       "    canvas_div.resizable({\n",
       "        start: function(event, ui) {\n",
       "            pass_mouse_events = false;\n",
       "        },\n",
       "        resize: function(event, ui) {\n",
       "            fig.request_resize(ui.size.width, ui.size.height);\n",
       "        },\n",
       "        stop: function(event, ui) {\n",
       "            pass_mouse_events = true;\n",
       "            fig.request_resize(ui.size.width, ui.size.height);\n",
       "        },\n",
       "    });\n",
       "\n",
       "    function mouse_event_fn(event) {\n",
       "        if (pass_mouse_events)\n",
       "            return fig.mouse_event(event, event['data']);\n",
       "    }\n",
       "\n",
       "    rubberband.mousedown('button_press', mouse_event_fn);\n",
       "    rubberband.mouseup('button_release', mouse_event_fn);\n",
       "    // Throttle sequential mouse events to 1 every 20ms.\n",
       "    rubberband.mousemove('motion_notify', mouse_event_fn);\n",
       "\n",
       "    rubberband.mouseenter('figure_enter', mouse_event_fn);\n",
       "    rubberband.mouseleave('figure_leave', mouse_event_fn);\n",
       "\n",
       "    canvas_div.on(\"wheel\", function (event) {\n",
       "        event = event.originalEvent;\n",
       "        event['data'] = 'scroll'\n",
       "        if (event.deltaY < 0) {\n",
       "            event.step = 1;\n",
       "        } else {\n",
       "            event.step = -1;\n",
       "        }\n",
       "        mouse_event_fn(event);\n",
       "    });\n",
       "\n",
       "    canvas_div.append(canvas);\n",
       "    canvas_div.append(rubberband);\n",
       "\n",
       "    this.rubberband = rubberband;\n",
       "    this.rubberband_canvas = rubberband[0];\n",
       "    this.rubberband_context = rubberband[0].getContext(\"2d\");\n",
       "    this.rubberband_context.strokeStyle = \"#000000\";\n",
       "\n",
       "    this._resize_canvas = function(width, height) {\n",
       "        // Keep the size of the canvas, canvas container, and rubber band\n",
       "        // canvas in synch.\n",
       "        canvas_div.css('width', width)\n",
       "        canvas_div.css('height', height)\n",
       "\n",
       "        canvas.attr('width', width * mpl.ratio);\n",
       "        canvas.attr('height', height * mpl.ratio);\n",
       "        canvas.attr('style', 'width: ' + width + 'px; height: ' + height + 'px;');\n",
       "\n",
       "        rubberband.attr('width', width);\n",
       "        rubberband.attr('height', height);\n",
       "    }\n",
       "\n",
       "    // Set the figure to an initial 600x600px, this will subsequently be updated\n",
       "    // upon first draw.\n",
       "    this._resize_canvas(600, 600);\n",
       "\n",
       "    // Disable right mouse context menu.\n",
       "    $(this.rubberband_canvas).bind(\"contextmenu\",function(e){\n",
       "        return false;\n",
       "    });\n",
       "\n",
       "    function set_focus () {\n",
       "        canvas.focus();\n",
       "        canvas_div.focus();\n",
       "    }\n",
       "\n",
       "    window.setTimeout(set_focus, 100);\n",
       "}\n",
       "\n",
       "mpl.figure.prototype._init_toolbar = function() {\n",
       "    var fig = this;\n",
       "\n",
       "    var nav_element = $('<div/>');\n",
       "    nav_element.attr('style', 'width: 100%');\n",
       "    this.root.append(nav_element);\n",
       "\n",
       "    // Define a callback function for later on.\n",
       "    function toolbar_event(event) {\n",
       "        return fig.toolbar_button_onclick(event['data']);\n",
       "    }\n",
       "    function toolbar_mouse_event(event) {\n",
       "        return fig.toolbar_button_onmouseover(event['data']);\n",
       "    }\n",
       "\n",
       "    for(var toolbar_ind in mpl.toolbar_items) {\n",
       "        var name = mpl.toolbar_items[toolbar_ind][0];\n",
       "        var tooltip = mpl.toolbar_items[toolbar_ind][1];\n",
       "        var image = mpl.toolbar_items[toolbar_ind][2];\n",
       "        var method_name = mpl.toolbar_items[toolbar_ind][3];\n",
       "\n",
       "        if (!name) {\n",
       "            // put a spacer in here.\n",
       "            continue;\n",
       "        }\n",
       "        var button = $('<button/>');\n",
       "        button.addClass('ui-button ui-widget ui-state-default ui-corner-all ' +\n",
       "                        'ui-button-icon-only');\n",
       "        button.attr('role', 'button');\n",
       "        button.attr('aria-disabled', 'false');\n",
       "        button.click(method_name, toolbar_event);\n",
       "        button.mouseover(tooltip, toolbar_mouse_event);\n",
       "\n",
       "        var icon_img = $('<span/>');\n",
       "        icon_img.addClass('ui-button-icon-primary ui-icon');\n",
       "        icon_img.addClass(image);\n",
       "        icon_img.addClass('ui-corner-all');\n",
       "\n",
       "        var tooltip_span = $('<span/>');\n",
       "        tooltip_span.addClass('ui-button-text');\n",
       "        tooltip_span.html(tooltip);\n",
       "\n",
       "        button.append(icon_img);\n",
       "        button.append(tooltip_span);\n",
       "\n",
       "        nav_element.append(button);\n",
       "    }\n",
       "\n",
       "    var fmt_picker_span = $('<span/>');\n",
       "\n",
       "    var fmt_picker = $('<select/>');\n",
       "    fmt_picker.addClass('mpl-toolbar-option ui-widget ui-widget-content');\n",
       "    fmt_picker_span.append(fmt_picker);\n",
       "    nav_element.append(fmt_picker_span);\n",
       "    this.format_dropdown = fmt_picker[0];\n",
       "\n",
       "    for (var ind in mpl.extensions) {\n",
       "        var fmt = mpl.extensions[ind];\n",
       "        var option = $(\n",
       "            '<option/>', {selected: fmt === mpl.default_extension}).html(fmt);\n",
       "        fmt_picker.append(option);\n",
       "    }\n",
       "\n",
       "    // Add hover states to the ui-buttons\n",
       "    $( \".ui-button\" ).hover(\n",
       "        function() { $(this).addClass(\"ui-state-hover\");},\n",
       "        function() { $(this).removeClass(\"ui-state-hover\");}\n",
       "    );\n",
       "\n",
       "    var status_bar = $('<span class=\"mpl-message\"/>');\n",
       "    nav_element.append(status_bar);\n",
       "    this.message = status_bar[0];\n",
       "}\n",
       "\n",
       "mpl.figure.prototype.request_resize = function(x_pixels, y_pixels) {\n",
       "    // Request matplotlib to resize the figure. Matplotlib will then trigger a resize in the client,\n",
       "    // which will in turn request a refresh of the image.\n",
       "    this.send_message('resize', {'width': x_pixels, 'height': y_pixels});\n",
       "}\n",
       "\n",
       "mpl.figure.prototype.send_message = function(type, properties) {\n",
       "    properties['type'] = type;\n",
       "    properties['figure_id'] = this.id;\n",
       "    this.ws.send(JSON.stringify(properties));\n",
       "}\n",
       "\n",
       "mpl.figure.prototype.send_draw_message = function() {\n",
       "    if (!this.waiting) {\n",
       "        this.waiting = true;\n",
       "        this.ws.send(JSON.stringify({type: \"draw\", figure_id: this.id}));\n",
       "    }\n",
       "}\n",
       "\n",
       "\n",
       "mpl.figure.prototype.handle_save = function(fig, msg) {\n",
       "    var format_dropdown = fig.format_dropdown;\n",
       "    var format = format_dropdown.options[format_dropdown.selectedIndex].value;\n",
       "    fig.ondownload(fig, format);\n",
       "}\n",
       "\n",
       "\n",
       "mpl.figure.prototype.handle_resize = function(fig, msg) {\n",
       "    var size = msg['size'];\n",
       "    if (size[0] != fig.canvas.width || size[1] != fig.canvas.height) {\n",
       "        fig._resize_canvas(size[0], size[1]);\n",
       "        fig.send_message(\"refresh\", {});\n",
       "    };\n",
       "}\n",
       "\n",
       "mpl.figure.prototype.handle_rubberband = function(fig, msg) {\n",
       "    var x0 = msg['x0'] / mpl.ratio;\n",
       "    var y0 = (fig.canvas.height - msg['y0']) / mpl.ratio;\n",
       "    var x1 = msg['x1'] / mpl.ratio;\n",
       "    var y1 = (fig.canvas.height - msg['y1']) / mpl.ratio;\n",
       "    x0 = Math.floor(x0) + 0.5;\n",
       "    y0 = Math.floor(y0) + 0.5;\n",
       "    x1 = Math.floor(x1) + 0.5;\n",
       "    y1 = Math.floor(y1) + 0.5;\n",
       "    var min_x = Math.min(x0, x1);\n",
       "    var min_y = Math.min(y0, y1);\n",
       "    var width = Math.abs(x1 - x0);\n",
       "    var height = Math.abs(y1 - y0);\n",
       "\n",
       "    fig.rubberband_context.clearRect(\n",
       "        0, 0, fig.canvas.width / mpl.ratio, fig.canvas.height / mpl.ratio);\n",
       "\n",
       "    fig.rubberband_context.strokeRect(min_x, min_y, width, height);\n",
       "}\n",
       "\n",
       "mpl.figure.prototype.handle_figure_label = function(fig, msg) {\n",
       "    // Updates the figure title.\n",
       "    fig.header.textContent = msg['label'];\n",
       "}\n",
       "\n",
       "mpl.figure.prototype.handle_cursor = function(fig, msg) {\n",
       "    var cursor = msg['cursor'];\n",
       "    switch(cursor)\n",
       "    {\n",
       "    case 0:\n",
       "        cursor = 'pointer';\n",
       "        break;\n",
       "    case 1:\n",
       "        cursor = 'default';\n",
       "        break;\n",
       "    case 2:\n",
       "        cursor = 'crosshair';\n",
       "        break;\n",
       "    case 3:\n",
       "        cursor = 'move';\n",
       "        break;\n",
       "    }\n",
       "    fig.rubberband_canvas.style.cursor = cursor;\n",
       "}\n",
       "\n",
       "mpl.figure.prototype.handle_message = function(fig, msg) {\n",
       "    fig.message.textContent = msg['message'];\n",
       "}\n",
       "\n",
       "mpl.figure.prototype.handle_draw = function(fig, msg) {\n",
       "    // Request the server to send over a new figure.\n",
       "    fig.send_draw_message();\n",
       "}\n",
       "\n",
       "mpl.figure.prototype.handle_image_mode = function(fig, msg) {\n",
       "    fig.image_mode = msg['mode'];\n",
       "}\n",
       "\n",
       "mpl.figure.prototype.updated_canvas_event = function() {\n",
       "    // Called whenever the canvas gets updated.\n",
       "    this.send_message(\"ack\", {});\n",
       "}\n",
       "\n",
       "// A function to construct a web socket function for onmessage handling.\n",
       "// Called in the figure constructor.\n",
       "mpl.figure.prototype._make_on_message_function = function(fig) {\n",
       "    return function socket_on_message(evt) {\n",
       "        if (evt.data instanceof Blob) {\n",
       "            /* FIXME: We get \"Resource interpreted as Image but\n",
       "             * transferred with MIME type text/plain:\" errors on\n",
       "             * Chrome.  But how to set the MIME type?  It doesn't seem\n",
       "             * to be part of the websocket stream */\n",
       "            evt.data.type = \"image/png\";\n",
       "\n",
       "            /* Free the memory for the previous frames */\n",
       "            if (fig.imageObj.src) {\n",
       "                (window.URL || window.webkitURL).revokeObjectURL(\n",
       "                    fig.imageObj.src);\n",
       "            }\n",
       "\n",
       "            fig.imageObj.src = (window.URL || window.webkitURL).createObjectURL(\n",
       "                evt.data);\n",
       "            fig.updated_canvas_event();\n",
       "            fig.waiting = false;\n",
       "            return;\n",
       "        }\n",
       "        else if (typeof evt.data === 'string' && evt.data.slice(0, 21) == \"data:image/png;base64\") {\n",
       "            fig.imageObj.src = evt.data;\n",
       "            fig.updated_canvas_event();\n",
       "            fig.waiting = false;\n",
       "            return;\n",
       "        }\n",
       "\n",
       "        var msg = JSON.parse(evt.data);\n",
       "        var msg_type = msg['type'];\n",
       "\n",
       "        // Call the  \"handle_{type}\" callback, which takes\n",
       "        // the figure and JSON message as its only arguments.\n",
       "        try {\n",
       "            var callback = fig[\"handle_\" + msg_type];\n",
       "        } catch (e) {\n",
       "            console.log(\"No handler for the '\" + msg_type + \"' message type: \", msg);\n",
       "            return;\n",
       "        }\n",
       "\n",
       "        if (callback) {\n",
       "            try {\n",
       "                // console.log(\"Handling '\" + msg_type + \"' message: \", msg);\n",
       "                callback(fig, msg);\n",
       "            } catch (e) {\n",
       "                console.log(\"Exception inside the 'handler_\" + msg_type + \"' callback:\", e, e.stack, msg);\n",
       "            }\n",
       "        }\n",
       "    };\n",
       "}\n",
       "\n",
       "// from http://stackoverflow.com/questions/1114465/getting-mouse-location-in-canvas\n",
       "mpl.findpos = function(e) {\n",
       "    //this section is from http://www.quirksmode.org/js/events_properties.html\n",
       "    var targ;\n",
       "    if (!e)\n",
       "        e = window.event;\n",
       "    if (e.target)\n",
       "        targ = e.target;\n",
       "    else if (e.srcElement)\n",
       "        targ = e.srcElement;\n",
       "    if (targ.nodeType == 3) // defeat Safari bug\n",
       "        targ = targ.parentNode;\n",
       "\n",
       "    // jQuery normalizes the pageX and pageY\n",
       "    // pageX,Y are the mouse positions relative to the document\n",
       "    // offset() returns the position of the element relative to the document\n",
       "    var x = e.pageX - $(targ).offset().left;\n",
       "    var y = e.pageY - $(targ).offset().top;\n",
       "\n",
       "    return {\"x\": x, \"y\": y};\n",
       "};\n",
       "\n",
       "/*\n",
       " * return a copy of an object with only non-object keys\n",
       " * we need this to avoid circular references\n",
       " * http://stackoverflow.com/a/24161582/3208463\n",
       " */\n",
       "function simpleKeys (original) {\n",
       "  return Object.keys(original).reduce(function (obj, key) {\n",
       "    if (typeof original[key] !== 'object')\n",
       "        obj[key] = original[key]\n",
       "    return obj;\n",
       "  }, {});\n",
       "}\n",
       "\n",
       "mpl.figure.prototype.mouse_event = function(event, name) {\n",
       "    var canvas_pos = mpl.findpos(event)\n",
       "\n",
       "    if (name === 'button_press')\n",
       "    {\n",
       "        this.canvas.focus();\n",
       "        this.canvas_div.focus();\n",
       "    }\n",
       "\n",
       "    var x = canvas_pos.x * mpl.ratio;\n",
       "    var y = canvas_pos.y * mpl.ratio;\n",
       "\n",
       "    this.send_message(name, {x: x, y: y, button: event.button,\n",
       "                             step: event.step,\n",
       "                             guiEvent: simpleKeys(event)});\n",
       "\n",
       "    /* This prevents the web browser from automatically changing to\n",
       "     * the text insertion cursor when the button is pressed.  We want\n",
       "     * to control all of the cursor setting manually through the\n",
       "     * 'cursor' event from matplotlib */\n",
       "    event.preventDefault();\n",
       "    return false;\n",
       "}\n",
       "\n",
       "mpl.figure.prototype._key_event_extra = function(event, name) {\n",
       "    // Handle any extra behaviour associated with a key event\n",
       "}\n",
       "\n",
       "mpl.figure.prototype.key_event = function(event, name) {\n",
       "\n",
       "    // Prevent repeat events\n",
       "    if (name == 'key_press')\n",
       "    {\n",
       "        if (event.which === this._key)\n",
       "            return;\n",
       "        else\n",
       "            this._key = event.which;\n",
       "    }\n",
       "    if (name == 'key_release')\n",
       "        this._key = null;\n",
       "\n",
       "    var value = '';\n",
       "    if (event.ctrlKey && event.which != 17)\n",
       "        value += \"ctrl+\";\n",
       "    if (event.altKey && event.which != 18)\n",
       "        value += \"alt+\";\n",
       "    if (event.shiftKey && event.which != 16)\n",
       "        value += \"shift+\";\n",
       "\n",
       "    value += 'k';\n",
       "    value += event.which.toString();\n",
       "\n",
       "    this._key_event_extra(event, name);\n",
       "\n",
       "    this.send_message(name, {key: value,\n",
       "                             guiEvent: simpleKeys(event)});\n",
       "    return false;\n",
       "}\n",
       "\n",
       "mpl.figure.prototype.toolbar_button_onclick = function(name) {\n",
       "    if (name == 'download') {\n",
       "        this.handle_save(this, null);\n",
       "    } else {\n",
       "        this.send_message(\"toolbar_button\", {name: name});\n",
       "    }\n",
       "};\n",
       "\n",
       "mpl.figure.prototype.toolbar_button_onmouseover = function(tooltip) {\n",
       "    this.message.textContent = tooltip;\n",
       "};\n",
       "mpl.toolbar_items = [[\"Home\", \"Reset original view\", \"fa fa-home icon-home\", \"home\"], [\"Back\", \"Back to previous view\", \"fa fa-arrow-left icon-arrow-left\", \"back\"], [\"Forward\", \"Forward to next view\", \"fa fa-arrow-right icon-arrow-right\", \"forward\"], [\"\", \"\", \"\", \"\"], [\"Pan\", \"Pan axes with left mouse, zoom with right\", \"fa fa-arrows icon-move\", \"pan\"], [\"Zoom\", \"Zoom to rectangle\", \"fa fa-square-o icon-check-empty\", \"zoom\"], [\"\", \"\", \"\", \"\"], [\"Download\", \"Download plot\", \"fa fa-floppy-o icon-save\", \"download\"]];\n",
       "\n",
       "mpl.extensions = [\"eps\", \"pdf\", \"png\", \"ps\", \"raw\", \"svg\"];\n",
       "\n",
       "mpl.default_extension = \"png\";var comm_websocket_adapter = function(comm) {\n",
       "    // Create a \"websocket\"-like object which calls the given IPython comm\n",
       "    // object with the appropriate methods. Currently this is a non binary\n",
       "    // socket, so there is still some room for performance tuning.\n",
       "    var ws = {};\n",
       "\n",
       "    ws.close = function() {\n",
       "        comm.close()\n",
       "    };\n",
       "    ws.send = function(m) {\n",
       "        //console.log('sending', m);\n",
       "        comm.send(m);\n",
       "    };\n",
       "    // Register the callback with on_msg.\n",
       "    comm.on_msg(function(msg) {\n",
       "        //console.log('receiving', msg['content']['data'], msg);\n",
       "        // Pass the mpl event to the overridden (by mpl) onmessage function.\n",
       "        ws.onmessage(msg['content']['data'])\n",
       "    });\n",
       "    return ws;\n",
       "}\n",
       "\n",
       "mpl.mpl_figure_comm = function(comm, msg) {\n",
       "    // This is the function which gets called when the mpl process\n",
       "    // starts-up an IPython Comm through the \"matplotlib\" channel.\n",
       "\n",
       "    var id = msg.content.data.id;\n",
       "    // Get hold of the div created by the display call when the Comm\n",
       "    // socket was opened in Python.\n",
       "    var element = $(\"#\" + id);\n",
       "    var ws_proxy = comm_websocket_adapter(comm)\n",
       "\n",
       "    function ondownload(figure, format) {\n",
       "        window.open(figure.imageObj.src);\n",
       "    }\n",
       "\n",
       "    var fig = new mpl.figure(id, ws_proxy,\n",
       "                           ondownload,\n",
       "                           element.get(0));\n",
       "\n",
       "    // Call onopen now - mpl needs it, as it is assuming we've passed it a real\n",
       "    // web socket which is closed, not our websocket->open comm proxy.\n",
       "    ws_proxy.onopen();\n",
       "\n",
       "    fig.parent_element = element.get(0);\n",
       "    fig.cell_info = mpl.find_output_cell(\"<div id='\" + id + \"'></div>\");\n",
       "    if (!fig.cell_info) {\n",
       "        console.error(\"Failed to find cell for figure\", id, fig);\n",
       "        return;\n",
       "    }\n",
       "\n",
       "    var output_index = fig.cell_info[2]\n",
       "    var cell = fig.cell_info[0];\n",
       "\n",
       "};\n",
       "\n",
       "mpl.figure.prototype.handle_close = function(fig, msg) {\n",
       "    var width = fig.canvas.width/mpl.ratio\n",
       "    fig.root.unbind('remove')\n",
       "\n",
       "    // Update the output cell to use the data from the current canvas.\n",
       "    fig.push_to_output();\n",
       "    var dataURL = fig.canvas.toDataURL();\n",
       "    // Re-enable the keyboard manager in IPython - without this line, in FF,\n",
       "    // the notebook keyboard shortcuts fail.\n",
       "    IPython.keyboard_manager.enable()\n",
       "    $(fig.parent_element).html('<img src=\"' + dataURL + '\" width=\"' + width + '\">');\n",
       "    fig.close_ws(fig, msg);\n",
       "}\n",
       "\n",
       "mpl.figure.prototype.close_ws = function(fig, msg){\n",
       "    fig.send_message('closing', msg);\n",
       "    // fig.ws.close()\n",
       "}\n",
       "\n",
       "mpl.figure.prototype.push_to_output = function(remove_interactive) {\n",
       "    // Turn the data on the canvas into data in the output cell.\n",
       "    var width = this.canvas.width/mpl.ratio\n",
       "    var dataURL = this.canvas.toDataURL();\n",
       "    this.cell_info[1]['text/html'] = '<img src=\"' + dataURL + '\" width=\"' + width + '\">';\n",
       "}\n",
       "\n",
       "mpl.figure.prototype.updated_canvas_event = function() {\n",
       "    // Tell IPython that the notebook contents must change.\n",
       "    IPython.notebook.set_dirty(true);\n",
       "    this.send_message(\"ack\", {});\n",
       "    var fig = this;\n",
       "    // Wait a second, then push the new image to the DOM so\n",
       "    // that it is saved nicely (might be nice to debounce this).\n",
       "    setTimeout(function () { fig.push_to_output() }, 1000);\n",
       "}\n",
       "\n",
       "mpl.figure.prototype._init_toolbar = function() {\n",
       "    var fig = this;\n",
       "\n",
       "    var nav_element = $('<div/>');\n",
       "    nav_element.attr('style', 'width: 100%');\n",
       "    this.root.append(nav_element);\n",
       "\n",
       "    // Define a callback function for later on.\n",
       "    function toolbar_event(event) {\n",
       "        return fig.toolbar_button_onclick(event['data']);\n",
       "    }\n",
       "    function toolbar_mouse_event(event) {\n",
       "        return fig.toolbar_button_onmouseover(event['data']);\n",
       "    }\n",
       "\n",
       "    for(var toolbar_ind in mpl.toolbar_items){\n",
       "        var name = mpl.toolbar_items[toolbar_ind][0];\n",
       "        var tooltip = mpl.toolbar_items[toolbar_ind][1];\n",
       "        var image = mpl.toolbar_items[toolbar_ind][2];\n",
       "        var method_name = mpl.toolbar_items[toolbar_ind][3];\n",
       "\n",
       "        if (!name) { continue; };\n",
       "\n",
       "        var button = $('<button class=\"btn btn-default\" href=\"#\" title=\"' + name + '\"><i class=\"fa ' + image + ' fa-lg\"></i></button>');\n",
       "        button.click(method_name, toolbar_event);\n",
       "        button.mouseover(tooltip, toolbar_mouse_event);\n",
       "        nav_element.append(button);\n",
       "    }\n",
       "\n",
       "    // Add the status bar.\n",
       "    var status_bar = $('<span class=\"mpl-message\" style=\"text-align:right; float: right;\"/>');\n",
       "    nav_element.append(status_bar);\n",
       "    this.message = status_bar[0];\n",
       "\n",
       "    // Add the close button to the window.\n",
       "    var buttongrp = $('<div class=\"btn-group inline pull-right\"></div>');\n",
       "    var button = $('<button class=\"btn btn-mini btn-primary\" href=\"#\" title=\"Stop Interaction\"><i class=\"fa fa-power-off icon-remove icon-large\"></i></button>');\n",
       "    button.click(function (evt) { fig.handle_close(fig, {}); } );\n",
       "    button.mouseover('Stop Interaction', toolbar_mouse_event);\n",
       "    buttongrp.append(button);\n",
       "    var titlebar = this.root.find($('.ui-dialog-titlebar'));\n",
       "    titlebar.prepend(buttongrp);\n",
       "}\n",
       "\n",
       "mpl.figure.prototype._root_extra_style = function(el){\n",
       "    var fig = this\n",
       "    el.on(\"remove\", function(){\n",
       "\tfig.close_ws(fig, {});\n",
       "    });\n",
       "}\n",
       "\n",
       "mpl.figure.prototype._canvas_extra_style = function(el){\n",
       "    // this is important to make the div 'focusable\n",
       "    el.attr('tabindex', 0)\n",
       "    // reach out to IPython and tell the keyboard manager to turn it's self\n",
       "    // off when our div gets focus\n",
       "\n",
       "    // location in version 3\n",
       "    if (IPython.notebook.keyboard_manager) {\n",
       "        IPython.notebook.keyboard_manager.register_events(el);\n",
       "    }\n",
       "    else {\n",
       "        // location in version 2\n",
       "        IPython.keyboard_manager.register_events(el);\n",
       "    }\n",
       "\n",
       "}\n",
       "\n",
       "mpl.figure.prototype._key_event_extra = function(event, name) {\n",
       "    var manager = IPython.notebook.keyboard_manager;\n",
       "    if (!manager)\n",
       "        manager = IPython.keyboard_manager;\n",
       "\n",
       "    // Check for shift+enter\n",
       "    if (event.shiftKey && event.which == 13) {\n",
       "        this.canvas_div.blur();\n",
       "        // select the cell after this one\n",
       "        var index = IPython.notebook.find_cell_index(this.cell_info[0]);\n",
       "        IPython.notebook.select(index + 1);\n",
       "    }\n",
       "}\n",
       "\n",
       "mpl.figure.prototype.handle_save = function(fig, msg) {\n",
       "    fig.ondownload(fig, null);\n",
       "}\n",
       "\n",
       "\n",
       "mpl.find_output_cell = function(html_output) {\n",
       "    // Return the cell and output element which can be found *uniquely* in the notebook.\n",
       "    // Note - this is a bit hacky, but it is done because the \"notebook_saving.Notebook\"\n",
       "    // IPython event is triggered only after the cells have been serialised, which for\n",
       "    // our purposes (turning an active figure into a static one), is too late.\n",
       "    var cells = IPython.notebook.get_cells();\n",
       "    var ncells = cells.length;\n",
       "    for (var i=0; i<ncells; i++) {\n",
       "        var cell = cells[i];\n",
       "        if (cell.cell_type === 'code'){\n",
       "            for (var j=0; j<cell.output_area.outputs.length; j++) {\n",
       "                var data = cell.output_area.outputs[j];\n",
       "                if (data.data) {\n",
       "                    // IPython >= 3 moved mimebundle to data attribute of output\n",
       "                    data = data.data;\n",
       "                }\n",
       "                if (data['text/html'] == html_output) {\n",
       "                    return [cell, data, j];\n",
       "                }\n",
       "            }\n",
       "        }\n",
       "    }\n",
       "}\n",
       "\n",
       "// Register the function which deals with the matplotlib target/channel.\n",
       "// The kernel may be null if the page has been refreshed.\n",
       "if (IPython.notebook.kernel != null) {\n",
       "    IPython.notebook.kernel.comm_manager.register_target('matplotlib', mpl.mpl_figure_comm);\n",
       "}\n"
      ],
      "text/plain": [
       "<IPython.core.display.Javascript object>"
      ]
     },
     "metadata": {},
     "output_type": "display_data"
    },
    {
     "data": {
      "text/html": [
       "<img src=\"data:image/png;base64,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\" width=\"640\">"
      ],
      "text/plain": [
       "<IPython.core.display.HTML object>"
      ]
     },
     "metadata": {},
     "output_type": "display_data"
    },
    {
     "data": {
      "text/plain": [
       "<mpl_toolkits.mplot3d.art3d.Poly3DCollection at 0x1d974fa7250>"
      ]
     },
     "execution_count": 33,
     "metadata": {},
     "output_type": "execute_result"
    }
   ],
   "source": [
    "%matplotlib notebook\n",
    "import matplotlib.pyplot as plt\n",
    "import numpy as np\n",
    "#%matplotlib inline\n",
    "\n",
    "from mpl_toolkits.mplot3d import Axes3D\n",
    "fig = plt.figure()\n",
    "ax = Axes3D(fig)\n",
    "X = np.arange(-5, 5, 0.15)\n",
    "Y = np.arange(-5, 5, 0.15)\n",
    "X, Y = np.meshgrid(X, Y)\n",
    "R = np.sqrt(X**2 + Y**2)\n",
    "Z = np.sin(R)\n",
    "\n",
    "ax.plot_surface(X, Y, Z, rstride=1, cstride=1, cmap='viridis')\n"
   ]
  },
  {
   "cell_type": "code",
   "execution_count": 15,
   "metadata": {},
   "outputs": [
    {
     "name": "stdout",
     "output_type": "stream",
     "text": [
      "[[    0    10    20 ...   290   300   310]\n",
      " [  320   330   340 ...   610   620   630]\n",
      " [  640   650   660 ...   930   940   950]\n",
      " ...\n",
      " [ 9280  9290  9300 ...  9570  9580  9590]\n",
      " [ 9600  9610  9620 ...  9890  9900  9910]\n",
      " [ 9920  9930  9940 ... 10210 10220 10230]]\n"
     ]
    },
    {
     "data": {
      "image/png": "[encoded data removed]",
      "text/plain": [
       "<Figure size 720x720 with 1 Axes>"
      ]
     },
     "metadata": {
      "needs_background": "light"
     },
     "output_type": "display_data"
    }
   ],
   "source": [
    "from matplotlib import pyplot\n",
    "import numpy as np\n",
    "import random\n",
    "\n",
    "rank = 32\n",
    "#data = np.array([random.randint(a=0,b=1) for _ in range(0,rank*rank)]).reshape(rank, rank)\n",
    "data = np.arange(0,rank*rank*10,10).reshape(rank, rank)\n",
    "print(data)\n",
    "\n",
    "pyplot.figure(figsize=(10,10))\n",
    "pyplot.imshow(data)\n",
    "pyplot.show()"
   ]
  },
  {
   "cell_type": "markdown",
   "metadata": {},
   "source": [
    "import numpy as np\n",
    "import matplotlib.pyplot as plt\n",
    "\n",
    "# Compute the x and y coordinates for points on a sine curve\n",
    "x = np.arange(0, 100, 0.05)\n",
    "y = (np.x)**2\n",
    "\n",
    "# Plot the points using matplotlib\n",
    "plt.plot(x, y)\n",
    "plt.show()  # You must call plt.show() to make graphics appear."
   ]
  },
  {
   "cell_type": "code",
   "execution_count": 32,
   "metadata": {},
   "outputs": [
    {
     "data": {
      "image/png": "[encoded data removed]",
      "text/plain": [
       "<Figure size 432x288 with 1 Axes>"
      ]
     },
     "metadata": {
      "needs_background": "light"
     },
     "output_type": "display_data"
    }
   ],
   "source": [
    "import numpy as np\n",
    "import matplotlib.pyplot as plt\n",
    "\n",
    "# Compute the x and y coordinates for points on a sine curve\n",
    "x = np.arange(0.1, 1, 0.1)\n",
    "y = 1/x\n",
    "\n",
    "# Plot the points using matplotlib\n",
    "plt.plot(x, y)\n",
    "plt.show()  # You must call plt.show() to make graphics appear."
   ]
  },
  {
   "cell_type": "code",
   "execution_count": 37,
   "metadata": {},
   "outputs": [
    {
     "name": "stdout",
     "output_type": "stream",
     "text": [
      "[0 1 2 3 4 5 6 7 8 9]\n"
     ]
    }
   ],
   "source": [
    "import numpy as np\n",
    "\n",
    "arr = np.arange(10)\n",
    "\n",
    "arr_t = np.copy(arr)\n",
    "\n",
    "#arr[arr%2 != 0] = -1\n",
    "\n",
    "print(arr_t)"
   ]
  },
  {
   "cell_type": "code",
   "execution_count": 50,
   "metadata": {},
   "outputs": [
    {
     "ename": "ValueError",
     "evalue": "can only specify one unknown dimension",
     "output_type": "error",
     "traceback": [
      "\u001b[1;31m---------------------------------------------------------------------------\u001b[0m",
      "\u001b[1;31mValueError\u001b[0m                                Traceback (most recent call last)",
      "\u001b[1;32m<ipython-input-50-d73d359b0e54>\u001b[0m in \u001b[0;36m<module>\u001b[1;34m\u001b[0m\n\u001b[0;32m      1\u001b[0m \u001b[0ma1\u001b[0m \u001b[1;33m=\u001b[0m \u001b[0mnp\u001b[0m\u001b[1;33m.\u001b[0m\u001b[0marange\u001b[0m\u001b[1;33m(\u001b[0m\u001b[1;36m10\u001b[0m\u001b[1;33m)\u001b[0m\u001b[1;33m\u001b[0m\u001b[1;33m\u001b[0m\u001b[0m\n\u001b[1;32m----> 2\u001b[1;33m \u001b[0ma2\u001b[0m \u001b[1;33m=\u001b[0m \u001b[0ma1\u001b[0m\u001b[1;33m.\u001b[0m\u001b[0mreshape\u001b[0m\u001b[1;33m(\u001b[0m\u001b[1;33m-\u001b[0m\u001b[1;36m1\u001b[0m\u001b[1;33m,\u001b[0m \u001b[1;33m-\u001b[0m\u001b[1;36m1\u001b[0m\u001b[1;33m)\u001b[0m\u001b[1;33m\u001b[0m\u001b[1;33m\u001b[0m\u001b[0m\n\u001b[0m\u001b[0;32m      3\u001b[0m \u001b[0mprint\u001b[0m\u001b[1;33m(\u001b[0m\u001b[0ma2\u001b[0m\u001b[1;33m)\u001b[0m\u001b[1;33m\u001b[0m\u001b[1;33m\u001b[0m\u001b[0m\n",
      "\u001b[1;31mValueError\u001b[0m: can only specify one unknown dimension"
     ]
    }
   ],
   "source": [
    "a1 = np.arange(10)\n",
    "a2 = a1.reshape(-1, -1)\n",
    "print(a2)"
   ]
  },
  {
   "cell_type": "code",
   "execution_count": 59,
   "metadata": {},
   "outputs": [
    {
     "name": "stdout",
     "output_type": "stream",
     "text": [
      "15.0 15.0 8.94427190999916\n"
     ]
    }
   ],
   "source": [
    "arr = np.arange(31)\n",
    "print(np.mean(arr), np.median(arr), np.std(arr))"
   ]
  },
  {
   "cell_type": "code",
   "execution_count": 61,
   "metadata": {},
   "outputs": [
    {
     "name": "stdout",
     "output_type": "stream",
     "text": [
      "10 20\n"
     ]
    }
   ],
   "source": [
    "a, b = 10, 20\n",
    "print(a, b)"
   ]
  },
  {
   "cell_type": "code",
   "execution_count": 66,
   "metadata": {},
   "outputs": [
    {
     "name": "stdout",
     "output_type": "stream",
     "text": [
      "[[False  True False  True]\n",
      " [False  True  True  True]\n",
      " [False  True False  True]]\n"
     ]
    }
   ],
   "source": [
    "a = np.array([[1 , 2, 3, 4], [5, 6, 4, 8], [9, 10, 11, 12]])\n",
    "\n",
    "five_up = (a%2==0)\n",
    "#a[a%2==0]\n",
    "print(five_up)"
   ]
  },
  {
   "cell_type": "code",
   "execution_count": 67,
   "metadata": {},
   "outputs": [
    {
     "ename": "ModuleNotFoundError",
     "evalue": "No module named 'PIL'",
     "output_type": "error",
     "traceback": [
      "\u001b[1;31m---------------------------------------------------------------------------\u001b[0m",
      "\u001b[1;31mModuleNotFoundError\u001b[0m                       Traceback (most recent call last)",
      "\u001b[1;32m<ipython-input-67-650f3e5ea231>\u001b[0m in \u001b[0;36m<module>\u001b[1;34m\u001b[0m\n\u001b[1;32m----> 1\u001b[1;33m \u001b[1;32mfrom\u001b[0m \u001b[0mPIL\u001b[0m \u001b[1;32mimport\u001b[0m \u001b[0mImage\u001b[0m\u001b[1;33m\u001b[0m\u001b[1;33m\u001b[0m\u001b[0m\n\u001b[0m\u001b[0;32m      2\u001b[0m \u001b[1;32mimport\u001b[0m \u001b[0mnumpy\u001b[0m \u001b[1;32mas\u001b[0m \u001b[0mnp\u001b[0m\u001b[1;33m\u001b[0m\u001b[1;33m\u001b[0m\u001b[0m\n\u001b[0;32m      3\u001b[0m \u001b[1;33m\u001b[0m\u001b[0m\n\u001b[0;32m      4\u001b[0m \u001b[1;31m# Initialise data\u001b[0m\u001b[1;33m\u001b[0m\u001b[1;33m\u001b[0m\u001b[1;33m\u001b[0m\u001b[0m\n\u001b[0;32m      5\u001b[0m \u001b[0mx\u001b[0m \u001b[1;33m=\u001b[0m \u001b[0mnp\u001b[0m\u001b[1;33m.\u001b[0m\u001b[0mrandom\u001b[0m\u001b[1;33m.\u001b[0m\u001b[0mrandint\u001b[0m\u001b[1;33m(\u001b[0m\u001b[1;36m10\u001b[0m\u001b[1;33m,\u001b[0m\u001b[0msize\u001b[0m\u001b[1;33m=\u001b[0m\u001b[1;33m(\u001b[0m\u001b[1;36m20\u001b[0m\u001b[1;33m,\u001b[0m\u001b[1;36m20\u001b[0m\u001b[1;33m)\u001b[0m\u001b[1;33m,\u001b[0m\u001b[0mdtype\u001b[0m\u001b[1;33m=\u001b[0m\u001b[0mnp\u001b[0m\u001b[1;33m.\u001b[0m\u001b[0muint8\u001b[0m\u001b[1;33m)\u001b[0m\u001b[1;33m\u001b[0m\u001b[1;33m\u001b[0m\u001b[0m\n",
      "\u001b[1;31mModuleNotFoundError\u001b[0m: No module named 'PIL'"
     ]
    }
   ],
   "source": [
    "from PIL import Image\n",
    "import numpy as np\n",
    "\n",
    "# Initialise data\n",
    "x = np.random.randint(10,size=(20,20),dtype=np.uint8)\n",
    "\n",
    "# Make all pixels with value 6 into white and all else black\n",
    "x[x==6]   = 255\n",
    "x[x!=255] = 0\n",
    "\n",
    "# Make PIL Image from Numpy array\n",
    "pi = Image.fromarray(x) \n",
    "\n",
    "# Display image\n",
    "pi.show()\n",
    "\n",
    "# Save PIL Image\n",
    "pi.save('result.png')"
   ]
  },
  {
   "cell_type": "code",
   "execution_count": 68,
   "metadata": {},
   "outputs": [],
   "source": [
    "a = np.arange(64).reshape(8,-1)"
   ]
  },
  {
   "cell_type": "code",
   "execution_count": 69,
   "metadata": {},
   "outputs": [
    {
     "data": {
      "text/plain": [
       "array([[ 0,  1,  2,  3,  4,  5,  6,  7],\n",
       "       [ 8,  9, 10, 11, 12, 13, 14, 15],\n",
       "       [16, 17, 18, 19, 20, 21, 22, 23],\n",
       "       [24, 25, 26, 27, 28, 29, 30, 31],\n",
       "       [32, 33, 34, 35, 36, 37, 38, 39],\n",
       "       [40, 41, 42, 43, 44, 45, 46, 47],\n",
       "       [48, 49, 50, 51, 52, 53, 54, 55],\n",
       "       [56, 57, 58, 59, 60, 61, 62, 63]])"
      ]
     },
     "execution_count": 69,
     "metadata": {},
     "output_type": "execute_result"
    }
   ],
   "source": [
    "a"
   ]
  },
  {
   "cell_type": "code",
   "execution_count": 75,
   "metadata": {},
   "outputs": [
    {
     "data": {
      "text/plain": [
       "array([ 0,  8, 16, 24, 32, 40, 48, 56,  1,  9, 17, 25, 33, 41, 49, 57,  2,\n",
       "       10, 18, 26, 34, 42, 50, 58,  3, 11, 19, 27, 35, 43, 51, 59,  4, 12,\n",
       "       20, 28, 36, 44, 52, 60,  5, 13, 21, 29, 37, 45, 53, 61,  6, 14, 22,\n",
       "       30, 38, 46, 54, 62,  7, 15, 23, 31, 39, 47, 55, 63])"
      ]
     },
     "execution_count": 75,
     "metadata": {},
     "output_type": "execute_result"
    }
   ],
   "source": [
    "a.ravel(order='F')"
   ]
  },
  {
   "cell_type": "code",
   "execution_count": 3,
   "metadata": {},
   "outputs": [
    {
     "data": {
      "application/javascript": [
       "/* Put everything inside the global mpl namespace */\n",
       "window.mpl = {};\n",
       "\n",
       "\n",
       "mpl.get_websocket_type = function() {\n",
       "    if (typeof(WebSocket) !== 'undefined') {\n",
       "        return WebSocket;\n",
       "    } else if (typeof(MozWebSocket) !== 'undefined') {\n",
       "        return MozWebSocket;\n",
       "    } else {\n",
       "        alert('Your browser does not have WebSocket support. ' +\n",
       "              'Please try Chrome, Safari or Firefox ≥ 6. ' +\n",
       "              'Firefox 4 and 5 are also supported but you ' +\n",
       "              'have to enable WebSockets in about:config.');\n",
       "    };\n",
       "}\n",
       "\n",
       "mpl.figure = function(figure_id, websocket, ondownload, parent_element) {\n",
       "    this.id = figure_id;\n",
       "\n",
       "    this.ws = websocket;\n",
       "\n",
       "    this.supports_binary = (this.ws.binaryType != undefined);\n",
       "\n",
       "    if (!this.supports_binary) {\n",
       "        var warnings = document.getElementById(\"mpl-warnings\");\n",
       "        if (warnings) {\n",
       "            warnings.style.display = 'block';\n",
       "            warnings.textContent = (\n",
       "                \"This browser does not support binary websocket messages. \" +\n",
       "                    \"Performance may be slow.\");\n",
       "        }\n",
       "    }\n",
       "\n",
       "    this.imageObj = new Image();\n",
       "\n",
       "    this.context = undefined;\n",
       "    this.message = undefined;\n",
       "    this.canvas = undefined;\n",
       "    this.rubberband_canvas = undefined;\n",
       "    this.rubberband_context = undefined;\n",
       "    this.format_dropdown = undefined;\n",
       "\n",
       "    this.image_mode = 'full';\n",
       "\n",
       "    this.root = $('<div/>');\n",
       "    this._root_extra_style(this.root)\n",
       "    this.root.attr('style', 'display: inline-block');\n",
       "\n",
       "    $(parent_element).append(this.root);\n",
       "\n",
       "    this._init_header(this);\n",
       "    this._init_canvas(this);\n",
       "    this._init_toolbar(this);\n",
       "\n",
       "    var fig = this;\n",
       "\n",
       "    this.waiting = false;\n",
       "\n",
       "    this.ws.onopen =  function () {\n",
       "            fig.send_message(\"supports_binary\", {value: fig.supports_binary});\n",
       "            fig.send_message(\"send_image_mode\", {});\n",
       "            if (mpl.ratio != 1) {\n",
       "                fig.send_message(\"set_dpi_ratio\", {'dpi_ratio': mpl.ratio});\n",
       "            }\n",
       "            fig.send_message(\"refresh\", {});\n",
       "        }\n",
       "\n",
       "    this.imageObj.onload = function() {\n",
       "            if (fig.image_mode == 'full') {\n",
       "                // Full images could contain transparency (where diff images\n",
       "                // almost always do), so we need to clear the canvas so that\n",
       "                // there is no ghosting.\n",
       "                fig.context.clearRect(0, 0, fig.canvas.width, fig.canvas.height);\n",
       "            }\n",
       "            fig.context.drawImage(fig.imageObj, 0, 0);\n",
       "        };\n",
       "\n",
       "    this.imageObj.onunload = function() {\n",
       "        fig.ws.close();\n",
       "    }\n",
       "\n",
       "    this.ws.onmessage = this._make_on_message_function(this);\n",
       "\n",
       "    this.ondownload = ondownload;\n",
       "}\n",
       "\n",
       "mpl.figure.prototype._init_header = function() {\n",
       "    var titlebar = $(\n",
       "        '<div class=\"ui-dialog-titlebar ui-widget-header ui-corner-all ' +\n",
       "        'ui-helper-clearfix\"/>');\n",
       "    var titletext = $(\n",
       "        '<div class=\"ui-dialog-title\" style=\"width: 100%; ' +\n",
       "        'text-align: center; padding: 3px;\"/>');\n",
       "    titlebar.append(titletext)\n",
       "    this.root.append(titlebar);\n",
       "    this.header = titletext[0];\n",
       "}\n",
       "\n",
       "\n",
       "\n",
       "mpl.figure.prototype._canvas_extra_style = function(canvas_div) {\n",
       "\n",
       "}\n",
       "\n",
       "\n",
       "mpl.figure.prototype._root_extra_style = function(canvas_div) {\n",
       "\n",
       "}\n",
       "\n",
       "mpl.figure.prototype._init_canvas = function() {\n",
       "    var fig = this;\n",
       "\n",
       "    var canvas_div = $('<div/>');\n",
       "\n",
       "    canvas_div.attr('style', 'position: relative; clear: both; outline: 0');\n",
       "\n",
       "    function canvas_keyboard_event(event) {\n",
       "        return fig.key_event(event, event['data']);\n",
       "    }\n",
       "\n",
       "    canvas_div.keydown('key_press', canvas_keyboard_event);\n",
       "    canvas_div.keyup('key_release', canvas_keyboard_event);\n",
       "    this.canvas_div = canvas_div\n",
       "    this._canvas_extra_style(canvas_div)\n",
       "    this.root.append(canvas_div);\n",
       "\n",
       "    var canvas = $('<canvas/>');\n",
       "    canvas.addClass('mpl-canvas');\n",
       "    canvas.attr('style', \"left: 0; top: 0; z-index: 0; outline: 0\")\n",
       "\n",
       "    this.canvas = canvas[0];\n",
       "    this.context = canvas[0].getContext(\"2d\");\n",
       "\n",
       "    var backingStore = this.context.backingStorePixelRatio ||\n",
       "\tthis.context.webkitBackingStorePixelRatio ||\n",
       "\tthis.context.mozBackingStorePixelRatio ||\n",
       "\tthis.context.msBackingStorePixelRatio ||\n",
       "\tthis.context.oBackingStorePixelRatio ||\n",
       "\tthis.context.backingStorePixelRatio || 1;\n",
       "\n",
       "    mpl.ratio = (window.devicePixelRatio || 1) / backingStore;\n",
       "\n",
       "    var rubberband = $('<canvas/>');\n",
       "    rubberband.attr('style', \"position: absolute; left: 0; top: 0; z-index: 1;\")\n",
       "\n",
       "    var pass_mouse_events = true;\n",
       "\n",
       "    canvas_div.resizable({\n",
       "        start: function(event, ui) {\n",
       "            pass_mouse_events = false;\n",
       "        },\n",
       "        resize: function(event, ui) {\n",
       "            fig.request_resize(ui.size.width, ui.size.height);\n",
       "        },\n",
       "        stop: function(event, ui) {\n",
       "            pass_mouse_events = true;\n",
       "            fig.request_resize(ui.size.width, ui.size.height);\n",
       "        },\n",
       "    });\n",
       "\n",
       "    function mouse_event_fn(event) {\n",
       "        if (pass_mouse_events)\n",
       "            return fig.mouse_event(event, event['data']);\n",
       "    }\n",
       "\n",
       "    rubberband.mousedown('button_press', mouse_event_fn);\n",
       "    rubberband.mouseup('button_release', mouse_event_fn);\n",
       "    // Throttle sequential mouse events to 1 every 20ms.\n",
       "    rubberband.mousemove('motion_notify', mouse_event_fn);\n",
       "\n",
       "    rubberband.mouseenter('figure_enter', mouse_event_fn);\n",
       "    rubberband.mouseleave('figure_leave', mouse_event_fn);\n",
       "\n",
       "    canvas_div.on(\"wheel\", function (event) {\n",
       "        event = event.originalEvent;\n",
       "        event['data'] = 'scroll'\n",
       "        if (event.deltaY < 0) {\n",
       "            event.step = 1;\n",
       "        } else {\n",
       "            event.step = -1;\n",
       "        }\n",
       "        mouse_event_fn(event);\n",
       "    });\n",
       "\n",
       "    canvas_div.append(canvas);\n",
       "    canvas_div.append(rubberband);\n",
       "\n",
       "    this.rubberband = rubberband;\n",
       "    this.rubberband_canvas = rubberband[0];\n",
       "    this.rubberband_context = rubberband[0].getContext(\"2d\");\n",
       "    this.rubberband_context.strokeStyle = \"#000000\";\n",
       "\n",
       "    this._resize_canvas = function(width, height) {\n",
       "        // Keep the size of the canvas, canvas container, and rubber band\n",
       "        // canvas in synch.\n",
       "        canvas_div.css('width', width)\n",
       "        canvas_div.css('height', height)\n",
       "\n",
       "        canvas.attr('width', width * mpl.ratio);\n",
       "        canvas.attr('height', height * mpl.ratio);\n",
       "        canvas.attr('style', 'width: ' + width + 'px; height: ' + height + 'px;');\n",
       "\n",
       "        rubberband.attr('width', width);\n",
       "        rubberband.attr('height', height);\n",
       "    }\n",
       "\n",
       "    // Set the figure to an initial 600x600px, this will subsequently be updated\n",
       "    // upon first draw.\n",
       "    this._resize_canvas(600, 600);\n",
       "\n",
       "    // Disable right mouse context menu.\n",
       "    $(this.rubberband_canvas).bind(\"contextmenu\",function(e){\n",
       "        return false;\n",
       "    });\n",
       "\n",
       "    function set_focus () {\n",
       "        canvas.focus();\n",
       "        canvas_div.focus();\n",
       "    }\n",
       "\n",
       "    window.setTimeout(set_focus, 100);\n",
       "}\n",
       "\n",
       "mpl.figure.prototype._init_toolbar = function() {\n",
       "    var fig = this;\n",
       "\n",
       "    var nav_element = $('<div/>');\n",
       "    nav_element.attr('style', 'width: 100%');\n",
       "    this.root.append(nav_element);\n",
       "\n",
       "    // Define a callback function for later on.\n",
       "    function toolbar_event(event) {\n",
       "        return fig.toolbar_button_onclick(event['data']);\n",
       "    }\n",
       "    function toolbar_mouse_event(event) {\n",
       "        return fig.toolbar_button_onmouseover(event['data']);\n",
       "    }\n",
       "\n",
       "    for(var toolbar_ind in mpl.toolbar_items) {\n",
       "        var name = mpl.toolbar_items[toolbar_ind][0];\n",
       "        var tooltip = mpl.toolbar_items[toolbar_ind][1];\n",
       "        var image = mpl.toolbar_items[toolbar_ind][2];\n",
       "        var method_name = mpl.toolbar_items[toolbar_ind][3];\n",
       "\n",
       "        if (!name) {\n",
       "            // put a spacer in here.\n",
       "            continue;\n",
       "        }\n",
       "        var button = $('<button/>');\n",
       "        button.addClass('ui-button ui-widget ui-state-default ui-corner-all ' +\n",
       "                        'ui-button-icon-only');\n",
       "        button.attr('role', 'button');\n",
       "        button.attr('aria-disabled', 'false');\n",
       "        button.click(method_name, toolbar_event);\n",
       "        button.mouseover(tooltip, toolbar_mouse_event);\n",
       "\n",
       "        var icon_img = $('<span/>');\n",
       "        icon_img.addClass('ui-button-icon-primary ui-icon');\n",
       "        icon_img.addClass(image);\n",
       "        icon_img.addClass('ui-corner-all');\n",
       "\n",
       "        var tooltip_span = $('<span/>');\n",
       "        tooltip_span.addClass('ui-button-text');\n",
       "        tooltip_span.html(tooltip);\n",
       "\n",
       "        button.append(icon_img);\n",
       "        button.append(tooltip_span);\n",
       "\n",
       "        nav_element.append(button);\n",
       "    }\n",
       "\n",
       "    var fmt_picker_span = $('<span/>');\n",
       "\n",
       "    var fmt_picker = $('<select/>');\n",
       "    fmt_picker.addClass('mpl-toolbar-option ui-widget ui-widget-content');\n",
       "    fmt_picker_span.append(fmt_picker);\n",
       "    nav_element.append(fmt_picker_span);\n",
       "    this.format_dropdown = fmt_picker[0];\n",
       "\n",
       "    for (var ind in mpl.extensions) {\n",
       "        var fmt = mpl.extensions[ind];\n",
       "        var option = $(\n",
       "            '<option/>', {selected: fmt === mpl.default_extension}).html(fmt);\n",
       "        fmt_picker.append(option);\n",
       "    }\n",
       "\n",
       "    // Add hover states to the ui-buttons\n",
       "    $( \".ui-button\" ).hover(\n",
       "        function() { $(this).addClass(\"ui-state-hover\");},\n",
       "        function() { $(this).removeClass(\"ui-state-hover\");}\n",
       "    );\n",
       "\n",
       "    var status_bar = $('<span class=\"mpl-message\"/>');\n",
       "    nav_element.append(status_bar);\n",
       "    this.message = status_bar[0];\n",
       "}\n",
       "\n",
       "mpl.figure.prototype.request_resize = function(x_pixels, y_pixels) {\n",
       "    // Request matplotlib to resize the figure. Matplotlib will then trigger a resize in the client,\n",
       "    // which will in turn request a refresh of the image.\n",
       "    this.send_message('resize', {'width': x_pixels, 'height': y_pixels});\n",
       "}\n",
       "\n",
       "mpl.figure.prototype.send_message = function(type, properties) {\n",
       "    properties['type'] = type;\n",
       "    properties['figure_id'] = this.id;\n",
       "    this.ws.send(JSON.stringify(properties));\n",
       "}\n",
       "\n",
       "mpl.figure.prototype.send_draw_message = function() {\n",
       "    if (!this.waiting) {\n",
       "        this.waiting = true;\n",
       "        this.ws.send(JSON.stringify({type: \"draw\", figure_id: this.id}));\n",
       "    }\n",
       "}\n",
       "\n",
       "\n",
       "mpl.figure.prototype.handle_save = function(fig, msg) {\n",
       "    var format_dropdown = fig.format_dropdown;\n",
       "    var format = format_dropdown.options[format_dropdown.selectedIndex].value;\n",
       "    fig.ondownload(fig, format);\n",
       "}\n",
       "\n",
       "\n",
       "mpl.figure.prototype.handle_resize = function(fig, msg) {\n",
       "    var size = msg['size'];\n",
       "    if (size[0] != fig.canvas.width || size[1] != fig.canvas.height) {\n",
       "        fig._resize_canvas(size[0], size[1]);\n",
       "        fig.send_message(\"refresh\", {});\n",
       "    };\n",
       "}\n",
       "\n",
       "mpl.figure.prototype.handle_rubberband = function(fig, msg) {\n",
       "    var x0 = msg['x0'] / mpl.ratio;\n",
       "    var y0 = (fig.canvas.height - msg['y0']) / mpl.ratio;\n",
       "    var x1 = msg['x1'] / mpl.ratio;\n",
       "    var y1 = (fig.canvas.height - msg['y1']) / mpl.ratio;\n",
       "    x0 = Math.floor(x0) + 0.5;\n",
       "    y0 = Math.floor(y0) + 0.5;\n",
       "    x1 = Math.floor(x1) + 0.5;\n",
       "    y1 = Math.floor(y1) + 0.5;\n",
       "    var min_x = Math.min(x0, x1);\n",
       "    var min_y = Math.min(y0, y1);\n",
       "    var width = Math.abs(x1 - x0);\n",
       "    var height = Math.abs(y1 - y0);\n",
       "\n",
       "    fig.rubberband_context.clearRect(\n",
       "        0, 0, fig.canvas.width / mpl.ratio, fig.canvas.height / mpl.ratio);\n",
       "\n",
       "    fig.rubberband_context.strokeRect(min_x, min_y, width, height);\n",
       "}\n",
       "\n",
       "mpl.figure.prototype.handle_figure_label = function(fig, msg) {\n",
       "    // Updates the figure title.\n",
       "    fig.header.textContent = msg['label'];\n",
       "}\n",
       "\n",
       "mpl.figure.prototype.handle_cursor = function(fig, msg) {\n",
       "    var cursor = msg['cursor'];\n",
       "    switch(cursor)\n",
       "    {\n",
       "    case 0:\n",
       "        cursor = 'pointer';\n",
       "        break;\n",
       "    case 1:\n",
       "        cursor = 'default';\n",
       "        break;\n",
       "    case 2:\n",
       "        cursor = 'crosshair';\n",
       "        break;\n",
       "    case 3:\n",
       "        cursor = 'move';\n",
       "        break;\n",
       "    }\n",
       "    fig.rubberband_canvas.style.cursor = cursor;\n",
       "}\n",
       "\n",
       "mpl.figure.prototype.handle_message = function(fig, msg) {\n",
       "    fig.message.textContent = msg['message'];\n",
       "}\n",
       "\n",
       "mpl.figure.prototype.handle_draw = function(fig, msg) {\n",
       "    // Request the server to send over a new figure.\n",
       "    fig.send_draw_message();\n",
       "}\n",
       "\n",
       "mpl.figure.prototype.handle_image_mode = function(fig, msg) {\n",
       "    fig.image_mode = msg['mode'];\n",
       "}\n",
       "\n",
       "mpl.figure.prototype.updated_canvas_event = function() {\n",
       "    // Called whenever the canvas gets updated.\n",
       "    this.send_message(\"ack\", {});\n",
       "}\n",
       "\n",
       "// A function to construct a web socket function for onmessage handling.\n",
       "// Called in the figure constructor.\n",
       "mpl.figure.prototype._make_on_message_function = function(fig) {\n",
       "    return function socket_on_message(evt) {\n",
       "        if (evt.data instanceof Blob) {\n",
       "            /* FIXME: We get \"Resource interpreted as Image but\n",
       "             * transferred with MIME type text/plain:\" errors on\n",
       "             * Chrome.  But how to set the MIME type?  It doesn't seem\n",
       "             * to be part of the websocket stream */\n",
       "            evt.data.type = \"image/png\";\n",
       "\n",
       "            /* Free the memory for the previous frames */\n",
       "            if (fig.imageObj.src) {\n",
       "                (window.URL || window.webkitURL).revokeObjectURL(\n",
       "                    fig.imageObj.src);\n",
       "            }\n",
       "\n",
       "            fig.imageObj.src = (window.URL || window.webkitURL).createObjectURL(\n",
       "                evt.data);\n",
       "            fig.updated_canvas_event();\n",
       "            fig.waiting = false;\n",
       "            return;\n",
       "        }\n",
       "        else if (typeof evt.data === 'string' && evt.data.slice(0, 21) == \"data:image/png;base64\") {\n",
       "            fig.imageObj.src = evt.data;\n",
       "            fig.updated_canvas_event();\n",
       "            fig.waiting = false;\n",
       "            return;\n",
       "        }\n",
       "\n",
       "        var msg = JSON.parse(evt.data);\n",
       "        var msg_type = msg['type'];\n",
       "\n",
       "        // Call the  \"handle_{type}\" callback, which takes\n",
       "        // the figure and JSON message as its only arguments.\n",
       "        try {\n",
       "            var callback = fig[\"handle_\" + msg_type];\n",
       "        } catch (e) {\n",
       "            console.log(\"No handler for the '\" + msg_type + \"' message type: \", msg);\n",
       "            return;\n",
       "        }\n",
       "\n",
       "        if (callback) {\n",
       "            try {\n",
       "                // console.log(\"Handling '\" + msg_type + \"' message: \", msg);\n",
       "                callback(fig, msg);\n",
       "            } catch (e) {\n",
       "                console.log(\"Exception inside the 'handler_\" + msg_type + \"' callback:\", e, e.stack, msg);\n",
       "            }\n",
       "        }\n",
       "    };\n",
       "}\n",
       "\n",
       "// from http://stackoverflow.com/questions/1114465/getting-mouse-location-in-canvas\n",
       "mpl.findpos = function(e) {\n",
       "    //this section is from http://www.quirksmode.org/js/events_properties.html\n",
       "    var targ;\n",
       "    if (!e)\n",
       "        e = window.event;\n",
       "    if (e.target)\n",
       "        targ = e.target;\n",
       "    else if (e.srcElement)\n",
       "        targ = e.srcElement;\n",
       "    if (targ.nodeType == 3) // defeat Safari bug\n",
       "        targ = targ.parentNode;\n",
       "\n",
       "    // jQuery normalizes the pageX and pageY\n",
       "    // pageX,Y are the mouse positions relative to the document\n",
       "    // offset() returns the position of the element relative to the document\n",
       "    var x = e.pageX - $(targ).offset().left;\n",
       "    var y = e.pageY - $(targ).offset().top;\n",
       "\n",
       "    return {\"x\": x, \"y\": y};\n",
       "};\n",
       "\n",
       "/*\n",
       " * return a copy of an object with only non-object keys\n",
       " * we need this to avoid circular references\n",
       " * http://stackoverflow.com/a/24161582/3208463\n",
       " */\n",
       "function simpleKeys (original) {\n",
       "  return Object.keys(original).reduce(function (obj, key) {\n",
       "    if (typeof original[key] !== 'object')\n",
       "        obj[key] = original[key]\n",
       "    return obj;\n",
       "  }, {});\n",
       "}\n",
       "\n",
       "mpl.figure.prototype.mouse_event = function(event, name) {\n",
       "    var canvas_pos = mpl.findpos(event)\n",
       "\n",
       "    if (name === 'button_press')\n",
       "    {\n",
       "        this.canvas.focus();\n",
       "        this.canvas_div.focus();\n",
       "    }\n",
       "\n",
       "    var x = canvas_pos.x * mpl.ratio;\n",
       "    var y = canvas_pos.y * mpl.ratio;\n",
       "\n",
       "    this.send_message(name, {x: x, y: y, button: event.button,\n",
       "                             step: event.step,\n",
       "                             guiEvent: simpleKeys(event)});\n",
       "\n",
       "    /* This prevents the web browser from automatically changing to\n",
       "     * the text insertion cursor when the button is pressed.  We want\n",
       "     * to control all of the cursor setting manually through the\n",
       "     * 'cursor' event from matplotlib */\n",
       "    event.preventDefault();\n",
       "    return false;\n",
       "}\n",
       "\n",
       "mpl.figure.prototype._key_event_extra = function(event, name) {\n",
       "    // Handle any extra behaviour associated with a key event\n",
       "}\n",
       "\n",
       "mpl.figure.prototype.key_event = function(event, name) {\n",
       "\n",
       "    // Prevent repeat events\n",
       "    if (name == 'key_press')\n",
       "    {\n",
       "        if (event.which === this._key)\n",
       "            return;\n",
       "        else\n",
       "            this._key = event.which;\n",
       "    }\n",
       "    if (name == 'key_release')\n",
       "        this._key = null;\n",
       "\n",
       "    var value = '';\n",
       "    if (event.ctrlKey && event.which != 17)\n",
       "        value += \"ctrl+\";\n",
       "    if (event.altKey && event.which != 18)\n",
       "        value += \"alt+\";\n",
       "    if (event.shiftKey && event.which != 16)\n",
       "        value += \"shift+\";\n",
       "\n",
       "    value += 'k';\n",
       "    value += event.which.toString();\n",
       "\n",
       "    this._key_event_extra(event, name);\n",
       "\n",
       "    this.send_message(name, {key: value,\n",
       "                             guiEvent: simpleKeys(event)});\n",
       "    return false;\n",
       "}\n",
       "\n",
       "mpl.figure.prototype.toolbar_button_onclick = function(name) {\n",
       "    if (name == 'download') {\n",
       "        this.handle_save(this, null);\n",
       "    } else {\n",
       "        this.send_message(\"toolbar_button\", {name: name});\n",
       "    }\n",
       "};\n",
       "\n",
       "mpl.figure.prototype.toolbar_button_onmouseover = function(tooltip) {\n",
       "    this.message.textContent = tooltip;\n",
       "};\n",
       "mpl.toolbar_items = [[\"Home\", \"Reset original view\", \"fa fa-home icon-home\", \"home\"], [\"Back\", \"Back to previous view\", \"fa fa-arrow-left icon-arrow-left\", \"back\"], [\"Forward\", \"Forward to next view\", \"fa fa-arrow-right icon-arrow-right\", \"forward\"], [\"\", \"\", \"\", \"\"], [\"Pan\", \"Pan axes with left mouse, zoom with right\", \"fa fa-arrows icon-move\", \"pan\"], [\"Zoom\", \"Zoom to rectangle\", \"fa fa-square-o icon-check-empty\", \"zoom\"], [\"\", \"\", \"\", \"\"], [\"Download\", \"Download plot\", \"fa fa-floppy-o icon-save\", \"download\"]];\n",
       "\n",
       "mpl.extensions = [\"eps\", \"pdf\", \"png\", \"ps\", \"raw\", \"svg\"];\n",
       "\n",
       "mpl.default_extension = \"png\";var comm_websocket_adapter = function(comm) {\n",
       "    // Create a \"websocket\"-like object which calls the given IPython comm\n",
       "    // object with the appropriate methods. Currently this is a non binary\n",
       "    // socket, so there is still some room for performance tuning.\n",
       "    var ws = {};\n",
       "\n",
       "    ws.close = function() {\n",
       "        comm.close()\n",
       "    };\n",
       "    ws.send = function(m) {\n",
       "        //console.log('sending', m);\n",
       "        comm.send(m);\n",
       "    };\n",
       "    // Register the callback with on_msg.\n",
       "    comm.on_msg(function(msg) {\n",
       "        //console.log('receiving', msg['content']['data'], msg);\n",
       "        // Pass the mpl event to the overridden (by mpl) onmessage function.\n",
       "        ws.onmessage(msg['content']['data'])\n",
       "    });\n",
       "    return ws;\n",
       "}\n",
       "\n",
       "mpl.mpl_figure_comm = function(comm, msg) {\n",
       "    // This is the function which gets called when the mpl process\n",
       "    // starts-up an IPython Comm through the \"matplotlib\" channel.\n",
       "\n",
       "    var id = msg.content.data.id;\n",
       "    // Get hold of the div created by the display call when the Comm\n",
       "    // socket was opened in Python.\n",
       "    var element = $(\"#\" + id);\n",
       "    var ws_proxy = comm_websocket_adapter(comm)\n",
       "\n",
       "    function ondownload(figure, format) {\n",
       "        window.open(figure.imageObj.src);\n",
       "    }\n",
       "\n",
       "    var fig = new mpl.figure(id, ws_proxy,\n",
       "                           ondownload,\n",
       "                           element.get(0));\n",
       "\n",
       "    // Call onopen now - mpl needs it, as it is assuming we've passed it a real\n",
       "    // web socket which is closed, not our websocket->open comm proxy.\n",
       "    ws_proxy.onopen();\n",
       "\n",
       "    fig.parent_element = element.get(0);\n",
       "    fig.cell_info = mpl.find_output_cell(\"<div id='\" + id + \"'></div>\");\n",
       "    if (!fig.cell_info) {\n",
       "        console.error(\"Failed to find cell for figure\", id, fig);\n",
       "        return;\n",
       "    }\n",
       "\n",
       "    var output_index = fig.cell_info[2]\n",
       "    var cell = fig.cell_info[0];\n",
       "\n",
       "};\n",
       "\n",
       "mpl.figure.prototype.handle_close = function(fig, msg) {\n",
       "    var width = fig.canvas.width/mpl.ratio\n",
       "    fig.root.unbind('remove')\n",
       "\n",
       "    // Update the output cell to use the data from the current canvas.\n",
       "    fig.push_to_output();\n",
       "    var dataURL = fig.canvas.toDataURL();\n",
       "    // Re-enable the keyboard manager in IPython - without this line, in FF,\n",
       "    // the notebook keyboard shortcuts fail.\n",
       "    IPython.keyboard_manager.enable()\n",
       "    $(fig.parent_element).html('<img src=\"' + dataURL + '\" width=\"' + width + '\">');\n",
       "    fig.close_ws(fig, msg);\n",
       "}\n",
       "\n",
       "mpl.figure.prototype.close_ws = function(fig, msg){\n",
       "    fig.send_message('closing', msg);\n",
       "    // fig.ws.close()\n",
       "}\n",
       "\n",
       "mpl.figure.prototype.push_to_output = function(remove_interactive) {\n",
       "    // Turn the data on the canvas into data in the output cell.\n",
       "    var width = this.canvas.width/mpl.ratio\n",
       "    var dataURL = this.canvas.toDataURL();\n",
       "    this.cell_info[1]['text/html'] = '<img src=\"' + dataURL + '\" width=\"' + width + '\">';\n",
       "}\n",
       "\n",
       "mpl.figure.prototype.updated_canvas_event = function() {\n",
       "    // Tell IPython that the notebook contents must change.\n",
       "    IPython.notebook.set_dirty(true);\n",
       "    this.send_message(\"ack\", {});\n",
       "    var fig = this;\n",
       "    // Wait a second, then push the new image to the DOM so\n",
       "    // that it is saved nicely (might be nice to debounce this).\n",
       "    setTimeout(function () { fig.push_to_output() }, 1000);\n",
       "}\n",
       "\n",
       "mpl.figure.prototype._init_toolbar = function() {\n",
       "    var fig = this;\n",
       "\n",
       "    var nav_element = $('<div/>');\n",
       "    nav_element.attr('style', 'width: 100%');\n",
       "    this.root.append(nav_element);\n",
       "\n",
       "    // Define a callback function for later on.\n",
       "    function toolbar_event(event) {\n",
       "        return fig.toolbar_button_onclick(event['data']);\n",
       "    }\n",
       "    function toolbar_mouse_event(event) {\n",
       "        return fig.toolbar_button_onmouseover(event['data']);\n",
       "    }\n",
       "\n",
       "    for(var toolbar_ind in mpl.toolbar_items){\n",
       "        var name = mpl.toolbar_items[toolbar_ind][0];\n",
       "        var tooltip = mpl.toolbar_items[toolbar_ind][1];\n",
       "        var image = mpl.toolbar_items[toolbar_ind][2];\n",
       "        var method_name = mpl.toolbar_items[toolbar_ind][3];\n",
       "\n",
       "        if (!name) { continue; };\n",
       "\n",
       "        var button = $('<button class=\"btn btn-default\" href=\"#\" title=\"' + name + '\"><i class=\"fa ' + image + ' fa-lg\"></i></button>');\n",
       "        button.click(method_name, toolbar_event);\n",
       "        button.mouseover(tooltip, toolbar_mouse_event);\n",
       "        nav_element.append(button);\n",
       "    }\n",
       "\n",
       "    // Add the status bar.\n",
       "    var status_bar = $('<span class=\"mpl-message\" style=\"text-align:right; float: right;\"/>');\n",
       "    nav_element.append(status_bar);\n",
       "    this.message = status_bar[0];\n",
       "\n",
       "    // Add the close button to the window.\n",
       "    var buttongrp = $('<div class=\"btn-group inline pull-right\"></div>');\n",
       "    var button = $('<button class=\"btn btn-mini btn-primary\" href=\"#\" title=\"Stop Interaction\"><i class=\"fa fa-power-off icon-remove icon-large\"></i></button>');\n",
       "    button.click(function (evt) { fig.handle_close(fig, {}); } );\n",
       "    button.mouseover('Stop Interaction', toolbar_mouse_event);\n",
       "    buttongrp.append(button);\n",
       "    var titlebar = this.root.find($('.ui-dialog-titlebar'));\n",
       "    titlebar.prepend(buttongrp);\n",
       "}\n",
       "\n",
       "mpl.figure.prototype._root_extra_style = function(el){\n",
       "    var fig = this\n",
       "    el.on(\"remove\", function(){\n",
       "\tfig.close_ws(fig, {});\n",
       "    });\n",
       "}\n",
       "\n",
       "mpl.figure.prototype._canvas_extra_style = function(el){\n",
       "    // this is important to make the div 'focusable\n",
       "    el.attr('tabindex', 0)\n",
       "    // reach out to IPython and tell the keyboard manager to turn it's self\n",
       "    // off when our div gets focus\n",
       "\n",
       "    // location in version 3\n",
       "    if (IPython.notebook.keyboard_manager) {\n",
       "        IPython.notebook.keyboard_manager.register_events(el);\n",
       "    }\n",
       "    else {\n",
       "        // location in version 2\n",
       "        IPython.keyboard_manager.register_events(el);\n",
       "    }\n",
       "\n",
       "}\n",
       "\n",
       "mpl.figure.prototype._key_event_extra = function(event, name) {\n",
       "    var manager = IPython.notebook.keyboard_manager;\n",
       "    if (!manager)\n",
       "        manager = IPython.keyboard_manager;\n",
       "\n",
       "    // Check for shift+enter\n",
       "    if (event.shiftKey && event.which == 13) {\n",
       "        this.canvas_div.blur();\n",
       "        // select the cell after this one\n",
       "        var index = IPython.notebook.find_cell_index(this.cell_info[0]);\n",
       "        IPython.notebook.select(index + 1);\n",
       "    }\n",
       "}\n",
       "\n",
       "mpl.figure.prototype.handle_save = function(fig, msg) {\n",
       "    fig.ondownload(fig, null);\n",
       "}\n",
       "\n",
       "\n",
       "mpl.find_output_cell = function(html_output) {\n",
       "    // Return the cell and output element which can be found *uniquely* in the notebook.\n",
       "    // Note - this is a bit hacky, but it is done because the \"notebook_saving.Notebook\"\n",
       "    // IPython event is triggered only after the cells have been serialised, which for\n",
       "    // our purposes (turning an active figure into a static one), is too late.\n",
       "    var cells = IPython.notebook.get_cells();\n",
       "    var ncells = cells.length;\n",
       "    for (var i=0; i<ncells; i++) {\n",
       "        var cell = cells[i];\n",
       "        if (cell.cell_type === 'code'){\n",
       "            for (var j=0; j<cell.output_area.outputs.length; j++) {\n",
       "                var data = cell.output_area.outputs[j];\n",
       "                if (data.data) {\n",
       "                    // IPython >= 3 moved mimebundle to data attribute of output\n",
       "                    data = data.data;\n",
       "                }\n",
       "                if (data['text/html'] == html_output) {\n",
       "                    return [cell, data, j];\n",
       "                }\n",
       "            }\n",
       "        }\n",
       "    }\n",
       "}\n",
       "\n",
       "// Register the function which deals with the matplotlib target/channel.\n",
       "// The kernel may be null if the page has been refreshed.\n",
       "if (IPython.notebook.kernel != null) {\n",
       "    IPython.notebook.kernel.comm_manager.register_target('matplotlib', mpl.mpl_figure_comm);\n",
       "}\n"
      ],
      "text/plain": [
       "<IPython.core.display.Javascript object>"
      ]
     },
     "metadata": {},
     "output_type": "display_data"
    },
    {
     "data": {
      "text/html": [
       "<img src=\"data:image/png;base64,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\" width=\"640\">"
      ],
      "text/plain": [
       "<IPython.core.display.HTML object>"
      ]
     },
     "metadata": {},
     "output_type": "display_data"
    },
    {
     "ename": "ValueError",
     "evalue": "'c' argument has 8 elements, which is inconsistent with 'x' and 'y' with size 64.",
     "output_type": "error",
     "traceback": [
      "\u001b[1;31m---------------------------------------------------------------------------\u001b[0m",
      "\u001b[1;31mValueError\u001b[0m                                Traceback (most recent call last)",
      "\u001b[1;32mc:\\users\\lisak\\appdata\\local\\programs\\python\\python38\\lib\\site-packages\\matplotlib\\axes\\_axes.py\u001b[0m in \u001b[0;36m_parse_scatter_color_args\u001b[1;34m(c, edgecolors, kwargs, xsize, get_next_color_func)\u001b[0m\n\u001b[0;32m   4230\u001b[0m             \u001b[1;32mtry\u001b[0m\u001b[1;33m:\u001b[0m  \u001b[1;31m# Is 'c' acceptable as PathCollection facecolors?\u001b[0m\u001b[1;33m\u001b[0m\u001b[1;33m\u001b[0m\u001b[0m\n\u001b[1;32m-> 4231\u001b[1;33m                 \u001b[0mcolors\u001b[0m \u001b[1;33m=\u001b[0m \u001b[0mmcolors\u001b[0m\u001b[1;33m.\u001b[0m\u001b[0mto_rgba_array\u001b[0m\u001b[1;33m(\u001b[0m\u001b[0mc\u001b[0m\u001b[1;33m)\u001b[0m\u001b[1;33m\u001b[0m\u001b[1;33m\u001b[0m\u001b[0m\n\u001b[0m\u001b[0;32m   4232\u001b[0m             \u001b[1;32mexcept\u001b[0m \u001b[0mValueError\u001b[0m\u001b[1;33m:\u001b[0m\u001b[1;33m\u001b[0m\u001b[1;33m\u001b[0m\u001b[0m\n",
      "\u001b[1;32mc:\\users\\lisak\\appdata\\local\\programs\\python\\python38\\lib\\site-packages\\matplotlib\\colors.py\u001b[0m in \u001b[0;36mto_rgba_array\u001b[1;34m(c, alpha)\u001b[0m\n\u001b[0;32m    339\u001b[0m     \u001b[1;32melse\u001b[0m\u001b[1;33m:\u001b[0m\u001b[1;33m\u001b[0m\u001b[1;33m\u001b[0m\u001b[0m\n\u001b[1;32m--> 340\u001b[1;33m         \u001b[1;32mreturn\u001b[0m \u001b[0mnp\u001b[0m\u001b[1;33m.\u001b[0m\u001b[0marray\u001b[0m\u001b[1;33m(\u001b[0m\u001b[1;33m[\u001b[0m\u001b[0mto_rgba\u001b[0m\u001b[1;33m(\u001b[0m\u001b[0mcc\u001b[0m\u001b[1;33m,\u001b[0m \u001b[0malpha\u001b[0m\u001b[1;33m)\u001b[0m \u001b[1;32mfor\u001b[0m \u001b[0mcc\u001b[0m \u001b[1;32min\u001b[0m \u001b[0mc\u001b[0m\u001b[1;33m]\u001b[0m\u001b[1;33m)\u001b[0m\u001b[1;33m\u001b[0m\u001b[1;33m\u001b[0m\u001b[0m\n\u001b[0m\u001b[0;32m    341\u001b[0m \u001b[1;33m\u001b[0m\u001b[0m\n",
      "\u001b[1;32mc:\\users\\lisak\\appdata\\local\\programs\\python\\python38\\lib\\site-packages\\matplotlib\\colors.py\u001b[0m in \u001b[0;36m<listcomp>\u001b[1;34m(.0)\u001b[0m\n\u001b[0;32m    339\u001b[0m     \u001b[1;32melse\u001b[0m\u001b[1;33m:\u001b[0m\u001b[1;33m\u001b[0m\u001b[1;33m\u001b[0m\u001b[0m\n\u001b[1;32m--> 340\u001b[1;33m         \u001b[1;32mreturn\u001b[0m \u001b[0mnp\u001b[0m\u001b[1;33m.\u001b[0m\u001b[0marray\u001b[0m\u001b[1;33m(\u001b[0m\u001b[1;33m[\u001b[0m\u001b[0mto_rgba\u001b[0m\u001b[1;33m(\u001b[0m\u001b[0mcc\u001b[0m\u001b[1;33m,\u001b[0m \u001b[0malpha\u001b[0m\u001b[1;33m)\u001b[0m \u001b[1;32mfor\u001b[0m \u001b[0mcc\u001b[0m \u001b[1;32min\u001b[0m \u001b[0mc\u001b[0m\u001b[1;33m]\u001b[0m\u001b[1;33m)\u001b[0m\u001b[1;33m\u001b[0m\u001b[1;33m\u001b[0m\u001b[0m\n\u001b[0m\u001b[0;32m    341\u001b[0m \u001b[1;33m\u001b[0m\u001b[0m\n",
      "\u001b[1;32mc:\\users\\lisak\\appdata\\local\\programs\\python\\python38\\lib\\site-packages\\matplotlib\\colors.py\u001b[0m in \u001b[0;36mto_rgba\u001b[1;34m(c, alpha)\u001b[0m\n\u001b[0;32m    184\u001b[0m     \u001b[1;32mif\u001b[0m \u001b[0mrgba\u001b[0m \u001b[1;32mis\u001b[0m \u001b[1;32mNone\u001b[0m\u001b[1;33m:\u001b[0m  \u001b[1;31m# Suppress exception chaining of cache lookup failure.\u001b[0m\u001b[1;33m\u001b[0m\u001b[1;33m\u001b[0m\u001b[0m\n\u001b[1;32m--> 185\u001b[1;33m         \u001b[0mrgba\u001b[0m \u001b[1;33m=\u001b[0m \u001b[0m_to_rgba_no_colorcycle\u001b[0m\u001b[1;33m(\u001b[0m\u001b[0mc\u001b[0m\u001b[1;33m,\u001b[0m \u001b[0malpha\u001b[0m\u001b[1;33m)\u001b[0m\u001b[1;33m\u001b[0m\u001b[1;33m\u001b[0m\u001b[0m\n\u001b[0m\u001b[0;32m    186\u001b[0m         \u001b[1;32mtry\u001b[0m\u001b[1;33m:\u001b[0m\u001b[1;33m\u001b[0m\u001b[1;33m\u001b[0m\u001b[0m\n",
      "\u001b[1;32mc:\\users\\lisak\\appdata\\local\\programs\\python\\python38\\lib\\site-packages\\matplotlib\\colors.py\u001b[0m in \u001b[0;36m_to_rgba_no_colorcycle\u001b[1;34m(c, alpha)\u001b[0m\n\u001b[0;32m    267\u001b[0m         \u001b[1;31m# Test dimensionality to reject single floats.\u001b[0m\u001b[1;33m\u001b[0m\u001b[1;33m\u001b[0m\u001b[1;33m\u001b[0m\u001b[0m\n\u001b[1;32m--> 268\u001b[1;33m         \u001b[1;32mraise\u001b[0m \u001b[0mValueError\u001b[0m\u001b[1;33m(\u001b[0m\u001b[1;34mf\"Invalid RGBA argument: {orig_c!r}\"\u001b[0m\u001b[1;33m)\u001b[0m\u001b[1;33m\u001b[0m\u001b[1;33m\u001b[0m\u001b[0m\n\u001b[0m\u001b[0;32m    269\u001b[0m     \u001b[1;31m# Return a tuple to prevent the cached value from being modified.\u001b[0m\u001b[1;33m\u001b[0m\u001b[1;33m\u001b[0m\u001b[1;33m\u001b[0m\u001b[0m\n",
      "\u001b[1;31mValueError\u001b[0m: Invalid RGBA argument: array([[0.06707451, 0.22472771],\n       [0.3059313 , 0.32479485]])",
      "\nDuring handling of the above exception, another exception occurred:\n",
      "\u001b[1;31mValueError\u001b[0m                                Traceback (most recent call last)",
      "\u001b[1;32m<ipython-input-3-a315871c47a4>\u001b[0m in \u001b[0;36m<module>\u001b[1;34m\u001b[0m\n\u001b[0;32m     13\u001b[0m \u001b[0max\u001b[0m \u001b[1;33m=\u001b[0m \u001b[0mAxes3D\u001b[0m\u001b[1;33m(\u001b[0m\u001b[0mfig\u001b[0m\u001b[1;33m)\u001b[0m\u001b[1;33m\u001b[0m\u001b[1;33m\u001b[0m\u001b[0m\n\u001b[0;32m     14\u001b[0m \u001b[1;33m\u001b[0m\u001b[0m\n\u001b[1;32m---> 15\u001b[1;33m \u001b[0max\u001b[0m\u001b[1;33m.\u001b[0m\u001b[0mscatter\u001b[0m\u001b[1;33m(\u001b[0m\u001b[0mX\u001b[0m\u001b[1;33m,\u001b[0m\u001b[0mY\u001b[0m\u001b[1;33m,\u001b[0m\u001b[0mZ\u001b[0m\u001b[1;33m,\u001b[0m \u001b[0mc\u001b[0m\u001b[1;33m=\u001b[0m\u001b[0mcol\u001b[0m\u001b[1;33m)\u001b[0m\u001b[1;33m\u001b[0m\u001b[1;33m\u001b[0m\u001b[0m\n\u001b[0m\u001b[0;32m     16\u001b[0m \u001b[1;33m\u001b[0m\u001b[0m\n\u001b[0;32m     17\u001b[0m \u001b[0mplt\u001b[0m\u001b[1;33m.\u001b[0m\u001b[0mdraw\u001b[0m\u001b[1;33m(\u001b[0m\u001b[1;33m)\u001b[0m\u001b[1;33m\u001b[0m\u001b[1;33m\u001b[0m\u001b[0m\n",
      "\u001b[1;32mc:\\users\\lisak\\appdata\\local\\programs\\python\\python38\\lib\\site-packages\\mpl_toolkits\\mplot3d\\axes3d.py\u001b[0m in \u001b[0;36mscatter\u001b[1;34m(self, xs, ys, zs, zdir, s, c, depthshade, *args, **kwargs)\u001b[0m\n\u001b[0;32m   2237\u001b[0m         \u001b[0mxs\u001b[0m\u001b[1;33m,\u001b[0m \u001b[0mys\u001b[0m\u001b[1;33m,\u001b[0m \u001b[0mzs\u001b[0m\u001b[1;33m,\u001b[0m \u001b[0ms\u001b[0m\u001b[1;33m,\u001b[0m \u001b[0mc\u001b[0m \u001b[1;33m=\u001b[0m \u001b[0mcbook\u001b[0m\u001b[1;33m.\u001b[0m\u001b[0mdelete_masked_points\u001b[0m\u001b[1;33m(\u001b[0m\u001b[0mxs\u001b[0m\u001b[1;33m,\u001b[0m \u001b[0mys\u001b[0m\u001b[1;33m,\u001b[0m \u001b[0mzs\u001b[0m\u001b[1;33m,\u001b[0m \u001b[0ms\u001b[0m\u001b[1;33m,\u001b[0m \u001b[0mc\u001b[0m\u001b[1;33m)\u001b[0m\u001b[1;33m\u001b[0m\u001b[1;33m\u001b[0m\u001b[0m\n\u001b[0;32m   2238\u001b[0m \u001b[1;33m\u001b[0m\u001b[0m\n\u001b[1;32m-> 2239\u001b[1;33m         \u001b[0mpatches\u001b[0m \u001b[1;33m=\u001b[0m \u001b[0msuper\u001b[0m\u001b[1;33m(\u001b[0m\u001b[1;33m)\u001b[0m\u001b[1;33m.\u001b[0m\u001b[0mscatter\u001b[0m\u001b[1;33m(\u001b[0m\u001b[0mxs\u001b[0m\u001b[1;33m,\u001b[0m \u001b[0mys\u001b[0m\u001b[1;33m,\u001b[0m \u001b[0ms\u001b[0m\u001b[1;33m=\u001b[0m\u001b[0ms\u001b[0m\u001b[1;33m,\u001b[0m \u001b[0mc\u001b[0m\u001b[1;33m=\u001b[0m\u001b[0mc\u001b[0m\u001b[1;33m,\u001b[0m \u001b[1;33m*\u001b[0m\u001b[0margs\u001b[0m\u001b[1;33m,\u001b[0m \u001b[1;33m**\u001b[0m\u001b[0mkwargs\u001b[0m\u001b[1;33m)\u001b[0m\u001b[1;33m\u001b[0m\u001b[1;33m\u001b[0m\u001b[0m\n\u001b[0m\u001b[0;32m   2240\u001b[0m         art3d.patch_collection_2d_to_3d(patches, zs=zs, zdir=zdir,\n\u001b[0;32m   2241\u001b[0m                                         depthshade=depthshade)\n",
      "\u001b[1;32mc:\\users\\lisak\\appdata\\local\\programs\\python\\python38\\lib\\site-packages\\matplotlib\\__init__.py\u001b[0m in \u001b[0;36minner\u001b[1;34m(ax, data, *args, **kwargs)\u001b[0m\n\u001b[0;32m   1563\u001b[0m     \u001b[1;32mdef\u001b[0m \u001b[0minner\u001b[0m\u001b[1;33m(\u001b[0m\u001b[0max\u001b[0m\u001b[1;33m,\u001b[0m \u001b[1;33m*\u001b[0m\u001b[0margs\u001b[0m\u001b[1;33m,\u001b[0m \u001b[0mdata\u001b[0m\u001b[1;33m=\u001b[0m\u001b[1;32mNone\u001b[0m\u001b[1;33m,\u001b[0m \u001b[1;33m**\u001b[0m\u001b[0mkwargs\u001b[0m\u001b[1;33m)\u001b[0m\u001b[1;33m:\u001b[0m\u001b[1;33m\u001b[0m\u001b[1;33m\u001b[0m\u001b[0m\n\u001b[0;32m   1564\u001b[0m         \u001b[1;32mif\u001b[0m \u001b[0mdata\u001b[0m \u001b[1;32mis\u001b[0m \u001b[1;32mNone\u001b[0m\u001b[1;33m:\u001b[0m\u001b[1;33m\u001b[0m\u001b[1;33m\u001b[0m\u001b[0m\n\u001b[1;32m-> 1565\u001b[1;33m             \u001b[1;32mreturn\u001b[0m \u001b[0mfunc\u001b[0m\u001b[1;33m(\u001b[0m\u001b[0max\u001b[0m\u001b[1;33m,\u001b[0m \u001b[1;33m*\u001b[0m\u001b[0mmap\u001b[0m\u001b[1;33m(\u001b[0m\u001b[0msanitize_sequence\u001b[0m\u001b[1;33m,\u001b[0m \u001b[0margs\u001b[0m\u001b[1;33m)\u001b[0m\u001b[1;33m,\u001b[0m \u001b[1;33m**\u001b[0m\u001b[0mkwargs\u001b[0m\u001b[1;33m)\u001b[0m\u001b[1;33m\u001b[0m\u001b[1;33m\u001b[0m\u001b[0m\n\u001b[0m\u001b[0;32m   1566\u001b[0m \u001b[1;33m\u001b[0m\u001b[0m\n\u001b[0;32m   1567\u001b[0m         \u001b[0mbound\u001b[0m \u001b[1;33m=\u001b[0m \u001b[0mnew_sig\u001b[0m\u001b[1;33m.\u001b[0m\u001b[0mbind\u001b[0m\u001b[1;33m(\u001b[0m\u001b[0max\u001b[0m\u001b[1;33m,\u001b[0m \u001b[1;33m*\u001b[0m\u001b[0margs\u001b[0m\u001b[1;33m,\u001b[0m \u001b[1;33m**\u001b[0m\u001b[0mkwargs\u001b[0m\u001b[1;33m)\u001b[0m\u001b[1;33m\u001b[0m\u001b[1;33m\u001b[0m\u001b[0m\n",
      "\u001b[1;32mc:\\users\\lisak\\appdata\\local\\programs\\python\\python38\\lib\\site-packages\\matplotlib\\cbook\\deprecation.py\u001b[0m in \u001b[0;36mwrapper\u001b[1;34m(*args, **kwargs)\u001b[0m\n\u001b[0;32m    356\u001b[0m                 \u001b[1;34mf\"%(removal)s.  If any parameter follows {name!r}, they \"\u001b[0m\u001b[1;33m\u001b[0m\u001b[1;33m\u001b[0m\u001b[0m\n\u001b[0;32m    357\u001b[0m                 f\"should be pass as keyword, not positionally.\")\n\u001b[1;32m--> 358\u001b[1;33m         \u001b[1;32mreturn\u001b[0m \u001b[0mfunc\u001b[0m\u001b[1;33m(\u001b[0m\u001b[1;33m*\u001b[0m\u001b[0margs\u001b[0m\u001b[1;33m,\u001b[0m \u001b[1;33m**\u001b[0m\u001b[0mkwargs\u001b[0m\u001b[1;33m)\u001b[0m\u001b[1;33m\u001b[0m\u001b[1;33m\u001b[0m\u001b[0m\n\u001b[0m\u001b[0;32m    359\u001b[0m \u001b[1;33m\u001b[0m\u001b[0m\n\u001b[0;32m    360\u001b[0m     \u001b[1;32mreturn\u001b[0m \u001b[0mwrapper\u001b[0m\u001b[1;33m\u001b[0m\u001b[1;33m\u001b[0m\u001b[0m\n",
      "\u001b[1;32mc:\\users\\lisak\\appdata\\local\\programs\\python\\python38\\lib\\site-packages\\matplotlib\\axes\\_axes.py\u001b[0m in \u001b[0;36mscatter\u001b[1;34m(self, x, y, s, c, marker, cmap, norm, vmin, vmax, alpha, linewidths, verts, edgecolors, plotnonfinite, **kwargs)\u001b[0m\n\u001b[0;32m   4388\u001b[0m \u001b[1;33m\u001b[0m\u001b[0m\n\u001b[0;32m   4389\u001b[0m         \u001b[0mc\u001b[0m\u001b[1;33m,\u001b[0m \u001b[0mcolors\u001b[0m\u001b[1;33m,\u001b[0m \u001b[0medgecolors\u001b[0m \u001b[1;33m=\u001b[0m\u001b[0;31m \u001b[0m\u001b[0;31m\\\u001b[0m\u001b[1;33m\u001b[0m\u001b[1;33m\u001b[0m\u001b[0m\n\u001b[1;32m-> 4390\u001b[1;33m             self._parse_scatter_color_args(\n\u001b[0m\u001b[0;32m   4391\u001b[0m                 \u001b[0mc\u001b[0m\u001b[1;33m,\u001b[0m \u001b[0medgecolors\u001b[0m\u001b[1;33m,\u001b[0m \u001b[0mkwargs\u001b[0m\u001b[1;33m,\u001b[0m \u001b[0mx\u001b[0m\u001b[1;33m.\u001b[0m\u001b[0msize\u001b[0m\u001b[1;33m,\u001b[0m\u001b[1;33m\u001b[0m\u001b[1;33m\u001b[0m\u001b[0m\n\u001b[0;32m   4392\u001b[0m                 get_next_color_func=self._get_patches_for_fill.get_next_color)\n",
      "\u001b[1;32mc:\\users\\lisak\\appdata\\local\\programs\\python\\python38\\lib\\site-packages\\matplotlib\\axes\\_axes.py\u001b[0m in \u001b[0;36m_parse_scatter_color_args\u001b[1;34m(c, edgecolors, kwargs, xsize, get_next_color_func)\u001b[0m\n\u001b[0;32m   4232\u001b[0m             \u001b[1;32mexcept\u001b[0m \u001b[0mValueError\u001b[0m\u001b[1;33m:\u001b[0m\u001b[1;33m\u001b[0m\u001b[1;33m\u001b[0m\u001b[0m\n\u001b[0;32m   4233\u001b[0m                 \u001b[1;32mif\u001b[0m \u001b[1;32mnot\u001b[0m \u001b[0mvalid_shape\u001b[0m\u001b[1;33m:\u001b[0m\u001b[1;33m\u001b[0m\u001b[1;33m\u001b[0m\u001b[0m\n\u001b[1;32m-> 4234\u001b[1;33m                     \u001b[1;32mraise\u001b[0m \u001b[0minvalid_shape_exception\u001b[0m\u001b[1;33m(\u001b[0m\u001b[0mc\u001b[0m\u001b[1;33m.\u001b[0m\u001b[0msize\u001b[0m\u001b[1;33m,\u001b[0m \u001b[0mxsize\u001b[0m\u001b[1;33m)\u001b[0m\u001b[1;33m\u001b[0m\u001b[1;33m\u001b[0m\u001b[0m\n\u001b[0m\u001b[0;32m   4235\u001b[0m                 \u001b[1;31m# Both the mapping *and* the RGBA conversion failed: pretty\u001b[0m\u001b[1;33m\u001b[0m\u001b[1;33m\u001b[0m\u001b[1;33m\u001b[0m\u001b[0m\n\u001b[0;32m   4236\u001b[0m                 \u001b[1;31m# severe failure => one may appreciate a verbose feedback.\u001b[0m\u001b[1;33m\u001b[0m\u001b[1;33m\u001b[0m\u001b[1;33m\u001b[0m\u001b[0m\n",
      "\u001b[1;31mValueError\u001b[0m: 'c' argument has 8 elements, which is inconsistent with 'x' and 'y' with size 64."
     ]
    }
   ],
   "source": [
    "%matplotlib notebook\n",
    "import matplotlib as mpl\n",
    "from mpl_toolkits.mplot3d import Axes3D\n",
    "import numpy as np\n",
    "import matplotlib.pyplot as plt\n",
    "\n",
    "(X,Y,Z) = np.mgrid[-4:4:4j, -4:4:4j, -4:4:4j]\n",
    "\n",
    "col = np.random.rand(2,2,2)\n",
    "\n",
    "fig = plt.figure(1)\n",
    "fig.clf()\n",
    "ax = Axes3D(fig)\n",
    "\n",
    "ax.scatter(X,Y,Z, c=col)\n",
    "\n",
    "plt.draw()\n",
    "\n",
    "plt.show()"
   ]
  },
  {
   "cell_type": "code",
   "execution_count": 11,
   "metadata": {},
   "outputs": [],
   "source": [
    "a = np.arange(16).reshape(-1,4)\n",
    "np.savetxt('new_file.csv', a)"
   ]
  },
  {
   "cell_type": "code",
   "execution_count": 5,
   "metadata": {},
   "outputs": [
    {
     "data": {
      "text/plain": [
       "array([[ 0,  1,  2,  3],\n",
       "       [ 4,  5,  6,  7],\n",
       "       [ 8,  9, 10, 11],\n",
       "       [12, 13, 14, 15]])"
      ]
     },
     "execution_count": 5,
     "metadata": {},
     "output_type": "execute_result"
    }
   ],
   "source": [
    "a"
   ]
  },
  {
   "cell_type": "code",
   "execution_count": 9,
   "metadata": {},
   "outputs": [
    {
     "ename": "NameError",
     "evalue": "name 'numpy' is not defined",
     "output_type": "error",
     "traceback": [
      "\u001b[1;31m---------------------------------------------------------------------------\u001b[0m",
      "\u001b[1;31mNameError\u001b[0m                                 Traceback (most recent call last)",
      "\u001b[1;32m<ipython-input-9-0d554fe42cf1>\u001b[0m in \u001b[0;36m<module>\u001b[1;34m\u001b[0m\n\u001b[1;32m----> 1\u001b[1;33m \u001b[0mhelp\u001b[0m\u001b[1;33m(\u001b[0m\u001b[0mnumpy\u001b[0m\u001b[1;33m.\u001b[0m\u001b[0mraven\u001b[0m\u001b[1;33m)\u001b[0m\u001b[1;33m\u001b[0m\u001b[1;33m\u001b[0m\u001b[0m\n\u001b[0m",
      "\u001b[1;31mNameError\u001b[0m: name 'numpy' is not defined"
     ]
    }
   ],
   "source": [
    "help(numpy.raven)"
   ]
  },
  {
   "cell_type": "code",
   "execution_count": 14,
   "metadata": {},
   "outputs": [
    {
     "ename": "RuntimeError",
     "evalue": "No mappable was found to use for colorbar creation. First define a mappable such as an image (with imshow) or a contour set (with contourf).",
     "output_type": "error",
     "traceback": [
      "\u001b[1;31m---------------------------------------------------------------------------\u001b[0m",
      "\u001b[1;31mRuntimeError\u001b[0m                              Traceback (most recent call last)",
      "\u001b[1;32m<ipython-input-14-cad5c9ed6d68>\u001b[0m in \u001b[0;36m<module>\u001b[1;34m\u001b[0m\n\u001b[0;32m     10\u001b[0m \u001b[1;31m#axs[0, 1].plot(data[0], data[1])\u001b[0m\u001b[1;33m\u001b[0m\u001b[1;33m\u001b[0m\u001b[1;33m\u001b[0m\u001b[0m\n\u001b[0;32m     11\u001b[0m \u001b[0maxs\u001b[0m\u001b[1;33m[\u001b[0m\u001b[1;36m1\u001b[0m\u001b[1;33m,\u001b[0m \u001b[1;36m1\u001b[0m\u001b[1;33m]\u001b[0m\u001b[1;33m.\u001b[0m\u001b[0mhist2d\u001b[0m\u001b[1;33m(\u001b[0m\u001b[0mdata\u001b[0m\u001b[1;33m[\u001b[0m\u001b[1;36m0\u001b[0m\u001b[1;33m]\u001b[0m\u001b[1;33m,\u001b[0m \u001b[0mdata\u001b[0m\u001b[1;33m[\u001b[0m\u001b[1;36m1\u001b[0m\u001b[1;33m]\u001b[0m\u001b[1;33m)\u001b[0m\u001b[1;33m\u001b[0m\u001b[1;33m\u001b[0m\u001b[0m\n\u001b[1;32m---> 12\u001b[1;33m \u001b[0mplt\u001b[0m\u001b[1;33m.\u001b[0m\u001b[0mcolorbar\u001b[0m\u001b[1;33m(\u001b[0m\u001b[1;33m)\u001b[0m\u001b[1;33m\u001b[0m\u001b[1;33m\u001b[0m\u001b[0m\n\u001b[0m\u001b[0;32m     13\u001b[0m \u001b[1;33m\u001b[0m\u001b[0m\n\u001b[0;32m     14\u001b[0m \u001b[0mplt\u001b[0m\u001b[1;33m.\u001b[0m\u001b[0mshow\u001b[0m\u001b[1;33m(\u001b[0m\u001b[1;33m)\u001b[0m\u001b[1;33m\u001b[0m\u001b[1;33m\u001b[0m\u001b[0m\n",
      "\u001b[1;32mc:\\users\\lisak\\appdata\\local\\programs\\python\\python38\\lib\\site-packages\\matplotlib\\pyplot.py\u001b[0m in \u001b[0;36mcolorbar\u001b[1;34m(mappable, cax, ax, **kw)\u001b[0m\n\u001b[0;32m   2001\u001b[0m         \u001b[0mmappable\u001b[0m \u001b[1;33m=\u001b[0m \u001b[0mgci\u001b[0m\u001b[1;33m(\u001b[0m\u001b[1;33m)\u001b[0m\u001b[1;33m\u001b[0m\u001b[1;33m\u001b[0m\u001b[0m\n\u001b[0;32m   2002\u001b[0m         \u001b[1;32mif\u001b[0m \u001b[0mmappable\u001b[0m \u001b[1;32mis\u001b[0m \u001b[1;32mNone\u001b[0m\u001b[1;33m:\u001b[0m\u001b[1;33m\u001b[0m\u001b[1;33m\u001b[0m\u001b[0m\n\u001b[1;32m-> 2003\u001b[1;33m             raise RuntimeError('No mappable was found to use for colorbar '\n\u001b[0m\u001b[0;32m   2004\u001b[0m                                \u001b[1;34m'creation. First define a mappable such as '\u001b[0m\u001b[1;33m\u001b[0m\u001b[1;33m\u001b[0m\u001b[0m\n\u001b[0;32m   2005\u001b[0m                                \u001b[1;34m'an image (with imshow) or a contour set ('\u001b[0m\u001b[1;33m\u001b[0m\u001b[1;33m\u001b[0m\u001b[0m\n",
      "\u001b[1;31mRuntimeError\u001b[0m: No mappable was found to use for colorbar creation. First define a mappable such as an image (with imshow) or a contour set (with contourf)."
     ]
    },
    {
     "data": {
      "image/png": "[encoded data removed]",
      "text/plain": [
       "<Figure size 360x360 with 4 Axes>"
      ]
     },
     "metadata": {
      "needs_background": "light"
     },
     "output_type": "display_data"
    }
   ],
   "source": [
    "import matplotlib.pyplot as plt\n",
    "import numpy as np\n",
    "\n",
    "np.random.seed(19680801)\n",
    "data = np.random.randn(2, 100)\n",
    "\n",
    "fig, axs = plt.subplots(2, 2, figsize=(5, 5))\n",
    "#axs[0, 0].hist(data[0])\n",
    "#axs[1, 0].scatter(data[0], data[1])\n",
    "#axs[0, 1].plot(data[0], data[1])\n",
    "axs[1, 1].hist2d(data[0], data[1])\n",
    "plt.colorbar()\n",
    "\n",
    "plt.show()"
   ]
  },
  {
   "cell_type": "code",
   "execution_count": 16,
   "metadata": {
    "scrolled": false
   },
   "outputs": [
    {
     "data": {
      "image/png": "[encoded data removed]",
      "text/plain": [
       "<Figure size 432x432 with 1 Axes>"
      ]
     },
     "metadata": {
      "needs_background": "light"
     },
     "output_type": "display_data"
    }
   ],
   "source": [
    "import matplotlib.pyplot as plt\n",
    "\n",
    "import numpy as np\n",
    "\n",
    "np.set_printoptions(precision=2)\n",
    "#np.random.seed(19680801)\n",
    "#data = np.random.randint(0, high=256, size=(100,100))\n",
    "\n",
    "data = np.linspace(-5,5,100)#.reshape(1,100)\n",
    "#data = np.tile(data,(100,1))\n",
    "y = np.exp(-1/2*data**2) / (2*np.sqrt(np.pi))\n",
    "\n",
    "#print(data)\n",
    "\n",
    "plt.figure(figsize=(6,6))\n",
    "#plt.imshow(data, cmap='hot')#, aspect=30)\n",
    "plt.plot(data, y, '--c', markersize=7)\n",
    "plt.title(r'$\\alpha_i > \\beta_i$', fontsize=10)\n",
    "plt.text(-1, 0.1, r'$f(x) = \\frac{1}{\\sigma\\sqrt{2\\pi} }e^{-\\frac{1}{2}  {(\\frac{x-\\mu}{\\sigma})}^2}$', fontsize=17)\n",
    "plt.xlabel('time (s)')\n",
    "plt.ylabel('volts (mV)')\n",
    "\n",
    "plt.show()"
   ]
  },
  {
   "cell_type": "code",
   "execution_count": 18,
   "metadata": {},
   "outputs": [
    {
     "data": {
      "image/png": "[encoded data removed]",
      "text/plain": [
       "<Figure size 432x288 with 1 Axes>"
      ]
     },
     "metadata": {
      "needs_background": "light"
     },
     "output_type": "display_data"
    }
   ],
   "source": [
    "from scipy import misc\n",
    "import matplotlib.pyplot as plt\n",
    "\n",
    "face = misc.face()\n",
    "plt.imshow(face)\n",
    "plt.show()"
   ]
  },
  {
   "cell_type": "code",
   "execution_count": 20,
   "metadata": {},
   "outputs": [],
   "source": [
    "import numpy as np\n",
    "np.linspace?\n",
    "\n"
   ]
  },
  {
   "cell_type": "code",
   "execution_count": 28,
   "metadata": {},
   "outputs": [
    {
     "data": {
      "text/plain": [
       "(array([ 1.,  2.,  3.,  4.,  5.,  6.,  7.,  8.,  9., 10.]), 1.0)"
      ]
     },
     "execution_count": 28,
     "metadata": {},
     "output_type": "execute_result"
    }
   ],
   "source": [
    "np.linspace(1,10,10, endpoint=True, retstep=True)"
   ]
  },
  {
   "cell_type": "code",
   "execution_count": 30,
   "metadata": {},
   "outputs": [
    {
     "data": {
      "image/png": "[encoded data removed]",
      "text/plain": [
       "<Figure size 432x288 with 1 Axes>"
      ]
     },
     "metadata": {
      "needs_background": "light"
     },
     "output_type": "display_data"
    }
   ],
   "source": [
    ">>> import matplotlib.pyplot as plt\n",
    ">>> N = 8\n",
    ">>> y = np.zeros(N)\n",
    ">>> x1 = np.linspace(0, 10, N, endpoint=True)\n",
    ">>> x2 = np.linspace(0, 10, N, endpoint=False)\n",
    ">>> plt.plot(x1, y, 'o')\n",
    "\n",
    ">>> plt.plot(x2, y + 0.5, 'o')\n",
    "\n",
    ">>> plt.ylim([-0.5, 1])\n",
    "\n",
    ">>> plt.show()"
   ]
  },
  {
   "cell_type": "code",
   "execution_count": 24,
   "metadata": {},
   "outputs": [
    {
     "data": {
      "image/png": "[encoded data removed]",
      "text/plain": [
       "<Figure size 432x288 with 1 Axes>"
      ]
     },
     "metadata": {
      "needs_background": "light"
     },
     "output_type": "display_data"
    }
   ],
   "source": [
    "import matplotlib.pyplot as plt\n",
    "from scipy import stats\n",
    "import numpy as np\n",
    "\n",
    "d = np.loadtxt('Pearson.txt', skiprows=1)\n",
    "#plt.scatter(d[:,0]*2.54, d[:,1]*2.54, s=2)\n",
    "\n",
    "#plt.errorbar(d[:,0]*2.54, d[:,1]*2.54, yerr=10, fmt='.k');\n",
    "y_bins,bin_edges, misc = stats.binned_statistic(d[:,0]*2.54, d[:,1]*2.54,\n",
    "                                                      statistic=\"mean\", bins=13)\n",
    "s_bins,bin_edges, misc = stats.binned_statistic(d[:,0]*2.54, d[:,1]*2.54,\n",
    "                                                      statistic=np.std, bins=13)\n",
    "x_bins = (bin_edges[:-1]+bin_edges[1:])/2\n",
    "#plt.plot(y_bins, x_bins, 'o')\n",
    "plt.errorbar(x_bins, y_bins, yerr=s_bins,\n",
    "               linewidth=1, elinewidth=1, capthick=1, barsabove=True, capsize=5,\n",
    "               color='b', zorder=15, fmt=\"o\", ecolor='lightgray' )\n",
    "\n",
    "plt.title(\"Fathers and Son height Data from Pearson's Data\")\n",
    "plt.xlabel(\"Farther's hights\")\n",
    "plt.ylabel(\"Sons's hights\")\n",
    "plt.show()"
   ]
  },
  {
   "cell_type": "code",
   "execution_count": 48,
   "metadata": {},
   "outputs": [
    {
     "data": {
      "image/png": "[encoded data removed]",
      "text/plain": [
       "<Figure size 432x288 with 1 Axes>"
      ]
     },
     "metadata": {
      "needs_background": "light"
     },
     "output_type": "display_data"
    }
   ],
   "source": [
    "def bin_data(data_x, data_y, bins):\n",
    "    digitized = np.digitize(data_x, bins)\n",
    "    x = np.array([data_x[digitized == i].mean() for i in range(1, len(bins)) if i in digitized])\n",
    "    x_err = np.array([data_x[digitized == i].std() for i in range(1, len(bins)) if i in digitized])\n",
    "    y = [data_y[digitized == i].mean() for i in range(1, len(bins)) if i in digitized]\n",
    "    y_err = np.array([data_y[digitized == i].std() for i in range(1, len(bins)) if i in digitized])\n",
    "    return x, y, x_err, y_err\n",
    "\n",
    "d = np.loadtxt('Pearson.txt', skiprows=1)\n",
    "\n",
    "\n",
    "\n",
    "x = d[:,0]*2.54\n",
    "y = d[:,1]*2.54\n",
    "plt.scatter(x, y, s=2)\n",
    "plt.title(\"Fathers and Son height Data from Pearson's Data\")\n",
    "plt.xlabel(\"Farther's hights\")\n",
    "plt.ylabel(\"Sons's hights\")\n",
    "\n",
    "bins = np.linspace(0, 200, 50)\n",
    "x_bin, y_bin, x_err, y_err = bin_data(x, y, bins)\n",
    "plt.errorbar(x_bin, y_bin, yerr= y_err, xerr=x_err, fmt='H', ms=8, color='black')\n",
    "\n",
    "plt.show()\n"
   ]
  },
  {
   "cell_type": "code",
   "execution_count": 10,
   "metadata": {
    "scrolled": true
   },
   "outputs": [
    {
     "ename": "TypeError",
     "evalue": "'range' object is not callable",
     "output_type": "error",
     "traceback": [
      "\u001b[1;31m---------------------------------------------------------------------------\u001b[0m",
      "\u001b[1;31mTypeError\u001b[0m                                 Traceback (most recent call last)",
      "\u001b[1;32m<ipython-input-10-acc04573cf25>\u001b[0m in \u001b[0;36m<module>\u001b[1;34m\u001b[0m\n\u001b[0;32m      1\u001b[0m \u001b[0ml1\u001b[0m \u001b[1;33m=\u001b[0m \u001b[0mrange\u001b[0m\u001b[1;33m(\u001b[0m\u001b[1;36m100\u001b[0m\u001b[1;33m)\u001b[0m\u001b[1;33m\u001b[0m\u001b[1;33m\u001b[0m\u001b[0m\n\u001b[1;32m----> 2\u001b[1;33m \u001b[0mprint\u001b[0m\u001b[1;33m(\u001b[0m\u001b[0mlist\u001b[0m\u001b[1;33m(\u001b[0m\u001b[0ml1\u001b[0m\u001b[1;33m)\u001b[0m\u001b[1;33m)\u001b[0m\u001b[1;33m\u001b[0m\u001b[1;33m\u001b[0m\u001b[0m\n\u001b[0m",
      "\u001b[1;31mTypeError\u001b[0m: 'range' object is not callable"
     ]
    }
   ],
   "source": [
    "\n",
    "l1 = range(100)\n",
    "print(list(l1))"
   ]
  },
  {
   "cell_type": "code",
   "execution_count": 2,
   "metadata": {},
   "outputs": [
    {
     "data": {
      "text/plain": [
       "range(0, 100)"
      ]
     },
     "execution_count": 2,
     "metadata": {},
     "output_type": "execute_result"
    }
   ],
   "source": []
  },
  {
   "cell_type": "code",
   "execution_count": 11,
   "metadata": {},
   "outputs": [
    {
     "ename": "KeyError",
     "evalue": "'0'",
     "output_type": "error",
     "traceback": [
      "\u001b[1;31m---------------------------------------------------------------------------\u001b[0m",
      "\u001b[1;31mKeyError\u001b[0m                                  Traceback (most recent call last)",
      "\u001b[1;32m<ipython-input-11-38fceb131b65>\u001b[0m in \u001b[0;36m<module>\u001b[1;34m\u001b[0m\n\u001b[0;32m     27\u001b[0m \u001b[1;33m\u001b[0m\u001b[0m\n\u001b[0;32m     28\u001b[0m \u001b[0mletter_comb\u001b[0m \u001b[1;33m=\u001b[0m \u001b[1;34m\"20\"\u001b[0m\u001b[1;33m\u001b[0m\u001b[1;33m\u001b[0m\u001b[0m\n\u001b[1;32m---> 29\u001b[1;33m \u001b[0mall_comb\u001b[0m\u001b[1;33m(\u001b[0m\u001b[0mstring_maps\u001b[0m\u001b[1;33m[\u001b[0m\u001b[0mletter_comb\u001b[0m\u001b[1;33m[\u001b[0m\u001b[1;36m0\u001b[0m\u001b[1;33m]\u001b[0m\u001b[1;33m]\u001b[0m\u001b[1;33m,\u001b[0m \u001b[0mstring_maps\u001b[0m\u001b[1;33m[\u001b[0m\u001b[0mletter_comb\u001b[0m\u001b[1;33m[\u001b[0m\u001b[1;36m1\u001b[0m\u001b[1;33m]\u001b[0m\u001b[1;33m]\u001b[0m\u001b[1;33m)\u001b[0m\u001b[1;33m\u001b[0m\u001b[1;33m\u001b[0m\u001b[0m\n\u001b[0m",
      "\u001b[1;31mKeyError\u001b[0m: '0'"
     ]
    }
   ],
   "source": [
    "# Derive all possible combination of letter from two string being combined all possible ways\n",
    "#\n",
    "#\n",
    "\n",
    "\n",
    "string_maps = {\n",
    "\"1\": \"abc\",\n",
    "\"2\": \"def\",\n",
    "\"3\": \"ghi\",\n",
    "\"4\": \"jkl\",\n",
    "\"5\": \"mno\",\n",
    "\"6\": \"pqrs\",\n",
    "\"7\": \"tuv\",\n",
    "\"8\": \"wxy\",\n",
    "\"9\": \"z\"\n",
    "}\n",
    "\n",
    "def all_comb(s_first, s_second):\n",
    "    \n",
    "    comb = []\n",
    "    for i in s_first:\n",
    "        for j in s_second:\n",
    "            comb.append(i+j)\n",
    "    \n",
    "    \n",
    "    return comb\n",
    "\n",
    "letter_comb = \"20\"\n",
    "all_comb(string_maps[letter_comb[0]], string_maps[letter_comb[1]])"
   ]
  },
  {
   "cell_type": "code",
   "execution_count": 87,
   "metadata": {},
   "outputs": [
    {
     "data": {
      "text/plain": [
       "[(0, False),\n",
       " (1, False),\n",
       " (2, True),\n",
       " (3, True),\n",
       " (4, False),\n",
       " (5, True),\n",
       " (6, False),\n",
       " (7, True),\n",
       " (8, False),\n",
       " (9, False),\n",
       " (10, False),\n",
       " (11, True),\n",
       " (12, False),\n",
       " (13, True),\n",
       " (14, False),\n",
       " (15, False),\n",
       " (16, False),\n",
       " (17, True),\n",
       " (18, False),\n",
       " (19, True),\n",
       " (20, False),\n",
       " (21, False),\n",
       " (22, False),\n",
       " (23, True),\n",
       " (24, False),\n",
       " (25, False),\n",
       " (26, False),\n",
       " (27, False),\n",
       " (28, False),\n",
       " (29, True),\n",
       " (30, False),\n",
       " (31, True),\n",
       " (32, False),\n",
       " (33, False),\n",
       " (34, False),\n",
       " (35, False),\n",
       " (36, False),\n",
       " (37, True),\n",
       " (38, False),\n",
       " (39, False),\n",
       " (40, False),\n",
       " (41, True),\n",
       " (42, False),\n",
       " (43, True),\n",
       " (44, False),\n",
       " (45, False),\n",
       " (46, False),\n",
       " (47, True),\n",
       " (48, False),\n",
       " (49, False),\n",
       " (50, False),\n",
       " (51, False),\n",
       " (52, False),\n",
       " (53, True),\n",
       " (54, False),\n",
       " (55, False),\n",
       " (56, False),\n",
       " (57, False),\n",
       " (58, False),\n",
       " (59, True),\n",
       " (60, False),\n",
       " (61, True),\n",
       " (62, False),\n",
       " (63, False),\n",
       " (64, False),\n",
       " (65, False),\n",
       " (66, False),\n",
       " (67, True),\n",
       " (68, False),\n",
       " (69, False),\n",
       " (70, False),\n",
       " (71, True),\n",
       " (72, False),\n",
       " (73, True),\n",
       " (74, False),\n",
       " (75, False),\n",
       " (76, False),\n",
       " (77, False),\n",
       " (78, False),\n",
       " (79, True),\n",
       " (80, False),\n",
       " (81, False),\n",
       " (82, False),\n",
       " (83, True),\n",
       " (84, False),\n",
       " (85, False),\n",
       " (86, False),\n",
       " (87, False),\n",
       " (88, False),\n",
       " (89, True),\n",
       " (90, False),\n",
       " (91, False),\n",
       " (92, False),\n",
       " (93, False),\n",
       " (94, False),\n",
       " (95, False),\n",
       " (96, False),\n",
       " (97, True),\n",
       " (98, False),\n",
       " (99, False),\n",
       " (100, False),\n",
       " (101, True),\n",
       " (102, False),\n",
       " (103, True),\n",
       " (104, False),\n",
       " (105, False),\n",
       " (106, False),\n",
       " (107, True),\n",
       " (108, False),\n",
       " (109, True),\n",
       " (110, False),\n",
       " (111, False),\n",
       " (112, False),\n",
       " (113, True),\n",
       " (114, False),\n",
       " (115, False),\n",
       " (116, False),\n",
       " (117, False),\n",
       " (118, False),\n",
       " (119, False),\n",
       " (120, False),\n",
       " (121, False),\n",
       " (122, False),\n",
       " (123, False),\n",
       " (124, False),\n",
       " (125, False),\n",
       " (126, False),\n",
       " (127, True),\n",
       " (128, False),\n",
       " (129, False),\n",
       " (130, False),\n",
       " (131, True),\n",
       " (132, False),\n",
       " (133, False),\n",
       " (134, False),\n",
       " (135, False),\n",
       " (136, False),\n",
       " (137, True),\n",
       " (138, False),\n",
       " (139, True),\n",
       " (140, False),\n",
       " (141, False),\n",
       " (142, False),\n",
       " (143, False),\n",
       " (144, False),\n",
       " (145, False),\n",
       " (146, False),\n",
       " (147, False),\n",
       " (148, False),\n",
       " (149, True),\n",
       " (150, False),\n",
       " (151, True),\n",
       " (152, False),\n",
       " (153, False),\n",
       " (154, False),\n",
       " (155, False),\n",
       " (156, False),\n",
       " (157, True),\n",
       " (158, False),\n",
       " (159, False),\n",
       " (160, False),\n",
       " (161, False),\n",
       " (162, False),\n",
       " (163, True),\n",
       " (164, False),\n",
       " (165, False),\n",
       " (166, False),\n",
       " (167, True),\n",
       " (168, False),\n",
       " (169, False),\n",
       " (170, False),\n",
       " (171, False),\n",
       " (172, False),\n",
       " (173, True),\n",
       " (174, False),\n",
       " (175, False),\n",
       " (176, False),\n",
       " (177, False),\n",
       " (178, False),\n",
       " (179, True),\n",
       " (180, False),\n",
       " (181, True),\n",
       " (182, False),\n",
       " (183, False),\n",
       " (184, False),\n",
       " (185, False),\n",
       " (186, False),\n",
       " (187, False),\n",
       " (188, False),\n",
       " (189, False),\n",
       " (190, False),\n",
       " (191, True),\n",
       " (192, False),\n",
       " (193, True),\n",
       " (194, False),\n",
       " (195, False),\n",
       " (196, False),\n",
       " (197, True),\n",
       " (198, False),\n",
       " (199, True),\n",
       " (200, False),\n",
       " (201, False),\n",
       " (202, False),\n",
       " (203, False),\n",
       " (204, False),\n",
       " (205, False),\n",
       " (206, False),\n",
       " (207, False),\n",
       " (208, False),\n",
       " (209, False),\n",
       " (210, False),\n",
       " (211, True),\n",
       " (212, False),\n",
       " (213, False),\n",
       " (214, False),\n",
       " (215, False),\n",
       " (216, False),\n",
       " (217, False),\n",
       " (218, False),\n",
       " (219, False),\n",
       " (220, False),\n",
       " (221, False),\n",
       " (222, False),\n",
       " (223, True),\n",
       " (224, False),\n",
       " (225, False),\n",
       " (226, False),\n",
       " (227, True),\n",
       " (228, False),\n",
       " (229, True),\n",
       " (230, False),\n",
       " (231, False),\n",
       " (232, False),\n",
       " (233, True),\n",
       " (234, False),\n",
       " (235, False),\n",
       " (236, False),\n",
       " (237, False),\n",
       " (238, False),\n",
       " (239, True),\n",
       " (240, False),\n",
       " (241, True),\n",
       " (242, False),\n",
       " (243, False),\n",
       " (244, False),\n",
       " (245, False),\n",
       " (246, False),\n",
       " (247, False),\n",
       " (248, False),\n",
       " (249, False),\n",
       " (250, False),\n",
       " (251, True),\n",
       " (252, False),\n",
       " (253, False),\n",
       " (254, False),\n",
       " (255, False),\n",
       " (256, False),\n",
       " (257, True),\n",
       " (258, False),\n",
       " (259, False),\n",
       " (260, False),\n",
       " (261, False),\n",
       " (262, False),\n",
       " (263, True),\n",
       " (264, False),\n",
       " (265, False),\n",
       " (266, False),\n",
       " (267, False),\n",
       " (268, False),\n",
       " (269, True),\n",
       " (270, False),\n",
       " (271, True),\n",
       " (272, False),\n",
       " (273, False),\n",
       " (274, False),\n",
       " (275, False),\n",
       " (276, False),\n",
       " (277, True),\n",
       " (278, False),\n",
       " (279, False),\n",
       " (280, False),\n",
       " (281, True),\n",
       " (282, False),\n",
       " (283, True),\n",
       " (284, False),\n",
       " (285, False),\n",
       " (286, False),\n",
       " (287, False),\n",
       " (288, False),\n",
       " (289, False),\n",
       " (290, False),\n",
       " (291, False),\n",
       " (292, False),\n",
       " (293, True),\n",
       " (294, False),\n",
       " (295, False),\n",
       " (296, False),\n",
       " (297, False),\n",
       " (298, False),\n",
       " (299, False),\n",
       " (300, False),\n",
       " (301, False),\n",
       " (302, False),\n",
       " (303, False),\n",
       " (304, False),\n",
       " (305, False),\n",
       " (306, False),\n",
       " (307, True),\n",
       " (308, False),\n",
       " (309, False),\n",
       " (310, False),\n",
       " (311, True),\n",
       " (312, False),\n",
       " (313, True),\n",
       " (314, False),\n",
       " (315, False),\n",
       " (316, False),\n",
       " (317, True),\n",
       " (318, False),\n",
       " (319, False),\n",
       " (320, False),\n",
       " (321, False),\n",
       " (322, False),\n",
       " (323, False),\n",
       " (324, False),\n",
       " (325, False),\n",
       " (326, False),\n",
       " (327, False),\n",
       " (328, False),\n",
       " (329, False),\n",
       " (330, False),\n",
       " (331, True),\n",
       " (332, False),\n",
       " (333, False),\n",
       " (334, False),\n",
       " (335, False),\n",
       " (336, False),\n",
       " (337, True),\n",
       " (338, False),\n",
       " (339, False),\n",
       " (340, False),\n",
       " (341, False),\n",
       " (342, False),\n",
       " (343, False),\n",
       " (344, False),\n",
       " (345, False),\n",
       " (346, False),\n",
       " (347, True),\n",
       " (348, False),\n",
       " (349, True),\n",
       " (350, False),\n",
       " (351, False),\n",
       " (352, False),\n",
       " (353, True),\n",
       " (354, False),\n",
       " (355, False),\n",
       " (356, False),\n",
       " (357, False),\n",
       " (358, False),\n",
       " (359, True),\n",
       " (360, False),\n",
       " (361, False),\n",
       " (362, False),\n",
       " (363, False),\n",
       " (364, False),\n",
       " (365, False),\n",
       " (366, False),\n",
       " (367, True),\n",
       " (368, False),\n",
       " (369, False),\n",
       " (370, False),\n",
       " (371, False),\n",
       " (372, False),\n",
       " (373, True),\n",
       " (374, False),\n",
       " (375, False),\n",
       " (376, False),\n",
       " (377, False),\n",
       " (378, False),\n",
       " (379, True),\n",
       " (380, False),\n",
       " (381, False),\n",
       " (382, False),\n",
       " (383, True),\n",
       " (384, False),\n",
       " (385, False),\n",
       " (386, False),\n",
       " (387, False),\n",
       " (388, False),\n",
       " (389, True),\n",
       " (390, False),\n",
       " (391, False),\n",
       " (392, False),\n",
       " (393, False),\n",
       " (394, False),\n",
       " (395, False),\n",
       " (396, False),\n",
       " (397, True),\n",
       " (398, False),\n",
       " (399, False),\n",
       " (400, False),\n",
       " (401, True),\n",
       " (402, False),\n",
       " (403, False),\n",
       " (404, False),\n",
       " (405, False),\n",
       " (406, False),\n",
       " (407, False),\n",
       " (408, False),\n",
       " (409, True),\n",
       " (410, False),\n",
       " (411, False),\n",
       " (412, False),\n",
       " (413, False),\n",
       " (414, False),\n",
       " (415, False),\n",
       " (416, False),\n",
       " (417, False),\n",
       " (418, False),\n",
       " (419, True),\n",
       " (420, False),\n",
       " (421, True),\n",
       " (422, False),\n",
       " (423, False),\n",
       " (424, False),\n",
       " (425, False),\n",
       " (426, False),\n",
       " (427, False),\n",
       " (428, False),\n",
       " (429, False),\n",
       " (430, False),\n",
       " (431, True),\n",
       " (432, False),\n",
       " (433, True),\n",
       " (434, False),\n",
       " (435, False),\n",
       " (436, False),\n",
       " (437, False),\n",
       " (438, False),\n",
       " (439, True),\n",
       " (440, False),\n",
       " (441, False),\n",
       " (442, False),\n",
       " (443, True),\n",
       " (444, False),\n",
       " (445, False),\n",
       " (446, False),\n",
       " (447, False),\n",
       " (448, False),\n",
       " (449, True),\n",
       " (450, False),\n",
       " (451, False),\n",
       " (452, False),\n",
       " (453, False),\n",
       " (454, False),\n",
       " (455, False),\n",
       " (456, False),\n",
       " (457, True),\n",
       " (458, False),\n",
       " (459, False),\n",
       " (460, False),\n",
       " (461, True),\n",
       " (462, False),\n",
       " (463, True),\n",
       " (464, False),\n",
       " (465, False),\n",
       " (466, False),\n",
       " (467, True),\n",
       " (468, False),\n",
       " (469, False),\n",
       " (470, False),\n",
       " (471, False),\n",
       " (472, False),\n",
       " (473, False),\n",
       " (474, False),\n",
       " (475, False),\n",
       " (476, False),\n",
       " (477, False),\n",
       " (478, False),\n",
       " (479, True),\n",
       " (480, False),\n",
       " (481, False),\n",
       " (482, False),\n",
       " (483, False),\n",
       " (484, False),\n",
       " (485, False),\n",
       " (486, False),\n",
       " (487, True),\n",
       " (488, False),\n",
       " (489, False),\n",
       " (490, False),\n",
       " (491, True),\n",
       " (492, False),\n",
       " (493, False),\n",
       " (494, False),\n",
       " (495, False),\n",
       " (496, False),\n",
       " (497, False),\n",
       " (498, False),\n",
       " (499, True)]"
      ]
     },
     "execution_count": 87,
     "metadata": {},
     "output_type": "execute_result"
    }
   ],
   "source": [
    "import matplotlib.pyplot as plt\n",
    "\n",
    "def prime(t):\n",
    "    \n",
    "    if t<=1:\n",
    "        return False\n",
    "    if t == 2 or t == 3:\n",
    "        return True\n",
    "    if t%2 == 0:\n",
    "        return False\n",
    "\n",
    "    for div in range(3, t-1, 2):\n",
    "        if t % div == 0:\n",
    "            return False\n",
    "    else:\n",
    "        return True\n",
    "\n",
    "pcf = [(i, prime(i)) for i in range(500)]\n",
    "\n",
    "#plt.plot(pcf[0], pcf[1], 'o')\n",
    "pcf"
   ]
  },
  {
   "cell_type": "code",
   "execution_count": 29,
   "metadata": {},
   "outputs": [
    {
     "name": "stdout",
     "output_type": "stream",
     "text": [
      "[(0, 100), (1, 200), (2, 300), (3, 400), (4, 500), (5, 600), (6, 700), (7, 800), (8, 900), (9, 1000)]\n"
     ]
    },
    {
     "data": {
      "text/plain": [
       "{1: 2}"
      ]
     },
     "execution_count": 29,
     "metadata": {},
     "output_type": "execute_result"
    }
   ],
   "source": [
    "key = range(10)\n",
    "#print(key)\n",
    "value = range(100, 1100, 100)\n",
    "\n",
    "#list(zip(key, value))\n",
    "#print(key)\n",
    "print(list(zip(key, value)))\n",
    "#dict(zip(key, value))\n",
    "dict([(1, 2)])\n"
   ]
  },
  {
   "cell_type": "code",
   "execution_count": 52,
   "metadata": {},
   "outputs": [
    {
     "name": "stdout",
     "output_type": "stream",
     "text": [
      "Name=Alex, Salary=9000\n"
     ]
    }
   ],
   "source": [
    "def showEmployee(name, salary=None):\n",
    "    if salary == None:\n",
    "        salary = 9000\n",
    "    print(\"Name=%s, Salary=%s\"%(name, salary))\n",
    "\n",
    "showEmployee(\"Alex\")"
   ]
  },
  {
   "cell_type": "code",
   "execution_count": 6,
   "metadata": {},
   "outputs": [
    {
     "data": {
      "text/plain": [
       "1"
      ]
     },
     "execution_count": 6,
     "metadata": {},
     "output_type": "execute_result"
    }
   ],
   "source": [
    "def recurs(max):\n",
    "    if max < 0:\n",
    "        return 0\n",
    "    if max == 0:\n",
    "        return 0\n",
    "    else:\n",
    "        return max + recurs(max-1)\n",
    "\n",
    "\n",
    "\n",
    "recurs(1)\n"
   ]
  },
  {
   "cell_type": "code",
   "execution_count": 8,
   "metadata": {},
   "outputs": [
    {
     "data": {
      "text/plain": [
       "[4, 6, 8, 10, 12, 14, 16, 18, 20, 22, 24, 26, 28]"
      ]
     },
     "execution_count": 8,
     "metadata": {},
     "output_type": "execute_result"
    }
   ],
   "source": [
    "list(range(4,29,2))"
   ]
  },
  {
   "cell_type": "code",
   "execution_count": 9,
   "metadata": {},
   "outputs": [
    {
     "data": {
      "text/plain": [
       "[6, 8, 24, 12]"
      ]
     },
     "execution_count": 9,
     "metadata": {},
     "output_type": "execute_result"
    }
   ],
   "source": [
    "aList = [4, 6, 8, 24, 12, 2]\n",
    "[n for n in aList if n>5]"
   ]
  },
  {
   "cell_type": "code",
   "execution_count": 11,
   "metadata": {},
   "outputs": [
    {
     "data": {
      "text/plain": [
       "24"
      ]
     },
     "execution_count": 11,
     "metadata": {},
     "output_type": "execute_result"
    }
   ],
   "source": [
    "import functools\n",
    "aList = [4, 6, 8, 24, 12, 2]\n",
    "maximum = functools.reduce(lambda a, b: a if a>b else b, aList)\n",
    "maximum"
   ]
  },
  {
   "cell_type": "code",
   "execution_count": 41,
   "metadata": {},
   "outputs": [
    {
     "data": {
      "text/plain": [
       "[3, 4, 6, 8, 9, 12, 12, 16, 15, 20, None, 24, None, 28]"
      ]
     },
     "execution_count": 41,
     "metadata": {},
     "output_type": "execute_result"
    }
   ],
   "source": [
    "import itertools\n",
    "listOne = [3, 6, 9, 12, 15]\n",
    "listTwo = [4, 8, 12, 16, 20, 24, 28]\n",
    "\n",
    "#list(itertools.zip_longest(listOne, listTwo))\n",
    "a = [item for a in itertools.zip_longest(listOne, listTwo) for item in a]\n",
    "#a.remove(None)\n",
    "a\n",
    "#[i for i in a if i != None]"
   ]
  },
  {
   "cell_type": "code",
   "execution_count": 30,
   "metadata": {},
   "outputs": [
    {
     "data": {
      "text/plain": [
       "[3, 4, 6, 8, 9, 12, 12, 16, 15, 20]"
      ]
     },
     "execution_count": 30,
     "metadata": {},
     "output_type": "execute_result"
    }
   ],
   "source": [
    "[item for a in zip(listOne, listTwo) for item in a]"
   ]
  },
  {
   "cell_type": "code",
   "execution_count": 45,
   "metadata": {},
   "outputs": [
    {
     "data": {
      "text/plain": [
       "[3, 9, 15, 21, 8, 16, 24]"
      ]
     },
     "execution_count": 45,
     "metadata": {},
     "output_type": "execute_result"
    }
   ],
   "source": [
    "listOne = [3, 6, 9, 12, 15, 18, 21]\n",
    "listTwo = [4, 8, 12, 16, 20, 24, 28]\n",
    "\n",
    "listOne[::2] + listTwo[1::2]"
   ]
  },
  {
   "cell_type": "code",
   "execution_count": 52,
   "metadata": {},
   "outputs": [
    {
     "data": {
      "text/plain": [
       "[41, 91, 79, 27, 44, 54]"
      ]
     },
     "execution_count": 52,
     "metadata": {},
     "output_type": "execute_result"
    }
   ],
   "source": [
    "l = [54, 44, 27, 79, 91, 41]\n",
    "list(reversed(l))"
   ]
  },
  {
   "cell_type": "code",
   "execution_count": 62,
   "metadata": {},
   "outputs": [
    {
     "name": "stdout",
     "output_type": "stream",
     "text": [
      "3 {43, 34, 27, 6}\n",
      "4 7\n"
     ]
    }
   ],
   "source": [
    "firstSet = {27, 43, 34,6}\n",
    "secondSet = {34, 93, 22, 27, 43, 53, 48}\n",
    "\n",
    "len1 = len(firstSet)\n",
    "len2 = len(secondSet)\n",
    "\n",
    "eq = 0\n",
    "for f in firstSet:\n",
    "    for s in secondSet:\n",
    "        if f == s:\n",
    "            secondSet.remove(s)\n",
    "            eq += 1\n",
    "            break\n",
    "    \n",
    "print(eq, firstSet)\n",
    "print(len1, len2)\n",
    "if eq == len1 and eq == len2:\n",
    "    print(\"sets are equal\")\n",
    "if eq == len1:\n",
    "    print(\"firstSet is a subset of secondSet\")\n",
    "if eq == len2:\n",
    "    print(\"secondSet is a subset of firstSet\")"
   ]
  },
  {
   "cell_type": "code",
   "execution_count": 77,
   "metadata": {},
   "outputs": [
    {
     "name": "stdout",
     "output_type": "stream",
     "text": [
      "47\n",
      "69\n",
      "76\n",
      "97\n"
     ]
    },
    {
     "data": {
      "text/plain": [
       "[64, 37, 83, 95]"
      ]
     },
     "execution_count": 77,
     "metadata": {},
     "output_type": "execute_result"
    }
   ],
   "source": [
    "rollNumber = [47, 64, 69, 37, 76, 83, 95, 97]\n",
    "sampleDict ={'Jhon':47, 'Emma':69, 'Kelly':76, 'Jason':97}\n",
    "\n",
    "for i in sampleDict.values():\n",
    "    valueDict.update({ i: '' })\n",
    "\n",
    "for n in rollNumber:\n",
    "    if n in valueDict:\n",
    "        rollNumber.remove(n)\n",
    "        print(n)\n",
    "    \n",
    "rollNumber"
   ]
  },
  {
   "cell_type": "code",
   "execution_count": 78,
   "metadata": {},
   "outputs": [
    {
     "ename": "NameError",
     "evalue": "name 'out' is not defined",
     "output_type": "error",
     "traceback": [
      "\u001b[1;31m---------------------------------------------------------------------------\u001b[0m",
      "\u001b[1;31mNameError\u001b[0m                                 Traceback (most recent call last)",
      "\u001b[1;32m<ipython-input-78-688466030e65>\u001b[0m in \u001b[0;36m<module>\u001b[1;34m\u001b[0m\n\u001b[0;32m      3\u001b[0m \u001b[1;31m#for i in speed.values():\u001b[0m\u001b[1;33m\u001b[0m\u001b[1;33m\u001b[0m\u001b[1;33m\u001b[0m\u001b[0m\n\u001b[0;32m      4\u001b[0m \u001b[1;33m\u001b[0m\u001b[0m\n\u001b[1;32m----> 5\u001b[1;33m \u001b[0mout\u001b[0m \u001b[1;33m=\u001b[0m \u001b[1;33m[\u001b[0m\u001b[0mval\u001b[0m \u001b[1;32mfor\u001b[0m \u001b[0mval\u001b[0m \u001b[1;32min\u001b[0m \u001b[0mspeed\u001b[0m\u001b[1;33m.\u001b[0m\u001b[0mvalues\u001b[0m\u001b[1;33m(\u001b[0m\u001b[1;33m)\u001b[0m \u001b[1;32mif\u001b[0m \u001b[0mval\u001b[0m \u001b[1;32min\u001b[0m \u001b[0mout\u001b[0m\u001b[1;33m]\u001b[0m\u001b[1;33m\u001b[0m\u001b[1;33m\u001b[0m\u001b[0m\n\u001b[0m\u001b[0;32m      6\u001b[0m \u001b[1;33m\u001b[0m\u001b[0m\n",
      "\u001b[1;32m<ipython-input-78-688466030e65>\u001b[0m in \u001b[0;36m<listcomp>\u001b[1;34m(.0)\u001b[0m\n\u001b[0;32m      3\u001b[0m \u001b[1;31m#for i in speed.values():\u001b[0m\u001b[1;33m\u001b[0m\u001b[1;33m\u001b[0m\u001b[1;33m\u001b[0m\u001b[0m\n\u001b[0;32m      4\u001b[0m \u001b[1;33m\u001b[0m\u001b[0m\n\u001b[1;32m----> 5\u001b[1;33m \u001b[0mout\u001b[0m \u001b[1;33m=\u001b[0m \u001b[1;33m[\u001b[0m\u001b[0mval\u001b[0m \u001b[1;32mfor\u001b[0m \u001b[0mval\u001b[0m \u001b[1;32min\u001b[0m \u001b[0mspeed\u001b[0m\u001b[1;33m.\u001b[0m\u001b[0mvalues\u001b[0m\u001b[1;33m(\u001b[0m\u001b[1;33m)\u001b[0m \u001b[1;32mif\u001b[0m \u001b[0mval\u001b[0m \u001b[1;32min\u001b[0m \u001b[0mout\u001b[0m\u001b[1;33m]\u001b[0m\u001b[1;33m\u001b[0m\u001b[1;33m\u001b[0m\u001b[0m\n\u001b[0m\u001b[0;32m      6\u001b[0m \u001b[1;33m\u001b[0m\u001b[0m\n",
      "\u001b[1;31mNameError\u001b[0m: name 'out' is not defined"
     ]
    }
   ],
   "source": [
    "speed ={'jan':47, 'feb':52, 'march':47, 'April':44, 'May':52, 'June':53, 'july':54, 'Aug':44, 'Sept':54}\n",
    "\n",
    "#for i in speed.values():\n",
    "    \n",
    "out = [val for val in speed.values() if val in out]  \n",
    "    "
   ]
  },
  {
   "cell_type": "code",
   "execution_count": 88,
   "metadata": {},
   "outputs": [
    {
     "data": {
      "text/plain": [
       "(65, 99, 41, 45, 87, 94)"
      ]
     },
     "execution_count": 88,
     "metadata": {},
     "output_type": "execute_result"
    }
   ],
   "source": [
    "sampleList = [87, 45, 41, 65, 94, 41, 99, 94]\n",
    "\n",
    "mylist = tuple(set(sampleList))\n",
    "mylist\n",
    "#print(min(mylist))"
   ]
  },
  {
   "cell_type": "code",
   "execution_count": 90,
   "metadata": {},
   "outputs": [
    {
     "name": "stdout",
     "output_type": "stream",
     "text": [
      "Random integer numbers generated using secrets module \n",
      "Secure random number is  33\n",
      "Secure random number within range is  20\n",
      "Secure random choice using secrets is  42\n",
      "Secure random sample using secrets is  [30, 54, 36]\n",
      "Secure random float number using secrets is  10.208601883372545\n"
     ]
    }
   ],
   "source": [
    "import secrets\n",
    "print(\"Random integer numbers generated using secrets module \")\n",
    "\n",
    "#Getting systemRandom class instance out of secrets module\n",
    "secretsGenerator = secrets.SystemRandom()\n",
    "\n",
    "#random integer number uisng secrets\n",
    "randomNumber = secretsGenerator.randint(0,50)\n",
    "print(\"Secure random number is \", randomNumber)\n",
    "\n",
    "#random integer number within given range using secrets\n",
    "randomNumber = secretsGenerator.randrange(4, 40, 4)\n",
    "print(\"Secure random number within range is \", randomNumber)\n",
    "\n",
    "#Secure Random choice using secrets\n",
    "number_list = [6, 12, 18, 24, 30, 36, 42, 48, 54, 60]\n",
    "secure_choice = secretsGenerator.choice(number_list)\n",
    "print (\"Secure random choice using secrets is \", secure_choice)\n",
    "\n",
    "#Secure Random sample uisng secrets\n",
    "secure_sample = secretsGenerator.sample(number_list, 3)\n",
    "print (\"Secure random sample using secrets is \", secure_sample)\n",
    "\n",
    "#Secure Random uniform using secrets\n",
    "secure_float = secretsGenerator.uniform(2.5, 25.5)\n",
    "print(\"Secure random float number using secrets is \", secure_float)\n"
   ]
  },
  {
   "cell_type": "code",
   "execution_count": 12,
   "metadata": {},
   "outputs": [
    {
     "name": "stdout",
     "output_type": "stream",
     "text": [
      "uQ\n"
     ]
    }
   ],
   "source": [
    "import secrets\n",
    "\n",
    "print(secrets.token_urlsafe(1))"
   ]
  },
  {
   "cell_type": "code",
   "execution_count": 14,
   "metadata": {},
   "outputs": [
    {
     "name": "stdout",
     "output_type": "stream",
     "text": [
      "{'author': 'A. Random Developer',\n",
      " 'author_email': 'author@example.com',\n",
      " 'bugtrack_url': None,\n",
      " 'classifiers': ['Development Status :: 3 - Alpha',\n",
      "                 'Intended Audience :: Developers',\n",
      "                 'License :: OSI Approved :: MIT License',\n",
      "                 'Programming Language :: Python :: 3',\n",
      "                 'Programming Language :: Python :: 3.5',\n",
      "                 'Programming Language :: Python :: 3.6',\n",
      "                 'Programming Language :: Python :: 3.7',\n",
      "                 'Programming Language :: Python :: 3.8',\n",
      "                 'Programming Language :: Python :: 3 :: Only',\n",
      "                 'Topic :: Software Development :: Build Tools'],\n",
      " 'description': '# A sample Python project\\n'\n",
      "                '\\n'\n",
      "                '![Python '\n",
      "                'Logo](https://www.python.org/static/community_logos/python-logo.png '\n",
      "                '\"Sample inline image\")\\n'\n",
      "                '\\n'\n",
      "                'A sample project that exists as an aid to the [Python '\n",
      "                'Packaging User\\n'\n",
      "                \"Guide][packaging guide]'s [Tutorial on Packaging and \"\n",
      "                'Distributing\\n'\n",
      "                'Projects][distribution tutorial].\\n'\n",
      "                '\\n'\n",
      "                'This project does not aim to cover best practices for Python '\n",
      "                'project\\n'\n",
      "                'development as a whole. For example, it does not provide '\n",
      "                'guidance or tool\\n'\n",
      "                'recommendations for version control, documentation, or '\n",
      "                'testing.\\n'\n",
      "                '\\n'\n",
      "                '[The source for this project is available here][src].\\n'\n",
      "                '\\n'\n",
      "                'Most of the configuration for a Python project is done in the '\n",
      "                '`setup.py` file,\\n'\n",
      "                'an example of which is included in this project. You should '\n",
      "                'edit this file\\n'\n",
      "                'accordingly to adapt this sample project to your needs.\\n'\n",
      "                '\\n'\n",
      "                '----\\n'\n",
      "                '\\n'\n",
      "                'This is the README file for the project.\\n'\n",
      "                '\\n'\n",
      "                'The file should use UTF-8 encoding and can be written using\\n'\n",
      "                '[reStructuredText][rst] or [markdown][md use] with the '\n",
      "                'appropriate [key set][md\\n'\n",
      "                'use]. It will be used to generate the project webpage on PyPI '\n",
      "                'and will be\\n'\n",
      "                'displayed as the project homepage on common code-hosting '\n",
      "                'services, and should be\\n'\n",
      "                'written for that purpose.\\n'\n",
      "                '\\n'\n",
      "                'Typical contents for this file would include an overview of '\n",
      "                'the project, basic\\n'\n",
      "                'usage examples, etc. Generally, including the project '\n",
      "                'changelog in here is not a\\n'\n",
      "                \"good idea, although a simple “What's New” section for the \"\n",
      "                'most recent version\\n'\n",
      "                'may be appropriate.\\n'\n",
      "                '\\n'\n",
      "                '[packaging guide]: https://packaging.python.org\\n'\n",
      "                '[distribution tutorial]: '\n",
      "                'https://packaging.python.org/tutorials/packaging-projects/\\n'\n",
      "                '[src]: https://github.com/pypa/sampleproject\\n'\n",
      "                '[rst]: http://docutils.sourceforge.net/rst.html\\n'\n",
      "                '[md]: https://tools.ietf.org/html/rfc7764#section-3.5 '\n",
      "                '\"CommonMark variant\"\\n'\n",
      "                '[md use]: '\n",
      "                'https://packaging.python.org/specifications/core-metadata/#description-content-type-optional\\n'\n",
      "                '\\n'\n",
      "                '\\n',\n",
      " 'description_content_type': 'text/markdown',\n",
      " 'docs_url': None,\n",
      " 'download_url': '',\n",
      " 'downloads': {'last_day': -1, 'last_month': -1, 'last_week': -1},\n",
      " 'home_page': 'https://github.com/pypa/sampleproject',\n",
      " 'keywords': 'sample setuptools development',\n",
      " 'license': '',\n",
      " 'maintainer': '',\n",
      " 'maintainer_email': '',\n",
      " 'name': 'sampleproject',\n",
      " 'package_url': 'https://pypi.org/project/sampleproject/',\n",
      " 'platform': '',\n",
      " 'project_url': 'https://pypi.org/project/sampleproject/',\n",
      " 'project_urls': {'Bug Reports': 'https://github.com/pypa/sampleproject/issues',\n",
      "                  'Funding': 'https://donate.pypi.org',\n",
      "                  'Homepage': 'https://github.com/pypa/sampleproject',\n",
      "                  'Say Thanks!': 'http://saythanks.io/to/example',\n",
      "                  'Source': 'https://github.com/pypa/sampleproject/'},\n",
      " 'release_url': 'https://pypi.org/project/sampleproject/2.0.0/',\n",
      " 'requires_dist': ['peppercorn',\n",
      "                   \"check-manifest ; extra == 'dev'\",\n",
      "                   \"coverage ; extra == 'test'\"],\n",
      " 'requires_python': '>=3.5, <4',\n",
      " 'summary': 'A sample Python project',\n",
      " 'version': '2.0.0',\n",
      " 'yanked': False,\n",
      " 'yanked_reason': None}\n"
     ]
    },
    {
     "data": {
      "text/plain": [
       "{'author': 'The Python Packaging Authority',\n",
       " 'author_email': 'pypa-dev@googlegroups.com',\n",
       " 'bugtrack_url': None,\n",
       " 'classifiers': ['Development Status :: 3 - Alpha',\n",
       "  'Intended Audience :: Developers',\n",
       "  'License :: OSI Approved :: MIT License',\n",
       "  'Programming Language :: Python :: 2',\n",
       "  'Programming Language :: Python :: 2.6',\n",
       "  'Programming Language :: Python :: 2.7',\n",
       "  'Programming Language :: Python :: 3',\n",
       "  'Programming Language :: Python :: 3.2',\n",
       "  'Programming Language :: Python :: 3.3',\n",
       "  'Programming Language :: Python :: 3.4',\n",
       "  'Topic :: Software Development :: Build Tools'],\n",
       " 'description': 'A sample Python project\\n=======================\\n\\nThis is the description file for the project.\\n\\nThe file should use UTF-8 encoding and be written using ReStructured Text. It\\nwill be used to generate the project webpage on PyPI, and should be written for\\nthat purpose.\\n\\nTypical contents for this file would include an overview of the project, basic\\nusage examples, etc. Generally, including the project changelog in here is not\\na good idea, although a simple \"What\\'s New\" section for the most recent version\\nmay be appropriate.',\n",
       " 'description_content_type': None,\n",
       " 'docs_url': None,\n",
       " 'download_url': 'UNKNOWN',\n",
       " 'downloads': {'last_day': -1, 'last_month': -1, 'last_week': -1},\n",
       " 'home_page': 'https://github.com/pypa/sampleproject',\n",
       " 'keywords': 'sample setuptools development',\n",
       " 'license': 'MIT',\n",
       " 'maintainer': None,\n",
       " 'maintainer_email': None,\n",
       " 'name': 'sampleproject',\n",
       " 'package_url': 'https://pypi.org/project/sampleproject/',\n",
       " 'platform': 'UNKNOWN',\n",
       " 'project_url': 'https://pypi.org/project/sampleproject/',\n",
       " 'project_urls': {'Download': 'UNKNOWN',\n",
       "  'Homepage': 'https://github.com/pypa/sampleproject'},\n",
       " 'release_url': 'https://pypi.org/project/sampleproject/1.2.0/',\n",
       " 'requires_dist': None,\n",
       " 'requires_python': None,\n",
       " 'summary': 'A sample Python project',\n",
       " 'version': '1.2.0'}"
      ]
     },
     "execution_count": 14,
     "metadata": {},
     "output_type": "execute_result"
    }
   ],
   "source": [
    ">>> import json\n",
    ">>> import pprint\n",
    ">>> from urllib.request import urlopen\n",
    ">>> with urlopen('https://pypi.org/pypi/sampleproject/json') as resp:\n",
    "...     project_info = json.load(resp)['info']\n",
    ">>> pprint.pprint(project_info)\n",
    "{'author': 'The Python Packaging Authority',\n",
    " 'author_email': 'pypa-dev@googlegroups.com',\n",
    " 'bugtrack_url': None,\n",
    " 'classifiers': ['Development Status :: 3 - Alpha',\n",
    "                 'Intended Audience :: Developers',\n",
    "                 'License :: OSI Approved :: MIT License',\n",
    "                 'Programming Language :: Python :: 2',\n",
    "                 'Programming Language :: Python :: 2.6',\n",
    "                 'Programming Language :: Python :: 2.7',\n",
    "                 'Programming Language :: Python :: 3',\n",
    "                 'Programming Language :: Python :: 3.2',\n",
    "                 'Programming Language :: Python :: 3.3',\n",
    "                 'Programming Language :: Python :: 3.4',\n",
    "                 'Topic :: Software Development :: Build Tools'],\n",
    " 'description': 'A sample Python project\\n'\n",
    "                '=======================\\n'\n",
    "                '\\n'\n",
    "                'This is the description file for the project.\\n'\n",
    "                '\\n'\n",
    "                'The file should use UTF-8 encoding and be written using '\n",
    "                'ReStructured Text. It\\n'\n",
    "                'will be used to generate the project webpage on PyPI, and '\n",
    "                'should be written for\\n'\n",
    "                'that purpose.\\n'\n",
    "                '\\n'\n",
    "                'Typical contents for this file would include an overview of '\n",
    "                'the project, basic\\n'\n",
    "                'usage examples, etc. Generally, including the project '\n",
    "                'changelog in here is not\\n'\n",
    "                'a good idea, although a simple \"What\\'s New\" section for the '\n",
    "                'most recent version\\n'\n",
    "                'may be appropriate.',\n",
    " 'description_content_type': None,\n",
    " 'docs_url': None,\n",
    " 'download_url': 'UNKNOWN',\n",
    " 'downloads': {'last_day': -1, 'last_month': -1, 'last_week': -1},\n",
    " 'home_page': 'https://github.com/pypa/sampleproject',\n",
    " 'keywords': 'sample setuptools development',\n",
    " 'license': 'MIT',\n",
    " 'maintainer': None,\n",
    " 'maintainer_email': None,\n",
    " 'name': 'sampleproject',\n",
    " 'package_url': 'https://pypi.org/project/sampleproject/',\n",
    " 'platform': 'UNKNOWN',\n",
    " 'project_url': 'https://pypi.org/project/sampleproject/',\n",
    " 'project_urls': {'Download': 'UNKNOWN',\n",
    "                  'Homepage': 'https://github.com/pypa/sampleproject'},\n",
    " 'release_url': 'https://pypi.org/project/sampleproject/1.2.0/',\n",
    " 'requires_dist': None,\n",
    " 'requires_python': None,\n",
    " 'summary': 'A sample Python project',\n",
    " 'version': '1.2.0'}"
   ]
  },
  {
   "cell_type": "code",
   "execution_count": 29,
   "metadata": {},
   "outputs": [
    {
     "data": {
      "text/plain": [
       "1j"
      ]
     },
     "execution_count": 29,
     "metadata": {},
     "output_type": "execute_result"
    }
   ],
   "source": [
    "import cmath as c\n",
    "z = cmath.sqrt(-1)\n",
    "z"
   ]
  },
  {
   "cell_type": "code",
   "execution_count": 18,
   "metadata": {},
   "outputs": [
    {
     "name": "stderr",
     "output_type": "stream",
     "text": [
      "c:\\users\\lisak\\appdata\\local\\programs\\python\\python38\\lib\\site-packages\\plotly\\offline\\offline.py:562: UserWarning:\n",
      "\n",
      "Your filename `basic-scatter` didn't end with .html. Adding .html to the end of your file.\n",
      "\n"
     ]
    },
    {
     "data": {
      "text/plain": [
       "'basic-scatter.html'"
      ]
     },
     "execution_count": 18,
     "metadata": {},
     "output_type": "execute_result"
    }
   ],
   "source": [
    "import plotly\n",
    "import plotly.graph_objs as go\n",
    "\n",
    "# Create random data with numpy\n",
    "import numpy as np\n",
    "\n",
    "N = 10\n",
    "random_x = np.random.randn(N)\n",
    "random_y = np.random.randn(N)\n",
    "\n",
    "# Create a trace\n",
    "trace = go.Scatter(\n",
    "    x = random_x,\n",
    "    y = random_y,\n",
    "    mode = 'markers'\n",
    ")\n",
    "data = [trace]\n",
    "\n",
    "# Plot and embed in ipython notebook!\n",
    "plotly.offline.plot(data, filename='basic-scatter')"
   ]
  },
  {
   "cell_type": "code",
   "execution_count": 21,
   "metadata": {},
   "outputs": [
    {
     "data": {
      "text/html": [
       "        <script type=\"text/javascript\">\n",
       "        window.PlotlyConfig = {MathJaxConfig: 'local'};\n",
       "        if (window.MathJax) {MathJax.Hub.Config({SVG: {font: \"STIX-Web\"}});}\n",
       "        if (typeof require !== 'undefined') {\n",
       "        require.undef(\"plotly\");\n",
       "        requirejs.config({\n",
       "            paths: {\n",
       "                'plotly': ['https://cdn.plot.ly/plotly-latest.min']\n",
       "            }\n",
       "        });\n",
       "        require(['plotly'], function(Plotly) {\n",
       "            window._Plotly = Plotly;\n",
       "        });\n",
       "        }\n",
       "        </script>\n",
       "        "
      ]
     },
     "metadata": {},
     "output_type": "display_data"
    },
    {
     "data": {
      "application/vnd.plotly.v1+json": {
       "config": {
        "plotlyServerURL": "https://plot.ly"
       },
       "data": [
        {
         "hovertemplate": "t=%{x}<br>cos(t)=%{y}<extra></extra>",
         "legendgroup": "",
         "line": {
          "color": "#636efa",
          "dash": "solid"
         },
         "mode": "lines",
         "name": "",
         "orientation": "v",
         "showlegend": false,
         "type": "scatter",
         "x": [
          0,
          0.06346651825433926,
          0.12693303650867852,
          0.1903995547630178,
          0.25386607301735703,
          0.3173325912716963,
          0.3807991095260356,
          0.4442656277803748,
          0.5077321460347141,
          0.5711986642890533,
          0.6346651825433925,
          0.6981317007977318,
          0.7615982190520711,
          0.8250647373064104,
          0.8885312555607496,
          0.9519977738150889,
          1.0154642920694281,
          1.0789308103237674,
          1.1423973285781066,
          1.2058638468324459,
          1.269330365086785,
          1.3327968833411243,
          1.3962634015954636,
          1.4597299198498028,
          1.5231964381041423,
          1.5866629563584815,
          1.6501294746128208,
          1.71359599286716,
          1.7770625111214993,
          1.8405290293758385,
          1.9039955476301778,
          1.967462065884517,
          2.0309285841388562,
          2.0943951023931957,
          2.1578616206475347,
          2.221328138901874,
          2.284794657156213,
          2.3482611754105527,
          2.4117276936648917,
          2.475194211919231,
          2.53866073017357,
          2.6021272484279097,
          2.6655937666822487,
          2.729060284936588,
          2.792526803190927,
          2.8559933214452666,
          2.9194598396996057,
          2.982926357953945,
          3.0463928762082846,
          3.1098593944626236,
          3.173325912716963,
          3.236792430971302,
          3.3002589492256416,
          3.3637254674799806,
          3.42719198573432,
          3.490658503988659,
          3.5541250222429985,
          3.6175915404973376,
          3.681058058751677,
          3.744524577006016,
          3.8079910952603555,
          3.8714576135146945,
          3.934924131769034,
          3.998390650023373,
          4.0618571682777125,
          4.1253236865320515,
          4.188790204786391,
          4.25225672304073,
          4.3157232412950695,
          4.3791897595494085,
          4.442656277803748,
          4.506122796058087,
          4.569589314312426,
          4.6330558325667655,
          4.696522350821105,
          4.759988869075444,
          4.823455387329783,
          4.886921905584122,
          4.950388423838462,
          5.013854942092801,
          5.07732146034714,
          5.14078797860148,
          5.204254496855819,
          5.267721015110158,
          5.331187533364497,
          5.394654051618837,
          5.458120569873176,
          5.521587088127515,
          5.585053606381854,
          5.648520124636194,
          5.711986642890533,
          5.775453161144872,
          5.838919679399211,
          5.902386197653551,
          5.96585271590789,
          6.029319234162229,
          6.092785752416569,
          6.156252270670908,
          6.219718788925247,
          6.283185307179586
         ],
         "xaxis": "x",
         "y": [
          1,
          0.9979866764718844,
          0.9919548128307953,
          0.9819286972627067,
          0.9679487013963562,
          0.9500711177409454,
          0.9283679330160726,
          0.9029265382866212,
          0.8738493770697849,
          0.8412535328311812,
          0.8052702575310586,
          0.766044443118978,
          0.7237340381050702,
          0.6785094115571322,
          0.6305526670845225,
          0.5800569095711982,
          0.5272254676105024,
          0.4722710747726827,
          0.41541501300188644,
          0.3568862215918719,
          0.2969203753282749,
          0.23575893550942728,
          0.17364817766693041,
          0.1108381999010111,
          0.04758191582374218,
          -0.01586596383480803,
          -0.07924995685678854,
          -0.14231483827328523,
          -0.20480666806519074,
          -0.26647381369003503,
          -0.32706796331742166,
          -0.3863451256931287,
          -0.4440666126057741,
          -0.5000000000000002,
          -0.5539200638661103,
          -0.6056096871376668,
          -0.654860733945285,
          -0.7014748877063214,
          -0.7452644496757547,
          -0.7860530947427875,
          -0.8236765814298327,
          -0.8579834132349771,
          -0.8888354486549234,
          -0.9161084574320696,
          -0.9396926207859083,
          -0.9594929736144974,
          -0.975429786885407,
          -0.9874388886763943,
          -0.9954719225730846,
          -0.9994965423831851,
          -0.9994965423831851,
          -0.9954719225730846,
          -0.9874388886763943,
          -0.975429786885407,
          -0.9594929736144974,
          -0.9396926207859084,
          -0.9161084574320696,
          -0.8888354486549235,
          -0.857983413234977,
          -0.8236765814298328,
          -0.7860530947427874,
          -0.7452644496757548,
          -0.7014748877063213,
          -0.6548607339452852,
          -0.6056096871376666,
          -0.5539200638661105,
          -0.4999999999999996,
          -0.44406661260577396,
          -0.3863451256931287,
          -0.3270679633174219,
          -0.26647381369003464,
          -0.20480666806519054,
          -0.14231483827328523,
          -0.07924995685678879,
          -0.01586596383480761,
          0.04758191582374238,
          0.11083819990101086,
          0.17364817766692997,
          0.23575893550942748,
          0.2969203753282749,
          0.35688622159187167,
          0.4154150130018868,
          0.4722710747726829,
          0.5272254676105024,
          0.5800569095711979,
          0.6305526670845228,
          0.6785094115571323,
          0.7237340381050701,
          0.7660444431189778,
          0.8052702575310587,
          0.8412535328311812,
          0.8738493770697848,
          0.9029265382866211,
          0.9283679330160727,
          0.9500711177409454,
          0.9679487013963562,
          0.9819286972627068,
          0.9919548128307953,
          0.9979866764718844,
          1
         ],
         "yaxis": "y"
        }
       ],
       "layout": {
        "legend": {
         "tracegroupgap": 0
        },
        "margin": {
         "t": 60
        },
        "template": {
         "data": {
          "bar": [
           {
            "error_x": {
             "color": "#2a3f5f"
            },
            "error_y": {
             "color": "#2a3f5f"
            },
            "marker": {
             "line": {
              "color": "#E5ECF6",
              "width": 0.5
             }
            },
            "type": "bar"
           }
          ],
          "barpolar": [
           {
            "marker": {
             "line": {
              "color": "#E5ECF6",
              "width": 0.5
             }
            },
            "type": "barpolar"
           }
          ],
          "carpet": [
           {
            "aaxis": {
             "endlinecolor": "#2a3f5f",
             "gridcolor": "white",
             "linecolor": "white",
             "minorgridcolor": "white",
             "startlinecolor": "#2a3f5f"
            },
            "baxis": {
             "endlinecolor": "#2a3f5f",
             "gridcolor": "white",
             "linecolor": "white",
             "minorgridcolor": "white",
             "startlinecolor": "#2a3f5f"
            },
            "type": "carpet"
           }
          ],
          "choropleth": [
           {
            "colorbar": {
             "outlinewidth": 0,
             "ticks": ""
            },
            "type": "choropleth"
           }
          ],
          "contour": [
           {
            "colorbar": {
             "outlinewidth": 0,
             "ticks": ""
            },
            "colorscale": [
             [
              0,
              "#0d0887"
             ],
             [
              0.1111111111111111,
              "#46039f"
             ],
             [
              0.2222222222222222,
              "#7201a8"
             ],
             [
              0.3333333333333333,
              "#9c179e"
             ],
             [
              0.4444444444444444,
              "#bd3786"
             ],
             [
              0.5555555555555556,
              "#d8576b"
             ],
             [
              0.6666666666666666,
              "#ed7953"
             ],
             [
              0.7777777777777778,
              "#fb9f3a"
             ],
             [
              0.8888888888888888,
              "#fdca26"
             ],
             [
              1,
              "#f0f921"
             ]
            ],
            "type": "contour"
           }
          ],
          "contourcarpet": [
           {
            "colorbar": {
             "outlinewidth": 0,
             "ticks": ""
            },
            "type": "contourcarpet"
           }
          ],
          "heatmap": [
           {
            "colorbar": {
             "outlinewidth": 0,
             "ticks": ""
            },
            "colorscale": [
             [
              0,
              "#0d0887"
             ],
             [
              0.1111111111111111,
              "#46039f"
             ],
             [
              0.2222222222222222,
              "#7201a8"
             ],
             [
              0.3333333333333333,
              "#9c179e"
             ],
             [
              0.4444444444444444,
              "#bd3786"
             ],
             [
              0.5555555555555556,
              "#d8576b"
             ],
             [
              0.6666666666666666,
              "#ed7953"
             ],
             [
              0.7777777777777778,
              "#fb9f3a"
             ],
             [
              0.8888888888888888,
              "#fdca26"
             ],
             [
              1,
              "#f0f921"
             ]
            ],
            "type": "heatmap"
           }
          ],
          "heatmapgl": [
           {
            "colorbar": {
             "outlinewidth": 0,
             "ticks": ""
            },
            "colorscale": [
             [
              0,
              "#0d0887"
             ],
             [
              0.1111111111111111,
              "#46039f"
             ],
             [
              0.2222222222222222,
              "#7201a8"
             ],
             [
              0.3333333333333333,
              "#9c179e"
             ],
             [
              0.4444444444444444,
              "#bd3786"
             ],
             [
              0.5555555555555556,
              "#d8576b"
             ],
             [
              0.6666666666666666,
              "#ed7953"
             ],
             [
              0.7777777777777778,
              "#fb9f3a"
             ],
             [
              0.8888888888888888,
              "#fdca26"
             ],
             [
              1,
              "#f0f921"
             ]
            ],
            "type": "heatmapgl"
           }
          ],
          "histogram": [
           {
            "marker": {
             "colorbar": {
              "outlinewidth": 0,
              "ticks": ""
             }
            },
            "type": "histogram"
           }
          ],
          "histogram2d": [
           {
            "colorbar": {
             "outlinewidth": 0,
             "ticks": ""
            },
            "colorscale": [
             [
              0,
              "#0d0887"
             ],
             [
              0.1111111111111111,
              "#46039f"
             ],
             [
              0.2222222222222222,
              "#7201a8"
             ],
             [
              0.3333333333333333,
              "#9c179e"
             ],
             [
              0.4444444444444444,
              "#bd3786"
             ],
             [
              0.5555555555555556,
              "#d8576b"
             ],
             [
              0.6666666666666666,
              "#ed7953"
             ],
             [
              0.7777777777777778,
              "#fb9f3a"
             ],
             [
              0.8888888888888888,
              "#fdca26"
             ],
             [
              1,
              "#f0f921"
             ]
            ],
            "type": "histogram2d"
           }
          ],
          "histogram2dcontour": [
           {
            "colorbar": {
             "outlinewidth": 0,
             "ticks": ""
            },
            "colorscale": [
             [
              0,
              "#0d0887"
             ],
             [
              0.1111111111111111,
              "#46039f"
             ],
             [
              0.2222222222222222,
              "#7201a8"
             ],
             [
              0.3333333333333333,
              "#9c179e"
             ],
             [
              0.4444444444444444,
              "#bd3786"
             ],
             [
              0.5555555555555556,
              "#d8576b"
             ],
             [
              0.6666666666666666,
              "#ed7953"
             ],
             [
              0.7777777777777778,
              "#fb9f3a"
             ],
             [
              0.8888888888888888,
              "#fdca26"
             ],
             [
              1,
              "#f0f921"
             ]
            ],
            "type": "histogram2dcontour"
           }
          ],
          "mesh3d": [
           {
            "colorbar": {
             "outlinewidth": 0,
             "ticks": ""
            },
            "type": "mesh3d"
           }
          ],
          "parcoords": [
           {
            "line": {
             "colorbar": {
              "outlinewidth": 0,
              "ticks": ""
             }
            },
            "type": "parcoords"
           }
          ],
          "pie": [
           {
            "automargin": true,
            "type": "pie"
           }
          ],
          "scatter": [
           {
            "marker": {
             "colorbar": {
              "outlinewidth": 0,
              "ticks": ""
             }
            },
            "type": "scatter"
           }
          ],
          "scatter3d": [
           {
            "line": {
             "colorbar": {
              "outlinewidth": 0,
              "ticks": ""
             }
            },
            "marker": {
             "colorbar": {
              "outlinewidth": 0,
              "ticks": ""
             }
            },
            "type": "scatter3d"
           }
          ],
          "scattercarpet": [
           {
            "marker": {
             "colorbar": {
              "outlinewidth": 0,
              "ticks": ""
             }
            },
            "type": "scattercarpet"
           }
          ],
          "scattergeo": [
           {
            "marker": {
             "colorbar": {
              "outlinewidth": 0,
              "ticks": ""
             }
            },
            "type": "scattergeo"
           }
          ],
          "scattergl": [
           {
            "marker": {
             "colorbar": {
              "outlinewidth": 0,
              "ticks": ""
             }
            },
            "type": "scattergl"
           }
          ],
          "scattermapbox": [
           {
            "marker": {
             "colorbar": {
              "outlinewidth": 0,
              "ticks": ""
             }
            },
            "type": "scattermapbox"
           }
          ],
          "scatterpolar": [
           {
            "marker": {
             "colorbar": {
              "outlinewidth": 0,
              "ticks": ""
             }
            },
            "type": "scatterpolar"
           }
          ],
          "scatterpolargl": [
           {
            "marker": {
             "colorbar": {
              "outlinewidth": 0,
              "ticks": ""
             }
            },
            "type": "scatterpolargl"
           }
          ],
          "scatterternary": [
           {
            "marker": {
             "colorbar": {
              "outlinewidth": 0,
              "ticks": ""
             }
            },
            "type": "scatterternary"
           }
          ],
          "surface": [
           {
            "colorbar": {
             "outlinewidth": 0,
             "ticks": ""
            },
            "colorscale": [
             [
              0,
              "#0d0887"
             ],
             [
              0.1111111111111111,
              "#46039f"
             ],
             [
              0.2222222222222222,
              "#7201a8"
             ],
             [
              0.3333333333333333,
              "#9c179e"
             ],
             [
              0.4444444444444444,
              "#bd3786"
             ],
             [
              0.5555555555555556,
              "#d8576b"
             ],
             [
              0.6666666666666666,
              "#ed7953"
             ],
             [
              0.7777777777777778,
              "#fb9f3a"
             ],
             [
              0.8888888888888888,
              "#fdca26"
             ],
             [
              1,
              "#f0f921"
             ]
            ],
            "type": "surface"
           }
          ],
          "table": [
           {
            "cells": {
             "fill": {
              "color": "#EBF0F8"
             },
             "line": {
              "color": "white"
             }
            },
            "header": {
             "fill": {
              "color": "#C8D4E3"
             },
             "line": {
              "color": "white"
             }
            },
            "type": "table"
           }
          ]
         },
         "layout": {
          "annotationdefaults": {
           "arrowcolor": "#2a3f5f",
           "arrowhead": 0,
           "arrowwidth": 1
          },
          "coloraxis": {
           "colorbar": {
            "outlinewidth": 0,
            "ticks": ""
           }
          },
          "colorscale": {
           "diverging": [
            [
             0,
             "#8e0152"
            ],
            [
             0.1,
             "#c51b7d"
            ],
            [
             0.2,
             "#de77ae"
            ],
            [
             0.3,
             "#f1b6da"
            ],
            [
             0.4,
             "#fde0ef"
            ],
            [
             0.5,
             "#f7f7f7"
            ],
            [
             0.6,
             "#e6f5d0"
            ],
            [
             0.7,
             "#b8e186"
            ],
            [
             0.8,
             "#7fbc41"
            ],
            [
             0.9,
             "#4d9221"
            ],
            [
             1,
             "#276419"
            ]
           ],
           "sequential": [
            [
             0,
             "#0d0887"
            ],
            [
             0.1111111111111111,
             "#46039f"
            ],
            [
             0.2222222222222222,
             "#7201a8"
            ],
            [
             0.3333333333333333,
             "#9c179e"
            ],
            [
             0.4444444444444444,
             "#bd3786"
            ],
            [
             0.5555555555555556,
             "#d8576b"
            ],
            [
             0.6666666666666666,
             "#ed7953"
            ],
            [
             0.7777777777777778,
             "#fb9f3a"
            ],
            [
             0.8888888888888888,
             "#fdca26"
            ],
            [
             1,
             "#f0f921"
            ]
           ],
           "sequentialminus": [
            [
             0,
             "#0d0887"
            ],
            [
             0.1111111111111111,
             "#46039f"
            ],
            [
             0.2222222222222222,
             "#7201a8"
            ],
            [
             0.3333333333333333,
             "#9c179e"
            ],
            [
             0.4444444444444444,
             "#bd3786"
            ],
            [
             0.5555555555555556,
             "#d8576b"
            ],
            [
             0.6666666666666666,
             "#ed7953"
            ],
            [
             0.7777777777777778,
             "#fb9f3a"
            ],
            [
             0.8888888888888888,
             "#fdca26"
            ],
            [
             1,
             "#f0f921"
            ]
           ]
          },
          "colorway": [
           "#636efa",
           "#EF553B",
           "#00cc96",
           "#ab63fa",
           "#FFA15A",
           "#19d3f3",
           "#FF6692",
           "#B6E880",
           "#FF97FF",
           "#FECB52"
          ],
          "font": {
           "color": "#2a3f5f"
          },
          "geo": {
           "bgcolor": "white",
           "lakecolor": "white",
           "landcolor": "#E5ECF6",
           "showlakes": true,
           "showland": true,
           "subunitcolor": "white"
          },
          "hoverlabel": {
           "align": "left"
          },
          "hovermode": "closest",
          "mapbox": {
           "style": "light"
          },
          "paper_bgcolor": "white",
          "plot_bgcolor": "#E5ECF6",
          "polar": {
           "angularaxis": {
            "gridcolor": "white",
            "linecolor": "white",
            "ticks": ""
           },
           "bgcolor": "#E5ECF6",
           "radialaxis": {
            "gridcolor": "white",
            "linecolor": "white",
            "ticks": ""
           }
          },
          "scene": {
           "xaxis": {
            "backgroundcolor": "#E5ECF6",
            "gridcolor": "white",
            "gridwidth": 2,
            "linecolor": "white",
            "showbackground": true,
            "ticks": "",
            "zerolinecolor": "white"
           },
           "yaxis": {
            "backgroundcolor": "#E5ECF6",
            "gridcolor": "white",
            "gridwidth": 2,
            "linecolor": "white",
            "showbackground": true,
            "ticks": "",
            "zerolinecolor": "white"
           },
           "zaxis": {
            "backgroundcolor": "#E5ECF6",
            "gridcolor": "white",
            "gridwidth": 2,
            "linecolor": "white",
            "showbackground": true,
            "ticks": "",
            "zerolinecolor": "white"
           }
          },
          "shapedefaults": {
           "line": {
            "color": "#2a3f5f"
           }
          },
          "ternary": {
           "aaxis": {
            "gridcolor": "white",
            "linecolor": "white",
            "ticks": ""
           },
           "baxis": {
            "gridcolor": "white",
            "linecolor": "white",
            "ticks": ""
           },
           "bgcolor": "#E5ECF6",
           "caxis": {
            "gridcolor": "white",
            "linecolor": "white",
            "ticks": ""
           }
          },
          "title": {
           "x": 0.05
          },
          "xaxis": {
           "automargin": true,
           "gridcolor": "white",
           "linecolor": "white",
           "ticks": "",
           "title": {
            "standoff": 15
           },
           "zerolinecolor": "white",
           "zerolinewidth": 2
          },
          "yaxis": {
           "automargin": true,
           "gridcolor": "white",
           "linecolor": "white",
           "ticks": "",
           "title": {
            "standoff": 15
           },
           "zerolinecolor": "white",
           "zerolinewidth": 2
          }
         }
        },
        "xaxis": {
         "anchor": "y",
         "domain": [
          0,
          1
         ],
         "title": {
          "text": "t"
         }
        },
        "yaxis": {
         "anchor": "x",
         "domain": [
          0,
          1
         ],
         "title": {
          "text": "cos(t)"
         }
        }
       }
      },
      "text/html": [
       "<div>                            <div id=\"4294849b-260e-4b37-8c91-6519a4461d6e\" class=\"plotly-graph-div\" style=\"height:525px; width:100%;\"></div>            <script type=\"text/javascript\">                require([\"plotly\"], function(Plotly) {                    window.PLOTLYENV=window.PLOTLYENV || {};                                    if (document.getElementById(\"4294849b-260e-4b37-8c91-6519a4461d6e\")) {                    Plotly.newPlot(                        \"4294849b-260e-4b37-8c91-6519a4461d6e\",                        [{\"hovertemplate\": \"t=%{x}<br>cos(t)=%{y}<extra></extra>\", \"legendgroup\": \"\", \"line\": {\"color\": \"#636efa\", \"dash\": \"solid\"}, \"mode\": \"lines\", \"name\": \"\", \"orientation\": \"v\", \"showlegend\": false, \"type\": \"scatter\", \"x\": [0.0, 0.06346651825433926, 0.12693303650867852, 0.1903995547630178, 0.25386607301735703, 0.3173325912716963, 0.3807991095260356, 0.4442656277803748, 0.5077321460347141, 0.5711986642890533, 0.6346651825433925, 0.6981317007977318, 0.7615982190520711, 0.8250647373064104, 0.8885312555607496, 0.9519977738150889, 1.0154642920694281, 1.0789308103237674, 1.1423973285781066, 1.2058638468324459, 1.269330365086785, 1.3327968833411243, 1.3962634015954636, 1.4597299198498028, 1.5231964381041423, 1.5866629563584815, 1.6501294746128208, 1.71359599286716, 1.7770625111214993, 1.8405290293758385, 1.9039955476301778, 1.967462065884517, 2.0309285841388562, 2.0943951023931957, 2.1578616206475347, 2.221328138901874, 2.284794657156213, 2.3482611754105527, 2.4117276936648917, 2.475194211919231, 2.53866073017357, 2.6021272484279097, 2.6655937666822487, 2.729060284936588, 2.792526803190927, 2.8559933214452666, 2.9194598396996057, 2.982926357953945, 3.0463928762082846, 3.1098593944626236, 3.173325912716963, 3.236792430971302, 3.3002589492256416, 3.3637254674799806, 3.42719198573432, 3.490658503988659, 3.5541250222429985, 3.6175915404973376, 3.681058058751677, 3.744524577006016, 3.8079910952603555, 3.8714576135146945, 3.934924131769034, 3.998390650023373, 4.0618571682777125, 4.1253236865320515, 4.188790204786391, 4.25225672304073, 4.3157232412950695, 4.3791897595494085, 4.442656277803748, 4.506122796058087, 4.569589314312426, 4.6330558325667655, 4.696522350821105, 4.759988869075444, 4.823455387329783, 4.886921905584122, 4.950388423838462, 5.013854942092801, 5.07732146034714, 5.14078797860148, 5.204254496855819, 5.267721015110158, 5.331187533364497, 5.394654051618837, 5.458120569873176, 5.521587088127515, 5.585053606381854, 5.648520124636194, 5.711986642890533, 5.775453161144872, 5.838919679399211, 5.902386197653551, 5.96585271590789, 6.029319234162229, 6.092785752416569, 6.156252270670908, 6.219718788925247, 6.283185307179586], \"xaxis\": \"x\", \"y\": [1.0, 0.9979866764718844, 0.9919548128307953, 0.9819286972627067, 0.9679487013963562, 0.9500711177409454, 0.9283679330160726, 0.9029265382866212, 0.8738493770697849, 0.8412535328311812, 0.8052702575310586, 0.766044443118978, 0.7237340381050702, 0.6785094115571322, 0.6305526670845225, 0.5800569095711982, 0.5272254676105024, 0.4722710747726827, 0.41541501300188644, 0.3568862215918719, 0.2969203753282749, 0.23575893550942728, 0.17364817766693041, 0.1108381999010111, 0.04758191582374218, -0.01586596383480803, -0.07924995685678854, -0.14231483827328523, -0.20480666806519074, -0.26647381369003503, -0.32706796331742166, -0.3863451256931287, -0.4440666126057741, -0.5000000000000002, -0.5539200638661103, -0.6056096871376668, -0.654860733945285, -0.7014748877063214, -0.7452644496757547, -0.7860530947427875, -0.8236765814298327, -0.8579834132349771, -0.8888354486549234, -0.9161084574320696, -0.9396926207859083, -0.9594929736144974, -0.975429786885407, -0.9874388886763943, -0.9954719225730846, -0.9994965423831851, -0.9994965423831851, -0.9954719225730846, -0.9874388886763943, -0.975429786885407, -0.9594929736144974, -0.9396926207859084, -0.9161084574320696, -0.8888354486549235, -0.857983413234977, -0.8236765814298328, -0.7860530947427874, -0.7452644496757548, -0.7014748877063213, -0.6548607339452852, -0.6056096871376666, -0.5539200638661105, -0.4999999999999996, -0.44406661260577396, -0.3863451256931287, -0.3270679633174219, -0.26647381369003464, -0.20480666806519054, -0.14231483827328523, -0.07924995685678879, -0.01586596383480761, 0.04758191582374238, 0.11083819990101086, 0.17364817766692997, 0.23575893550942748, 0.2969203753282749, 0.35688622159187167, 0.4154150130018868, 0.4722710747726829, 0.5272254676105024, 0.5800569095711979, 0.6305526670845228, 0.6785094115571323, 0.7237340381050701, 0.7660444431189778, 0.8052702575310587, 0.8412535328311812, 0.8738493770697848, 0.9029265382866211, 0.9283679330160727, 0.9500711177409454, 0.9679487013963562, 0.9819286972627068, 0.9919548128307953, 0.9979866764718844, 1.0], \"yaxis\": \"y\"}],                        {\"legend\": {\"tracegroupgap\": 0}, \"margin\": {\"t\": 60}, \"template\": {\"data\": {\"bar\": [{\"error_x\": {\"color\": \"#2a3f5f\"}, \"error_y\": {\"color\": \"#2a3f5f\"}, \"marker\": {\"line\": {\"color\": \"#E5ECF6\", \"width\": 0.5}}, \"type\": \"bar\"}], \"barpolar\": [{\"marker\": {\"line\": {\"color\": \"#E5ECF6\", \"width\": 0.5}}, \"type\": \"barpolar\"}], \"carpet\": [{\"aaxis\": {\"endlinecolor\": \"#2a3f5f\", \"gridcolor\": \"white\", \"linecolor\": \"white\", \"minorgridcolor\": \"white\", \"startlinecolor\": \"#2a3f5f\"}, \"baxis\": {\"endlinecolor\": \"#2a3f5f\", \"gridcolor\": \"white\", \"linecolor\": \"white\", \"minorgridcolor\": \"white\", \"startlinecolor\": \"#2a3f5f\"}, \"type\": \"carpet\"}], \"choropleth\": [{\"colorbar\": {\"outlinewidth\": 0, \"ticks\": \"\"}, \"type\": \"choropleth\"}], \"contour\": [{\"colorbar\": {\"outlinewidth\": 0, \"ticks\": \"\"}, \"colorscale\": [[0.0, \"#0d0887\"], [0.1111111111111111, \"#46039f\"], [0.2222222222222222, \"#7201a8\"], [0.3333333333333333, \"#9c179e\"], [0.4444444444444444, \"#bd3786\"], [0.5555555555555556, \"#d8576b\"], [0.6666666666666666, \"#ed7953\"], [0.7777777777777778, \"#fb9f3a\"], [0.8888888888888888, \"#fdca26\"], [1.0, \"#f0f921\"]], \"type\": \"contour\"}], \"contourcarpet\": [{\"colorbar\": {\"outlinewidth\": 0, \"ticks\": \"\"}, \"type\": \"contourcarpet\"}], \"heatmap\": [{\"colorbar\": {\"outlinewidth\": 0, \"ticks\": \"\"}, \"colorscale\": [[0.0, \"#0d0887\"], [0.1111111111111111, \"#46039f\"], [0.2222222222222222, \"#7201a8\"], [0.3333333333333333, \"#9c179e\"], [0.4444444444444444, \"#bd3786\"], [0.5555555555555556, \"#d8576b\"], [0.6666666666666666, \"#ed7953\"], [0.7777777777777778, \"#fb9f3a\"], [0.8888888888888888, \"#fdca26\"], [1.0, \"#f0f921\"]], \"type\": \"heatmap\"}], \"heatmapgl\": [{\"colorbar\": {\"outlinewidth\": 0, \"ticks\": \"\"}, \"colorscale\": [[0.0, \"#0d0887\"], [0.1111111111111111, \"#46039f\"], [0.2222222222222222, \"#7201a8\"], [0.3333333333333333, \"#9c179e\"], [0.4444444444444444, \"#bd3786\"], [0.5555555555555556, \"#d8576b\"], [0.6666666666666666, \"#ed7953\"], [0.7777777777777778, \"#fb9f3a\"], [0.8888888888888888, \"#fdca26\"], [1.0, \"#f0f921\"]], \"type\": \"heatmapgl\"}], \"histogram\": [{\"marker\": {\"colorbar\": {\"outlinewidth\": 0, \"ticks\": \"\"}}, \"type\": \"histogram\"}], \"histogram2d\": [{\"colorbar\": {\"outlinewidth\": 0, \"ticks\": \"\"}, \"colorscale\": [[0.0, \"#0d0887\"], [0.1111111111111111, \"#46039f\"], [0.2222222222222222, \"#7201a8\"], [0.3333333333333333, \"#9c179e\"], [0.4444444444444444, \"#bd3786\"], [0.5555555555555556, \"#d8576b\"], [0.6666666666666666, \"#ed7953\"], [0.7777777777777778, \"#fb9f3a\"], [0.8888888888888888, \"#fdca26\"], [1.0, \"#f0f921\"]], \"type\": \"histogram2d\"}], \"histogram2dcontour\": [{\"colorbar\": {\"outlinewidth\": 0, \"ticks\": \"\"}, \"colorscale\": [[0.0, \"#0d0887\"], [0.1111111111111111, \"#46039f\"], [0.2222222222222222, \"#7201a8\"], [0.3333333333333333, \"#9c179e\"], [0.4444444444444444, \"#bd3786\"], [0.5555555555555556, \"#d8576b\"], [0.6666666666666666, \"#ed7953\"], [0.7777777777777778, \"#fb9f3a\"], [0.8888888888888888, \"#fdca26\"], [1.0, \"#f0f921\"]], \"type\": \"histogram2dcontour\"}], \"mesh3d\": [{\"colorbar\": {\"outlinewidth\": 0, \"ticks\": \"\"}, \"type\": \"mesh3d\"}], \"parcoords\": [{\"line\": {\"colorbar\": {\"outlinewidth\": 0, \"ticks\": \"\"}}, \"type\": \"parcoords\"}], \"pie\": [{\"automargin\": true, \"type\": \"pie\"}], \"scatter\": [{\"marker\": {\"colorbar\": {\"outlinewidth\": 0, \"ticks\": \"\"}}, \"type\": \"scatter\"}], \"scatter3d\": [{\"line\": {\"colorbar\": {\"outlinewidth\": 0, \"ticks\": \"\"}}, \"marker\": {\"colorbar\": {\"outlinewidth\": 0, \"ticks\": \"\"}}, \"type\": \"scatter3d\"}], \"scattercarpet\": [{\"marker\": {\"colorbar\": {\"outlinewidth\": 0, \"ticks\": \"\"}}, \"type\": \"scattercarpet\"}], \"scattergeo\": [{\"marker\": {\"colorbar\": {\"outlinewidth\": 0, \"ticks\": \"\"}}, \"type\": \"scattergeo\"}], \"scattergl\": [{\"marker\": {\"colorbar\": {\"outlinewidth\": 0, \"ticks\": \"\"}}, \"type\": \"scattergl\"}], \"scattermapbox\": [{\"marker\": {\"colorbar\": {\"outlinewidth\": 0, \"ticks\": \"\"}}, \"type\": \"scattermapbox\"}], \"scatterpolar\": [{\"marker\": {\"colorbar\": {\"outlinewidth\": 0, \"ticks\": \"\"}}, \"type\": \"scatterpolar\"}], \"scatterpolargl\": [{\"marker\": {\"colorbar\": {\"outlinewidth\": 0, \"ticks\": \"\"}}, \"type\": \"scatterpolargl\"}], \"scatterternary\": [{\"marker\": {\"colorbar\": {\"outlinewidth\": 0, \"ticks\": \"\"}}, \"type\": \"scatterternary\"}], \"surface\": [{\"colorbar\": {\"outlinewidth\": 0, \"ticks\": \"\"}, \"colorscale\": [[0.0, \"#0d0887\"], [0.1111111111111111, \"#46039f\"], [0.2222222222222222, \"#7201a8\"], [0.3333333333333333, \"#9c179e\"], [0.4444444444444444, \"#bd3786\"], [0.5555555555555556, \"#d8576b\"], [0.6666666666666666, \"#ed7953\"], [0.7777777777777778, \"#fb9f3a\"], [0.8888888888888888, \"#fdca26\"], [1.0, \"#f0f921\"]], \"type\": \"surface\"}], \"table\": [{\"cells\": {\"fill\": {\"color\": \"#EBF0F8\"}, \"line\": {\"color\": \"white\"}}, \"header\": {\"fill\": {\"color\": \"#C8D4E3\"}, \"line\": {\"color\": \"white\"}}, \"type\": \"table\"}]}, \"layout\": {\"annotationdefaults\": {\"arrowcolor\": \"#2a3f5f\", \"arrowhead\": 0, \"arrowwidth\": 1}, \"coloraxis\": {\"colorbar\": {\"outlinewidth\": 0, \"ticks\": \"\"}}, \"colorscale\": {\"diverging\": [[0, \"#8e0152\"], [0.1, \"#c51b7d\"], [0.2, \"#de77ae\"], [0.3, \"#f1b6da\"], [0.4, \"#fde0ef\"], [0.5, \"#f7f7f7\"], [0.6, \"#e6f5d0\"], [0.7, \"#b8e186\"], [0.8, \"#7fbc41\"], [0.9, \"#4d9221\"], [1, \"#276419\"]], \"sequential\": [[0.0, \"#0d0887\"], [0.1111111111111111, \"#46039f\"], [0.2222222222222222, \"#7201a8\"], [0.3333333333333333, \"#9c179e\"], [0.4444444444444444, \"#bd3786\"], [0.5555555555555556, \"#d8576b\"], [0.6666666666666666, \"#ed7953\"], [0.7777777777777778, \"#fb9f3a\"], [0.8888888888888888, \"#fdca26\"], [1.0, \"#f0f921\"]], \"sequentialminus\": [[0.0, \"#0d0887\"], [0.1111111111111111, \"#46039f\"], [0.2222222222222222, \"#7201a8\"], [0.3333333333333333, \"#9c179e\"], [0.4444444444444444, \"#bd3786\"], [0.5555555555555556, \"#d8576b\"], [0.6666666666666666, \"#ed7953\"], [0.7777777777777778, \"#fb9f3a\"], [0.8888888888888888, \"#fdca26\"], [1.0, \"#f0f921\"]]}, \"colorway\": [\"#636efa\", \"#EF553B\", \"#00cc96\", \"#ab63fa\", \"#FFA15A\", \"#19d3f3\", \"#FF6692\", \"#B6E880\", \"#FF97FF\", \"#FECB52\"], \"font\": {\"color\": \"#2a3f5f\"}, \"geo\": {\"bgcolor\": \"white\", \"lakecolor\": \"white\", \"landcolor\": \"#E5ECF6\", \"showlakes\": true, \"showland\": true, \"subunitcolor\": \"white\"}, \"hoverlabel\": {\"align\": \"left\"}, \"hovermode\": \"closest\", \"mapbox\": {\"style\": \"light\"}, \"paper_bgcolor\": \"white\", \"plot_bgcolor\": \"#E5ECF6\", \"polar\": {\"angularaxis\": {\"gridcolor\": \"white\", \"linecolor\": \"white\", \"ticks\": \"\"}, \"bgcolor\": \"#E5ECF6\", \"radialaxis\": {\"gridcolor\": \"white\", \"linecolor\": \"white\", \"ticks\": \"\"}}, \"scene\": {\"xaxis\": {\"backgroundcolor\": \"#E5ECF6\", \"gridcolor\": \"white\", \"gridwidth\": 2, \"linecolor\": \"white\", \"showbackground\": true, \"ticks\": \"\", \"zerolinecolor\": \"white\"}, \"yaxis\": {\"backgroundcolor\": \"#E5ECF6\", \"gridcolor\": \"white\", \"gridwidth\": 2, \"linecolor\": \"white\", \"showbackground\": true, \"ticks\": \"\", \"zerolinecolor\": \"white\"}, \"zaxis\": {\"backgroundcolor\": \"#E5ECF6\", \"gridcolor\": \"white\", \"gridwidth\": 2, \"linecolor\": \"white\", \"showbackground\": true, \"ticks\": \"\", \"zerolinecolor\": \"white\"}}, \"shapedefaults\": {\"line\": {\"color\": \"#2a3f5f\"}}, \"ternary\": {\"aaxis\": {\"gridcolor\": \"white\", \"linecolor\": \"white\", \"ticks\": \"\"}, \"baxis\": {\"gridcolor\": \"white\", \"linecolor\": \"white\", \"ticks\": \"\"}, \"bgcolor\": \"#E5ECF6\", \"caxis\": {\"gridcolor\": \"white\", \"linecolor\": \"white\", \"ticks\": \"\"}}, \"title\": {\"x\": 0.05}, \"xaxis\": {\"automargin\": true, \"gridcolor\": \"white\", \"linecolor\": \"white\", \"ticks\": \"\", \"title\": {\"standoff\": 15}, \"zerolinecolor\": \"white\", \"zerolinewidth\": 2}, \"yaxis\": {\"automargin\": true, \"gridcolor\": \"white\", \"linecolor\": \"white\", \"ticks\": \"\", \"title\": {\"standoff\": 15}, \"zerolinecolor\": \"white\", \"zerolinewidth\": 2}}}, \"xaxis\": {\"anchor\": \"y\", \"domain\": [0.0, 1.0], \"title\": {\"text\": \"t\"}}, \"yaxis\": {\"anchor\": \"x\", \"domain\": [0.0, 1.0], \"title\": {\"text\": \"cos(t)\"}}},                        {\"responsive\": true}                    ).then(function(){\n",
       "                            \n",
       "var gd = document.getElementById('4294849b-260e-4b37-8c91-6519a4461d6e');\n",
       "var x = new MutationObserver(function (mutations, observer) {{\n",
       "        var display = window.getComputedStyle(gd).display;\n",
       "        if (!display || display === 'none') {{\n",
       "            console.log([gd, 'removed!']);\n",
       "            Plotly.purge(gd);\n",
       "            observer.disconnect();\n",
       "        }}\n",
       "}});\n",
       "\n",
       "// Listen for the removal of the full notebook cells\n",
       "var notebookContainer = gd.closest('#notebook-container');\n",
       "if (notebookContainer) {{\n",
       "    x.observe(notebookContainer, {childList: true});\n",
       "}}\n",
       "\n",
       "// Listen for the clearing of the current output cell\n",
       "var outputEl = gd.closest('.output');\n",
       "if (outputEl) {{\n",
       "    x.observe(outputEl, {childList: true});\n",
       "}}\n",
       "\n",
       "                        })                };                });            </script>        </div>"
      ]
     },
     "metadata": {},
     "output_type": "display_data"
    }
   ],
   "source": [
    "import plotly.express as px\n",
    "import numpy as np\n",
    "from plotly.offline import download_plotlyjs, init_notebook_mode, plot, iplot\n",
    "\n",
    "init_notebook_mode(connected=True)\n",
    "\n",
    "t = np.linspace(0, 2*np.pi, 100)\n",
    "\n",
    "fig = px.line(x=t, y=np.cos(t), labels={'x':'t', 'y':'cos(t)'})\n",
    "fig.show()"
   ]
  },
  {
   "cell_type": "code",
   "execution_count": 17,
   "metadata": {},
   "outputs": [
    {
     "name": "stdout",
     "output_type": "stream",
     "text": [
      "    Symbol                    Name                  Sector\n",
      "0      MMM              3M Company             Industrials\n",
      "1      AOS         A.O. Smith Corp             Industrials\n",
      "2      ABT     Abbott Laboratories             Health Care\n",
      "3     ABBV             AbbVie Inc.             Health Care\n",
      "4     ABMD             ABIOMED Inc             Health Care\n",
      "..     ...                     ...                     ...\n",
      "500    YUM         Yum! Brands Inc  Consumer Discretionary\n",
      "501   ZBRA      Zebra Technologies  Information Technology\n",
      "502    ZBH  Zimmer Biomet Holdings             Health Care\n",
      "503   ZION           Zions Bancorp              Financials\n",
      "504    ZTS                  Zoetis             Health Care\n",
      "\n",
      "[505 rows x 3 columns]\n",
      "    Symbol                    Name                  Sector\n",
      "0      MMM              3M Company             Industrials\n",
      "1      AOS         A.O. Smith Corp             Industrials\n",
      "2      ABT     Abbott Laboratories             Health Care\n",
      "3     ABBV             AbbVie Inc.             Health Care\n",
      "4     ABMD             ABIOMED Inc             Health Care\n",
      "..     ...                     ...                     ...\n",
      "500    YUM         Yum! Brands Inc  Consumer Discretionary\n",
      "501   ZBRA      Zebra Technologies  Information Technology\n",
      "502    ZBH  Zimmer Biomet Holdings             Health Care\n",
      "503   ZION           Zions Bancorp              Financials\n",
      "504    ZTS                  Zoetis             Health Care\n",
      "\n",
      "[505 rows x 3 columns]\n"
     ]
    }
   ],
   "source": [
    "import datapackage\n",
    "import pandas as pd\n",
    "\n",
    "data_url = 'https://datahub.io/core/s-and-p-500-companies/datapackage.json'\n",
    "\n",
    "# to load Data Package into storage\n",
    "package = datapackage.Package(data_url)\n",
    "\n",
    "# to load only tabular data\n",
    "resources = package.resources\n",
    "for resource in resources:\n",
    "    if resource.tabular:\n",
    "        data = pd.read_csv(resource.descriptor['path'])\n",
    "        print (data)"
   ]
  },
  {
   "cell_type": "code",
   "execution_count": null,
   "metadata": {},
   "outputs": [],
   "source": []
  }
 ],
 "metadata": {
  "kernelspec": {
   "display_name": "Python 3",
   "language": "python",
   "name": "python3"
  },
  "language_info": {
   "codemirror_mode": {
    "name": "ipython",
    "version": 3
   },
   "file_extension": ".py",
   "mimetype": "text/x-python",
   "name": "python",
   "nbconvert_exporter": "python",
   "pygments_lexer": "ipython3",
   "version": "3.8.3"
  }
 },
 "nbformat": 4,
 "nbformat_minor": 4
}
